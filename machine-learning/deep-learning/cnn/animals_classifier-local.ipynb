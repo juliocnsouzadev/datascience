{
 "cells": [
  {
   "cell_type": "markdown",
   "metadata": {
    "colab_type": "text",
    "id": "iTYk-0EdutTA"
   },
   "source": [
    "# Cow vs Horse Classifier "
   ]
  },
  {
   "cell_type": "markdown",
   "metadata": {
    "colab_type": "text",
    "id": "SuB_Hu4svEml"
   },
   "source": [
    "## Import Libs"
   ]
  },
  {
   "cell_type": "code",
   "execution_count": 28,
   "metadata": {
    "colab": {},
    "colab_type": "code",
    "id": "P1UdD2g9NHGn"
   },
   "outputs": [],
   "source": [
    "import numpy as np\n",
    "import tensorflow as tf\n",
    "from keras.preprocessing import image\n",
    "import glob\n",
    "import os"
   ]
  },
  {
   "cell_type": "code",
   "execution_count": 29,
   "metadata": {
    "colab": {},
    "colab_type": "code",
    "id": "BBMBeW8KHbct"
   },
   "outputs": [
    {
     "data": {
      "text/plain": [
       "'2.2.0'"
      ]
     },
     "execution_count": 29,
     "metadata": {},
     "output_type": "execute_result"
    }
   ],
   "source": [
    "tf.__version__"
   ]
  },
  {
   "cell_type": "markdown",
   "metadata": {
    "colab_type": "text",
    "id": "XLfPDCjivPJ8"
   },
   "source": [
    "## Preprocessing Data"
   ]
  },
  {
   "cell_type": "markdown",
   "metadata": {
    "colab_type": "text",
    "id": "WtNqejES2ko6"
   },
   "source": [
    "### Definitions"
   ]
  },
  {
   "cell_type": "code",
   "execution_count": 30,
   "metadata": {
    "colab": {},
    "colab_type": "code",
    "id": "9HEvjP40lx16"
   },
   "outputs": [],
   "source": [
    "rescale_default = 1./255\n",
    "shear_range_default=0.2\n",
    "zoom_range_default=0.2\n",
    "target_size_default=(64, 64)\n",
    "batch_size_default=32\n",
    "class_mode_default='binary'\n",
    "input_shape_default = [target_size_default[0], target_size_default[1], 3]\n",
    "main_path = r'D:\\Github\\julio-repos\\datascience\\datasets\\cows-and-horses'\n",
    "train_folder = main_path + '\\\\train'\n",
    "test_folder = main_path + '\\\\test'\n",
    "validaton_folder = main_path + '\\\\validation'\n",
    "epochs_default = 30"
   ]
  },
  {
   "cell_type": "code",
   "execution_count": 31,
   "metadata": {
    "colab": {},
    "colab_type": "code",
    "id": "wAdJPs8IvS-Q"
   },
   "outputs": [],
   "source": [
    "def preprocess():\n",
    "    train_datagen = image.ImageDataGenerator(\n",
    "          rescale=rescale_default,\n",
    "          shear_range= shear_range_default,\n",
    "          zoom_range=zoom_range_default,\n",
    "          horizontal_flip=True)\n",
    "    train_set = train_datagen.flow_from_directory(\n",
    "          train_folder,\n",
    "          target_size=target_size_default,\n",
    "          batch_size=batch_size_default,\n",
    "          class_mode=class_mode_default)\n",
    "    test_datagen = image.ImageDataGenerator(rescale=rescale_default)\n",
    "    test_set = test_datagen.flow_from_directory(\n",
    "        test_folder,\n",
    "        target_size=target_size_default,\n",
    "        batch_size=batch_size_default,\n",
    "        class_mode=class_mode_default)\n",
    "    return train_set, test_set"
   ]
  },
  {
   "cell_type": "markdown",
   "metadata": {
    "colab_type": "text",
    "id": "FrbrH1D-3bWC"
   },
   "source": [
    "### Get Test And Train Sets"
   ]
  },
  {
   "cell_type": "code",
   "execution_count": 32,
   "metadata": {
    "colab": {},
    "colab_type": "code",
    "id": "AA9sZBZXLgFU"
   },
   "outputs": [
    {
     "name": "stdout",
     "output_type": "stream",
     "text": [
      "Found 3030 images belonging to 2 classes.\n",
      "Found 400 images belonging to 2 classes.\n"
     ]
    }
   ],
   "source": [
    "test_set, train_set = preprocess()"
   ]
  },
  {
   "cell_type": "markdown",
   "metadata": {
    "colab_type": "text",
    "id": "7PQAItbCvglE"
   },
   "source": [
    "## Init Model and Layers"
   ]
  },
  {
   "cell_type": "markdown",
   "metadata": {
    "colab_type": "text",
    "id": "4wgZHuhE5K9R"
   },
   "source": [
    "### Methods"
   ]
  },
  {
   "cell_type": "code",
   "execution_count": 33,
   "metadata": {
    "colab": {},
    "colab_type": "code",
    "id": "w9T9YiZYvicS"
   },
   "outputs": [],
   "source": [
    "def get_cnn():\n",
    "    cnn = tf.keras.models.Sequential()\n",
    "    return cnn\n",
    "\n",
    "def get_layer(first=False):\n",
    "    if (first):\n",
    "        conv_layer = tf.keras.layers.Conv2D(\n",
    "          filters=32,\n",
    "          kernel_size = 3,\n",
    "          activation = 'relu'\n",
    "          )\n",
    "        return conv_layer\n",
    "    conv_layer = tf.keras.layers.Conv2D(\n",
    "        filters=32,\n",
    "        kernel_size = 3,\n",
    "        activation = 'relu',\n",
    "        input_shape = input_shape_default\n",
    "        )\n",
    "    return conv_layer\n",
    "\n",
    "def get_pooling():\n",
    "    max_pooling_layer = tf.keras.layers.MaxPool2D(pool_size=(2,2), strides=2)\n",
    "    return max_pooling_layer\n",
    "\n",
    "def flatten(cnn):\n",
    "    cnn.add(tf.keras.layers.Flatten())\n",
    "\n",
    "def add_full_connection(cnn):\n",
    "    outputLayer = tf.keras.layers.Dense(units=128, activation='relu')\n",
    "    cnn.add(outputLayer)\n",
    "\n",
    "def add_output_layer(cnn):\n",
    "    outputLayer = tf.keras.layers.Dense(units=1, activation='sigmoid')\n",
    "    cnn.add(outputLayer)\n",
    "\n",
    "def build_full_model(num_layers=2, shoudl_compile=True):\n",
    "    cnn = get_cnn()\n",
    "    for i in range(num_layers):\n",
    "        first = i == 0\n",
    "        layer = get_layer(first)\n",
    "        pooling = get_pooling()\n",
    "        cnn.add(layer)\n",
    "        cnn.add(pooling)\n",
    "    flatten(cnn)\n",
    "    if num_layers > 2:\n",
    "        cnn.add(tf.keras.layers.Dropout(0.5))\n",
    "    add_full_connection(cnn)\n",
    "    add_output_layer(cnn)\n",
    "    if shoudl_compile:\n",
    "        cnn.compile(optimizer = 'adam', loss = 'binary_crossentropy', metrics = ['accuracy'])\n",
    "    return cnn\n",
    "\n",
    "def train(cnn, train_set,test_set, epochs):\n",
    "    cnn.fit(x= train_set, validation_data= test_set, epochs=epochs)"
   ]
  },
  {
   "cell_type": "markdown",
   "metadata": {
    "colab_type": "text",
    "id": "gv13ZLzrwW_1"
   },
   "source": [
    "## Build, Training and Evaluating"
   ]
  },
  {
   "cell_type": "code",
   "execution_count": 34,
   "metadata": {
    "colab": {},
    "colab_type": "code",
    "id": "VLs8LnSfwdCT"
   },
   "outputs": [
    {
     "name": "stdout",
     "output_type": "stream",
     "text": [
      "Epoch 1/30\n",
      "13/13 [==============================] - 7s 577ms/step - loss: 0.7044 - accuracy: 0.4975 - val_loss: 0.6939 - val_accuracy: 0.5000\n",
      "Epoch 2/30\n",
      "13/13 [==============================] - 10s 745ms/step - loss: 0.6933 - accuracy: 0.5275 - val_loss: 0.6941 - val_accuracy: 0.5000\n",
      "Epoch 3/30\n",
      "13/13 [==============================] - 11s 873ms/step - loss: 0.6864 - accuracy: 0.5525 - val_loss: 0.6907 - val_accuracy: 0.5003\n",
      "Epoch 4/30\n",
      "13/13 [==============================] - 9s 712ms/step - loss: 0.6841 - accuracy: 0.5375 - val_loss: 0.7057 - val_accuracy: 0.5000\n",
      "Epoch 5/30\n",
      "13/13 [==============================] - 10s 768ms/step - loss: 0.6845 - accuracy: 0.5750 - val_loss: 0.6876 - val_accuracy: 0.5139\n",
      "Epoch 6/30\n",
      "13/13 [==============================] - 10s 793ms/step - loss: 0.6767 - accuracy: 0.5875 - val_loss: 0.6753 - val_accuracy: 0.5782\n",
      "Epoch 7/30\n",
      "13/13 [==============================] - 8s 621ms/step - loss: 0.6593 - accuracy: 0.6225 - val_loss: 0.6565 - val_accuracy: 0.6251\n",
      "Epoch 8/30\n",
      "13/13 [==============================] - 8s 645ms/step - loss: 0.6362 - accuracy: 0.6425 - val_loss: 0.6681 - val_accuracy: 0.5868\n",
      "Epoch 9/30\n",
      "13/13 [==============================] - 8s 608ms/step - loss: 0.6166 - accuracy: 0.6800 - val_loss: 0.6515 - val_accuracy: 0.6142\n",
      "Epoch 10/30\n",
      "13/13 [==============================] - 8s 631ms/step - loss: 0.6084 - accuracy: 0.6800 - val_loss: 0.6448 - val_accuracy: 0.6211\n",
      "Epoch 11/30\n",
      "13/13 [==============================] - 8s 607ms/step - loss: 0.5743 - accuracy: 0.7000 - val_loss: 0.6538 - val_accuracy: 0.6056\n",
      "Epoch 12/30\n",
      "13/13 [==============================] - 8s 634ms/step - loss: 0.5564 - accuracy: 0.7300 - val_loss: 0.6329 - val_accuracy: 0.6353\n",
      "Epoch 13/30\n",
      "13/13 [==============================] - 8s 617ms/step - loss: 0.5214 - accuracy: 0.7400 - val_loss: 0.6311 - val_accuracy: 0.6446\n",
      "Epoch 14/30\n",
      "13/13 [==============================] - 10s 771ms/step - loss: 0.5351 - accuracy: 0.7400 - val_loss: 0.6345 - val_accuracy: 0.6465\n",
      "Epoch 15/30\n",
      "13/13 [==============================] - 8s 643ms/step - loss: 0.5111 - accuracy: 0.7525 - val_loss: 0.6241 - val_accuracy: 0.6452\n",
      "Epoch 16/30\n",
      "13/13 [==============================] - 9s 683ms/step - loss: 0.4660 - accuracy: 0.8000 - val_loss: 0.6133 - val_accuracy: 0.6604\n",
      "Epoch 17/30\n",
      "13/13 [==============================] - 9s 707ms/step - loss: 0.4521 - accuracy: 0.7950 - val_loss: 0.6373 - val_accuracy: 0.6389\n",
      "Epoch 18/30\n",
      "13/13 [==============================] - 8s 627ms/step - loss: 0.4400 - accuracy: 0.7850 - val_loss: 0.6252 - val_accuracy: 0.6640\n",
      "Epoch 19/30\n",
      "13/13 [==============================] - 10s 784ms/step - loss: 0.3839 - accuracy: 0.8325 - val_loss: 0.6276 - val_accuracy: 0.6574\n",
      "Epoch 20/30\n",
      "13/13 [==============================] - 12s 899ms/step - loss: 0.3460 - accuracy: 0.8400 - val_loss: 0.6202 - val_accuracy: 0.6736\n",
      "Epoch 21/30\n",
      "13/13 [==============================] - 11s 884ms/step - loss: 0.2952 - accuracy: 0.8975 - val_loss: 0.6433 - val_accuracy: 0.6713\n",
      "Epoch 22/30\n",
      "13/13 [==============================] - 9s 717ms/step - loss: 0.3029 - accuracy: 0.8750 - val_loss: 0.6658 - val_accuracy: 0.6584\n",
      "Epoch 23/30\n",
      "13/13 [==============================] - 9s 673ms/step - loss: 0.3205 - accuracy: 0.8550 - val_loss: 0.6266 - val_accuracy: 0.6779\n",
      "Epoch 24/30\n",
      "13/13 [==============================] - 9s 655ms/step - loss: 0.2649 - accuracy: 0.9025 - val_loss: 0.6316 - val_accuracy: 0.6898\n",
      "Epoch 25/30\n",
      "13/13 [==============================] - 9s 704ms/step - loss: 0.2356 - accuracy: 0.9150 - val_loss: 0.6649 - val_accuracy: 0.6848\n",
      "Epoch 26/30\n",
      "13/13 [==============================] - 9s 687ms/step - loss: 0.2302 - accuracy: 0.8900 - val_loss: 0.6682 - val_accuracy: 0.6630\n",
      "Epoch 27/30\n",
      "13/13 [==============================] - 10s 778ms/step - loss: 0.2273 - accuracy: 0.9175 - val_loss: 0.7023 - val_accuracy: 0.6683\n",
      "Epoch 28/30\n",
      "13/13 [==============================] - 9s 692ms/step - loss: 0.1909 - accuracy: 0.9300 - val_loss: 0.6491 - val_accuracy: 0.7033\n",
      "Epoch 29/30\n",
      "13/13 [==============================] - 10s 769ms/step - loss: 0.1796 - accuracy: 0.9075 - val_loss: 0.7415 - val_accuracy: 0.6901\n",
      "Epoch 30/30\n",
      "13/13 [==============================] - 9s 671ms/step - loss: 0.2337 - accuracy: 0.9100 - val_loss: 0.6416 - val_accuracy: 0.6848\n"
     ]
    }
   ],
   "source": [
    "cnn = build_full_model(num_layers=3)\n",
    "train(cnn, train_set,test_set, epochs_default)"
   ]
  },
  {
   "cell_type": "markdown",
   "metadata": {
    "colab_type": "text",
    "id": "szGWKZ70wdvl"
   },
   "source": [
    "## Predictions"
   ]
  },
  {
   "cell_type": "code",
   "execution_count": 40,
   "metadata": {
    "colab": {},
    "colab_type": "code",
    "id": "hxBqoUyowg4K"
   },
   "outputs": [],
   "source": [
    "def predict_item(model, image_path, target_size):\n",
    "    image_predict = image.load_img(image_path, target_size= target_size)\n",
    "    image_predict = image.img_to_array(image_predict)\n",
    "    image_predict = np.expand_dims(image_predict,axis=0)  # Convert single image to a batch.\n",
    "    predictions = model.predict(image_predict)\n",
    "    return predictions\n",
    "\n",
    "def predict_class(train_set, predictions):\n",
    "    indices = train_set.class_indices\n",
    "    reverse_indices = {}\n",
    "    for x, y in indices.items():\n",
    "        reverse_indices[str(y)] = x\n",
    "    idx = int(predictions[0][0])\n",
    "    return reverse_indices[str(idx)]\n",
    "\n",
    "def predict_many(model, train_set, folder_path, target_size, expected_class):\n",
    "    images_paths = glob.glob(folder_path)\n",
    "    predictions_list = []\n",
    "    for image_path in images_paths:\n",
    "        predictions = predict_item(model, image_path, target_size)\n",
    "        class_predicted = predict_class(train_set, predictions)\n",
    "        prediction = {\n",
    "            'expected':expected_class.lower(),\n",
    "            'found': class_predicted.lower(),\n",
    "            'got_it_rigth': expected_class.lower() == class_predicted.lower()\n",
    "            }\n",
    "        predictions_list.append(prediction)\n",
    "    return predictions_list\n",
    "\n",
    "def print_predictions(predictions_list):\n",
    "    rights = filter(lambda item: item['got_it_rigth'] == True, predictions_list)\n",
    "    _percent_right = len(list(rights)) / len(predictions_list)\n",
    "    print(\"% righs {}\".format(_percent_right * 100))\n",
    "    for idx, item in enumerate(predictions_list):\n",
    "        print(\"#{} Expected: {} - Found: {} - Right? {}\".format(idx,item['expected'], item['found'], item['got_it_rigth']))"
   ]
  },
  {
   "cell_type": "code",
   "execution_count": 41,
   "metadata": {
    "colab": {},
    "colab_type": "code",
    "id": "G8aoTBFIP7Tr"
   },
   "outputs": [],
   "source": [
    "validation_cows = validaton_folder + '/cows/*'\n",
    "validation_horses = validaton_folder + '/horses/*'"
   ]
  },
  {
   "cell_type": "code",
   "execution_count": 42,
   "metadata": {
    "colab": {},
    "colab_type": "code",
    "id": "qaXD08RhYw25"
   },
   "outputs": [],
   "source": [
    "cows_result = predict_many(cnn, train_set, validation_cows, target_size_default,'cows')\n",
    "horses_result = predict_many(cnn, train_set, validation_horses, target_size_default,'horses')"
   ]
  },
  {
   "cell_type": "code",
   "execution_count": 43,
   "metadata": {
    "colab": {},
    "colab_type": "code",
    "id": "ZEFX1FfGRMtD"
   },
   "outputs": [
    {
     "name": "stdout",
     "output_type": "stream",
     "text": [
      "% righs 69.5364238410596\n",
      "#0 Expected: cows - Found: horses - Right? False\n",
      "#1 Expected: cows - Found: cows - Right? True\n",
      "#2 Expected: cows - Found: horses - Right? False\n",
      "#3 Expected: cows - Found: cows - Right? True\n",
      "#4 Expected: cows - Found: cows - Right? True\n",
      "#5 Expected: cows - Found: horses - Right? False\n",
      "#6 Expected: cows - Found: horses - Right? False\n",
      "#7 Expected: cows - Found: horses - Right? False\n",
      "#8 Expected: cows - Found: horses - Right? False\n",
      "#9 Expected: cows - Found: cows - Right? True\n",
      "#10 Expected: cows - Found: cows - Right? True\n",
      "#11 Expected: cows - Found: cows - Right? True\n",
      "#12 Expected: cows - Found: cows - Right? True\n",
      "#13 Expected: cows - Found: horses - Right? False\n",
      "#14 Expected: cows - Found: cows - Right? True\n",
      "#15 Expected: cows - Found: cows - Right? True\n",
      "#16 Expected: cows - Found: cows - Right? True\n",
      "#17 Expected: cows - Found: cows - Right? True\n",
      "#18 Expected: cows - Found: cows - Right? True\n",
      "#19 Expected: cows - Found: cows - Right? True\n",
      "#20 Expected: cows - Found: cows - Right? True\n",
      "#21 Expected: cows - Found: horses - Right? False\n",
      "#22 Expected: cows - Found: cows - Right? True\n",
      "#23 Expected: cows - Found: horses - Right? False\n",
      "#24 Expected: cows - Found: horses - Right? False\n",
      "#25 Expected: cows - Found: horses - Right? False\n",
      "#26 Expected: cows - Found: cows - Right? True\n",
      "#27 Expected: cows - Found: horses - Right? False\n",
      "#28 Expected: cows - Found: horses - Right? False\n",
      "#29 Expected: cows - Found: cows - Right? True\n",
      "#30 Expected: cows - Found: cows - Right? True\n",
      "#31 Expected: cows - Found: cows - Right? True\n",
      "#32 Expected: cows - Found: cows - Right? True\n",
      "#33 Expected: cows - Found: cows - Right? True\n",
      "#34 Expected: cows - Found: cows - Right? True\n",
      "#35 Expected: cows - Found: cows - Right? True\n",
      "#36 Expected: cows - Found: cows - Right? True\n",
      "#37 Expected: cows - Found: cows - Right? True\n",
      "#38 Expected: cows - Found: horses - Right? False\n",
      "#39 Expected: cows - Found: cows - Right? True\n",
      "#40 Expected: cows - Found: cows - Right? True\n",
      "#41 Expected: cows - Found: horses - Right? False\n",
      "#42 Expected: cows - Found: cows - Right? True\n",
      "#43 Expected: cows - Found: cows - Right? True\n",
      "#44 Expected: cows - Found: cows - Right? True\n",
      "#45 Expected: cows - Found: horses - Right? False\n",
      "#46 Expected: cows - Found: horses - Right? False\n",
      "#47 Expected: cows - Found: horses - Right? False\n",
      "#48 Expected: cows - Found: cows - Right? True\n",
      "#49 Expected: cows - Found: cows - Right? True\n",
      "#50 Expected: cows - Found: cows - Right? True\n",
      "#51 Expected: cows - Found: cows - Right? True\n",
      "#52 Expected: cows - Found: cows - Right? True\n",
      "#53 Expected: cows - Found: cows - Right? True\n",
      "#54 Expected: cows - Found: cows - Right? True\n",
      "#55 Expected: cows - Found: cows - Right? True\n",
      "#56 Expected: cows - Found: cows - Right? True\n",
      "#57 Expected: cows - Found: horses - Right? False\n",
      "#58 Expected: cows - Found: cows - Right? True\n",
      "#59 Expected: cows - Found: horses - Right? False\n",
      "#60 Expected: cows - Found: cows - Right? True\n",
      "#61 Expected: cows - Found: horses - Right? False\n",
      "#62 Expected: cows - Found: cows - Right? True\n",
      "#63 Expected: cows - Found: cows - Right? True\n",
      "#64 Expected: cows - Found: cows - Right? True\n",
      "#65 Expected: cows - Found: horses - Right? False\n",
      "#66 Expected: cows - Found: cows - Right? True\n",
      "#67 Expected: cows - Found: cows - Right? True\n",
      "#68 Expected: cows - Found: horses - Right? False\n",
      "#69 Expected: cows - Found: horses - Right? False\n",
      "#70 Expected: cows - Found: cows - Right? True\n",
      "#71 Expected: cows - Found: cows - Right? True\n",
      "#72 Expected: cows - Found: cows - Right? True\n",
      "#73 Expected: cows - Found: cows - Right? True\n",
      "#74 Expected: cows - Found: cows - Right? True\n",
      "#75 Expected: cows - Found: cows - Right? True\n",
      "#76 Expected: cows - Found: cows - Right? True\n",
      "#77 Expected: cows - Found: cows - Right? True\n",
      "#78 Expected: cows - Found: horses - Right? False\n",
      "#79 Expected: cows - Found: cows - Right? True\n",
      "#80 Expected: cows - Found: cows - Right? True\n",
      "#81 Expected: cows - Found: cows - Right? True\n",
      "#82 Expected: cows - Found: cows - Right? True\n",
      "#83 Expected: cows - Found: cows - Right? True\n",
      "#84 Expected: cows - Found: cows - Right? True\n",
      "#85 Expected: cows - Found: horses - Right? False\n",
      "#86 Expected: cows - Found: cows - Right? True\n",
      "#87 Expected: cows - Found: cows - Right? True\n",
      "#88 Expected: cows - Found: horses - Right? False\n",
      "#89 Expected: cows - Found: cows - Right? True\n",
      "#90 Expected: cows - Found: cows - Right? True\n",
      "#91 Expected: cows - Found: cows - Right? True\n",
      "#92 Expected: cows - Found: horses - Right? False\n",
      "#93 Expected: cows - Found: cows - Right? True\n",
      "#94 Expected: cows - Found: cows - Right? True\n",
      "#95 Expected: cows - Found: cows - Right? True\n",
      "#96 Expected: cows - Found: cows - Right? True\n",
      "#97 Expected: cows - Found: horses - Right? False\n",
      "#98 Expected: cows - Found: cows - Right? True\n",
      "#99 Expected: cows - Found: cows - Right? True\n",
      "#100 Expected: cows - Found: cows - Right? True\n",
      "#101 Expected: cows - Found: horses - Right? False\n",
      "#102 Expected: cows - Found: cows - Right? True\n",
      "#103 Expected: cows - Found: cows - Right? True\n",
      "#104 Expected: cows - Found: cows - Right? True\n",
      "#105 Expected: cows - Found: cows - Right? True\n",
      "#106 Expected: cows - Found: cows - Right? True\n",
      "#107 Expected: cows - Found: horses - Right? False\n",
      "#108 Expected: cows - Found: cows - Right? True\n",
      "#109 Expected: cows - Found: horses - Right? False\n",
      "#110 Expected: cows - Found: cows - Right? True\n",
      "#111 Expected: cows - Found: cows - Right? True\n",
      "#112 Expected: cows - Found: horses - Right? False\n",
      "#113 Expected: cows - Found: horses - Right? False\n",
      "#114 Expected: cows - Found: cows - Right? True\n",
      "#115 Expected: cows - Found: horses - Right? False\n",
      "#116 Expected: cows - Found: cows - Right? True\n",
      "#117 Expected: cows - Found: cows - Right? True\n",
      "#118 Expected: cows - Found: horses - Right? False\n",
      "#119 Expected: cows - Found: cows - Right? True\n",
      "#120 Expected: cows - Found: cows - Right? True\n",
      "#121 Expected: cows - Found: cows - Right? True\n",
      "#122 Expected: cows - Found: cows - Right? True\n",
      "#123 Expected: cows - Found: horses - Right? False\n",
      "#124 Expected: cows - Found: horses - Right? False\n",
      "#125 Expected: cows - Found: cows - Right? True\n",
      "#126 Expected: cows - Found: cows - Right? True\n",
      "#127 Expected: cows - Found: cows - Right? True\n",
      "#128 Expected: cows - Found: cows - Right? True\n",
      "#129 Expected: cows - Found: horses - Right? False\n",
      "#130 Expected: cows - Found: horses - Right? False\n",
      "#131 Expected: cows - Found: cows - Right? True\n",
      "#132 Expected: cows - Found: horses - Right? False\n",
      "#133 Expected: cows - Found: cows - Right? True\n",
      "#134 Expected: cows - Found: cows - Right? True\n",
      "#135 Expected: cows - Found: cows - Right? True\n",
      "#136 Expected: cows - Found: cows - Right? True\n",
      "#137 Expected: cows - Found: horses - Right? False\n",
      "#138 Expected: cows - Found: cows - Right? True\n",
      "#139 Expected: cows - Found: horses - Right? False\n",
      "#140 Expected: cows - Found: cows - Right? True\n",
      "#141 Expected: cows - Found: cows - Right? True\n",
      "#142 Expected: cows - Found: cows - Right? True\n",
      "#143 Expected: cows - Found: cows - Right? True\n",
      "#144 Expected: cows - Found: cows - Right? True\n",
      "#145 Expected: cows - Found: cows - Right? True\n",
      "#146 Expected: cows - Found: horses - Right? False\n",
      "#147 Expected: cows - Found: horses - Right? False\n",
      "#148 Expected: cows - Found: cows - Right? True\n",
      "#149 Expected: cows - Found: horses - Right? False\n",
      "#150 Expected: cows - Found: cows - Right? True\n"
     ]
    }
   ],
   "source": [
    "print_predictions(cows_result)"
   ]
  },
  {
   "cell_type": "code",
   "execution_count": 45,
   "metadata": {
    "colab": {},
    "colab_type": "code",
    "id": "NqzPaWTTi78S"
   },
   "outputs": [
    {
     "name": "stdout",
     "output_type": "stream",
     "text": [
      "% righs 68.4729064039409\n",
      "#0 Expected: horses - Found: horses - Right? True\n",
      "#1 Expected: horses - Found: horses - Right? True\n",
      "#2 Expected: horses - Found: horses - Right? True\n",
      "#3 Expected: horses - Found: horses - Right? True\n",
      "#4 Expected: horses - Found: cows - Right? False\n",
      "#5 Expected: horses - Found: horses - Right? True\n",
      "#6 Expected: horses - Found: horses - Right? True\n",
      "#7 Expected: horses - Found: horses - Right? True\n",
      "#8 Expected: horses - Found: horses - Right? True\n",
      "#9 Expected: horses - Found: cows - Right? False\n",
      "#10 Expected: horses - Found: horses - Right? True\n",
      "#11 Expected: horses - Found: horses - Right? True\n",
      "#12 Expected: horses - Found: horses - Right? True\n",
      "#13 Expected: horses - Found: cows - Right? False\n",
      "#14 Expected: horses - Found: cows - Right? False\n",
      "#15 Expected: horses - Found: cows - Right? False\n",
      "#16 Expected: horses - Found: horses - Right? True\n",
      "#17 Expected: horses - Found: horses - Right? True\n",
      "#18 Expected: horses - Found: horses - Right? True\n",
      "#19 Expected: horses - Found: horses - Right? True\n",
      "#20 Expected: horses - Found: cows - Right? False\n",
      "#21 Expected: horses - Found: cows - Right? False\n",
      "#22 Expected: horses - Found: cows - Right? False\n",
      "#23 Expected: horses - Found: horses - Right? True\n",
      "#24 Expected: horses - Found: horses - Right? True\n",
      "#25 Expected: horses - Found: horses - Right? True\n",
      "#26 Expected: horses - Found: cows - Right? False\n",
      "#27 Expected: horses - Found: horses - Right? True\n",
      "#28 Expected: horses - Found: horses - Right? True\n",
      "#29 Expected: horses - Found: cows - Right? False\n",
      "#30 Expected: horses - Found: horses - Right? True\n",
      "#31 Expected: horses - Found: horses - Right? True\n",
      "#32 Expected: horses - Found: cows - Right? False\n",
      "#33 Expected: horses - Found: horses - Right? True\n",
      "#34 Expected: horses - Found: horses - Right? True\n",
      "#35 Expected: horses - Found: horses - Right? True\n",
      "#36 Expected: horses - Found: horses - Right? True\n",
      "#37 Expected: horses - Found: horses - Right? True\n",
      "#38 Expected: horses - Found: cows - Right? False\n",
      "#39 Expected: horses - Found: cows - Right? False\n",
      "#40 Expected: horses - Found: horses - Right? True\n",
      "#41 Expected: horses - Found: horses - Right? True\n",
      "#42 Expected: horses - Found: cows - Right? False\n",
      "#43 Expected: horses - Found: horses - Right? True\n",
      "#44 Expected: horses - Found: horses - Right? True\n",
      "#45 Expected: horses - Found: cows - Right? False\n",
      "#46 Expected: horses - Found: cows - Right? False\n",
      "#47 Expected: horses - Found: cows - Right? False\n",
      "#48 Expected: horses - Found: horses - Right? True\n",
      "#49 Expected: horses - Found: horses - Right? True\n",
      "#50 Expected: horses - Found: cows - Right? False\n",
      "#51 Expected: horses - Found: horses - Right? True\n",
      "#52 Expected: horses - Found: horses - Right? True\n",
      "#53 Expected: horses - Found: cows - Right? False\n",
      "#54 Expected: horses - Found: cows - Right? False\n",
      "#55 Expected: horses - Found: cows - Right? False\n",
      "#56 Expected: horses - Found: horses - Right? True\n",
      "#57 Expected: horses - Found: cows - Right? False\n",
      "#58 Expected: horses - Found: horses - Right? True\n",
      "#59 Expected: horses - Found: cows - Right? False\n",
      "#60 Expected: horses - Found: horses - Right? True\n",
      "#61 Expected: horses - Found: cows - Right? False\n",
      "#62 Expected: horses - Found: horses - Right? True\n",
      "#63 Expected: horses - Found: horses - Right? True\n",
      "#64 Expected: horses - Found: horses - Right? True\n",
      "#65 Expected: horses - Found: horses - Right? True\n",
      "#66 Expected: horses - Found: horses - Right? True\n",
      "#67 Expected: horses - Found: horses - Right? True\n",
      "#68 Expected: horses - Found: horses - Right? True\n",
      "#69 Expected: horses - Found: cows - Right? False\n",
      "#70 Expected: horses - Found: cows - Right? False\n",
      "#71 Expected: horses - Found: horses - Right? True\n",
      "#72 Expected: horses - Found: horses - Right? True\n",
      "#73 Expected: horses - Found: horses - Right? True\n",
      "#74 Expected: horses - Found: horses - Right? True\n",
      "#75 Expected: horses - Found: cows - Right? False\n",
      "#76 Expected: horses - Found: cows - Right? False\n",
      "#77 Expected: horses - Found: cows - Right? False\n",
      "#78 Expected: horses - Found: horses - Right? True\n",
      "#79 Expected: horses - Found: horses - Right? True\n",
      "#80 Expected: horses - Found: horses - Right? True\n",
      "#81 Expected: horses - Found: cows - Right? False\n",
      "#82 Expected: horses - Found: horses - Right? True\n",
      "#83 Expected: horses - Found: cows - Right? False\n",
      "#84 Expected: horses - Found: horses - Right? True\n",
      "#85 Expected: horses - Found: horses - Right? True\n",
      "#86 Expected: horses - Found: cows - Right? False\n",
      "#87 Expected: horses - Found: horses - Right? True\n",
      "#88 Expected: horses - Found: cows - Right? False\n",
      "#89 Expected: horses - Found: horses - Right? True\n",
      "#90 Expected: horses - Found: horses - Right? True\n",
      "#91 Expected: horses - Found: cows - Right? False\n",
      "#92 Expected: horses - Found: horses - Right? True\n",
      "#93 Expected: horses - Found: horses - Right? True\n",
      "#94 Expected: horses - Found: horses - Right? True\n",
      "#95 Expected: horses - Found: horses - Right? True\n",
      "#96 Expected: horses - Found: horses - Right? True\n",
      "#97 Expected: horses - Found: horses - Right? True\n",
      "#98 Expected: horses - Found: horses - Right? True\n",
      "#99 Expected: horses - Found: horses - Right? True\n",
      "#100 Expected: horses - Found: horses - Right? True\n",
      "#101 Expected: horses - Found: cows - Right? False\n",
      "#102 Expected: horses - Found: cows - Right? False\n",
      "#103 Expected: horses - Found: cows - Right? False\n",
      "#104 Expected: horses - Found: horses - Right? True\n",
      "#105 Expected: horses - Found: horses - Right? True\n",
      "#106 Expected: horses - Found: cows - Right? False\n",
      "#107 Expected: horses - Found: cows - Right? False\n",
      "#108 Expected: horses - Found: cows - Right? False\n",
      "#109 Expected: horses - Found: cows - Right? False\n",
      "#110 Expected: horses - Found: horses - Right? True\n",
      "#111 Expected: horses - Found: horses - Right? True\n",
      "#112 Expected: horses - Found: horses - Right? True\n",
      "#113 Expected: horses - Found: horses - Right? True\n",
      "#114 Expected: horses - Found: horses - Right? True\n",
      "#115 Expected: horses - Found: cows - Right? False\n",
      "#116 Expected: horses - Found: horses - Right? True\n",
      "#117 Expected: horses - Found: cows - Right? False\n",
      "#118 Expected: horses - Found: horses - Right? True\n",
      "#119 Expected: horses - Found: horses - Right? True\n",
      "#120 Expected: horses - Found: horses - Right? True\n",
      "#121 Expected: horses - Found: horses - Right? True\n",
      "#122 Expected: horses - Found: horses - Right? True\n",
      "#123 Expected: horses - Found: horses - Right? True\n",
      "#124 Expected: horses - Found: horses - Right? True\n",
      "#125 Expected: horses - Found: horses - Right? True\n",
      "#126 Expected: horses - Found: cows - Right? False\n",
      "#127 Expected: horses - Found: horses - Right? True\n",
      "#128 Expected: horses - Found: horses - Right? True\n",
      "#129 Expected: horses - Found: horses - Right? True\n",
      "#130 Expected: horses - Found: horses - Right? True\n",
      "#131 Expected: horses - Found: horses - Right? True\n",
      "#132 Expected: horses - Found: horses - Right? True\n",
      "#133 Expected: horses - Found: horses - Right? True\n",
      "#134 Expected: horses - Found: horses - Right? True\n",
      "#135 Expected: horses - Found: horses - Right? True\n",
      "#136 Expected: horses - Found: horses - Right? True\n",
      "#137 Expected: horses - Found: horses - Right? True\n",
      "#138 Expected: horses - Found: horses - Right? True\n",
      "#139 Expected: horses - Found: horses - Right? True\n",
      "#140 Expected: horses - Found: horses - Right? True\n",
      "#141 Expected: horses - Found: horses - Right? True\n",
      "#142 Expected: horses - Found: horses - Right? True\n",
      "#143 Expected: horses - Found: horses - Right? True\n",
      "#144 Expected: horses - Found: cows - Right? False\n",
      "#145 Expected: horses - Found: horses - Right? True\n",
      "#146 Expected: horses - Found: cows - Right? False\n",
      "#147 Expected: horses - Found: cows - Right? False\n",
      "#148 Expected: horses - Found: horses - Right? True\n",
      "#149 Expected: horses - Found: horses - Right? True\n",
      "#150 Expected: horses - Found: horses - Right? True\n",
      "#151 Expected: horses - Found: horses - Right? True\n",
      "#152 Expected: horses - Found: horses - Right? True\n",
      "#153 Expected: horses - Found: horses - Right? True\n",
      "#154 Expected: horses - Found: horses - Right? True\n",
      "#155 Expected: horses - Found: horses - Right? True\n",
      "#156 Expected: horses - Found: cows - Right? False\n",
      "#157 Expected: horses - Found: horses - Right? True\n",
      "#158 Expected: horses - Found: horses - Right? True\n",
      "#159 Expected: horses - Found: cows - Right? False\n",
      "#160 Expected: horses - Found: horses - Right? True\n",
      "#161 Expected: horses - Found: cows - Right? False\n",
      "#162 Expected: horses - Found: cows - Right? False\n",
      "#163 Expected: horses - Found: cows - Right? False\n",
      "#164 Expected: horses - Found: horses - Right? True\n",
      "#165 Expected: horses - Found: cows - Right? False\n",
      "#166 Expected: horses - Found: cows - Right? False\n",
      "#167 Expected: horses - Found: horses - Right? True\n",
      "#168 Expected: horses - Found: horses - Right? True\n",
      "#169 Expected: horses - Found: horses - Right? True\n",
      "#170 Expected: horses - Found: horses - Right? True\n",
      "#171 Expected: horses - Found: cows - Right? False\n",
      "#172 Expected: horses - Found: cows - Right? False\n",
      "#173 Expected: horses - Found: cows - Right? False\n",
      "#174 Expected: horses - Found: horses - Right? True\n",
      "#175 Expected: horses - Found: cows - Right? False\n",
      "#176 Expected: horses - Found: horses - Right? True\n",
      "#177 Expected: horses - Found: horses - Right? True\n",
      "#178 Expected: horses - Found: horses - Right? True\n",
      "#179 Expected: horses - Found: cows - Right? False\n",
      "#180 Expected: horses - Found: cows - Right? False\n",
      "#181 Expected: horses - Found: horses - Right? True\n",
      "#182 Expected: horses - Found: horses - Right? True\n",
      "#183 Expected: horses - Found: horses - Right? True\n",
      "#184 Expected: horses - Found: cows - Right? False\n",
      "#185 Expected: horses - Found: horses - Right? True\n",
      "#186 Expected: horses - Found: horses - Right? True\n",
      "#187 Expected: horses - Found: horses - Right? True\n",
      "#188 Expected: horses - Found: horses - Right? True\n",
      "#189 Expected: horses - Found: cows - Right? False\n",
      "#190 Expected: horses - Found: cows - Right? False\n",
      "#191 Expected: horses - Found: horses - Right? True\n",
      "#192 Expected: horses - Found: horses - Right? True\n",
      "#193 Expected: horses - Found: horses - Right? True\n",
      "#194 Expected: horses - Found: horses - Right? True\n",
      "#195 Expected: horses - Found: horses - Right? True\n",
      "#196 Expected: horses - Found: horses - Right? True\n",
      "#197 Expected: horses - Found: horses - Right? True\n",
      "#198 Expected: horses - Found: cows - Right? False\n",
      "#199 Expected: horses - Found: horses - Right? True\n",
      "#200 Expected: horses - Found: horses - Right? True\n",
      "#201 Expected: horses - Found: horses - Right? True\n",
      "#202 Expected: horses - Found: horses - Right? True\n"
     ]
    }
   ],
   "source": [
    "print_predictions(horses_result)"
   ]
  }
 ],
 "metadata": {
  "accelerator": "TPU",
  "colab": {
   "collapsed_sections": [],
   "name": "animals_classifier",
   "private_outputs": true,
   "provenance": []
  },
  "kernelspec": {
   "display_name": "Python 3",
   "language": "python",
   "name": "python3"
  },
  "language_info": {
   "codemirror_mode": {
    "name": "ipython",
    "version": 3
   },
   "file_extension": ".py",
   "mimetype": "text/x-python",
   "name": "python",
   "nbconvert_exporter": "python",
   "pygments_lexer": "ipython3",
   "version": "3.8.3"
  }
 },
 "nbformat": 4,
 "nbformat_minor": 1
}
