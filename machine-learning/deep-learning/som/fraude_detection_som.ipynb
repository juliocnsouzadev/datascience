{
 "cells": [
  {
   "cell_type": "markdown",
   "metadata": {},
   "source": [
    "# Self Organizing Map"
   ]
  },
  {
   "cell_type": "code",
   "execution_count": 9,
   "metadata": {},
   "outputs": [
    {
     "name": "stdout",
     "output_type": "stream",
     "text": [
      "Requirement already satisfied: MiniSom in d:\\apps\\anaconda3\\lib\\site-packages (2.2.7)\n"
     ]
    }
   ],
   "source": [
    "!pip install MiniSom"
   ]
  },
  {
   "cell_type": "code",
   "execution_count": 25,
   "metadata": {},
   "outputs": [],
   "source": [
    "import numpy as np\n",
    "import pandas as pd\n",
    "import matplotlib.pyplot as plt\n",
    "\n",
    "from sklearn.preprocessing import MinMaxScaler\n",
    "from minisom import MiniSom\n",
    "from pylab import bone, pcolor, colorbar, plot, show"
   ]
  },
  {
   "cell_type": "markdown",
   "metadata": {},
   "source": [
    "### Read and Feature Scale the Data"
   ]
  },
  {
   "cell_type": "code",
   "execution_count": 16,
   "metadata": {},
   "outputs": [],
   "source": [
    "dataset = pd.read_csv(\"./som/credit_card_applications.csv\")"
   ]
  },
  {
   "cell_type": "code",
   "execution_count": 18,
   "metadata": {},
   "outputs": [],
   "source": [
    "scaler = MinMaxScaler(feature_range= (0,1))\n",
    "X = dataset.iloc[:, :-1].values\n",
    "Y = dataset.iloc[:, -1].values\n",
    "X = scaler.fit_transform(X)"
   ]
  },
  {
   "cell_type": "markdown",
   "metadata": {},
   "source": [
    "### Training the SOM"
   ]
  },
  {
   "cell_type": "code",
   "execution_count": 23,
   "metadata": {},
   "outputs": [],
   "source": [
    "som = MiniSom(x=10, y=10, input_len=15, sigma=1.0, learning_rate=0.5)"
   ]
  },
  {
   "cell_type": "code",
   "execution_count": 24,
   "metadata": {},
   "outputs": [],
   "source": [
    "som.random_weights_init(X)\n",
    "som.train_random(data=X, num_iteration=100)"
   ]
  },
  {
   "cell_type": "markdown",
   "metadata": {},
   "source": [
    "### Visualizing the Resuls"
   ]
  },
  {
   "cell_type": "code",
   "execution_count": 29,
   "metadata": {},
   "outputs": [
    {
     "name": "stdout",
     "output_type": "stream",
     "text": [
      "operands could not be broadcast together with shapes (690,15) (10,10,15) \n"
     ]
    },
    {
     "data": {
      "image/png": "[encoded data removed]",
      "text/plain": [
       "<Figure size 432x288 with 2 Axes>"
      ]
     },
     "metadata": {
      "needs_background": "light"
     },
     "output_type": "display_data"
    }
   ],
   "source": [
    "try:\n",
    "    bone()\n",
    "    pcolor(som.distance_map().T)\n",
    "    colorbar()\n",
    "    markers = ['o', 's']\n",
    "    colors = ['r','b']\n",
    "    for i, x in enumerate(X):\n",
    "        winner = som.winner(X)\n",
    "        plot(\n",
    "            winner[0] + 0.5,\n",
    "            winner[1] + 0.5,\n",
    "            markers[y[i]],\n",
    "            markeredgecolor = colors[y[i]],\n",
    "            markerfacecolor = 'None',\n",
    "            markersize = 10,\n",
    "            markeredgewidth = 2)\n",
    "    show()\n",
    "except ValueError as e:\n",
    "    print(e)"
   ]
  },
  {
   "cell_type": "markdown",
   "metadata": {},
   "source": [
    "### Searching for frauds"
   ]
  },
  {
   "cell_type": "code",
   "execution_count": 42,
   "metadata": {},
   "outputs": [],
   "source": [
    "mappings = som.win_map(X)\n",
    "mappings_tuple = (mappings[(1,1)], mappings[(2,1)])\n",
    "frauds = np.concatenate(\n",
    "    mappings_tuple,\n",
    "    axis = 0\n",
    ")\n",
    "frauds = scaler.inverse_transform(frauds)"
   ]
  },
  {
   "cell_type": "code",
   "execution_count": 46,
   "metadata": {},
   "outputs": [
    {
     "name": "stdout",
     "output_type": "stream",
     "text": [
      "Fraud customer Id 15803378\n",
      "Fraud customer Id 15788776\n",
      "Fraud customer Id 15764444\n",
      "Fraud customer Id 15771409\n",
      "Fraud customer Id 15814116\n",
      "Fraud customer Id 15777893\n",
      "Fraud customer Id 15813718\n",
      "Fraud customer Id 15815271\n",
      "Fraud customer Id 15744273\n",
      "Fraud customer Id 15773934\n",
      "Fraud customer Id 15694237\n",
      "Fraud customer Id 15805627\n",
      "Fraud customer Id 15692718\n",
      "Fraud customer Id 15789865\n",
      "Fraud customer Id 15618703\n",
      "Fraud customer Id 15757933\n",
      "Fraud customer Id 15677395\n",
      "Fraud customer Id 15810716\n"
     ]
    }
   ],
   "source": [
    "for customerId in frauds[:,0]:\n",
    "    print(\"Fraud customer Id {}\".format(int(customerId)))"
   ]
  },
  {
   "cell_type": "code",
   "execution_count": null,
   "metadata": {},
   "outputs": [],
   "source": []
  }
 ],
 "metadata": {
  "kernelspec": {
   "display_name": "Python 3",
   "language": "python",
   "name": "python3"
  },
  "language_info": {
   "codemirror_mode": {
    "name": "ipython",
    "version": 3
   },
   "file_extension": ".py",
   "mimetype": "text/x-python",
   "name": "python",
   "nbconvert_exporter": "python",
   "pygments_lexer": "ipython3",
   "version": "3.8.3"
  }
 },
 "nbformat": 4,
 "nbformat_minor": 4
}
