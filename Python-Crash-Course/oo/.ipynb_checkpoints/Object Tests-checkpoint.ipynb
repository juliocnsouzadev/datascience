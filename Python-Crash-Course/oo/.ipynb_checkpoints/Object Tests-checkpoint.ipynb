{
 "cells": [
  {
   "cell_type": "code",
   "execution_count": 8,
   "metadata": {},
   "outputs": [],
   "source": [
    "# -*- coding: UTF-8 -*-\n",
    "class Profile():\n",
    "    def __init__(self, name, phone, company):\n",
    "        self.name = name\n",
    "        self.phone = phone\n",
    "        self.company =company\n",
    "    \n",
    "    def to_string(self):\n",
    "        return 'Name: ' + self.name + ', Phone: ' + self.phone + ', Company: ' + self.company\n",
    "        "
   ]
  }
 ],
 "metadata": {
  "kernelspec": {
   "display_name": "Python 3",
   "language": "python",
   "name": "python3"
  },
  "language_info": {
   "codemirror_mode": {
    "name": "ipython",
    "version": 3
   },
   "file_extension": ".py",
   "mimetype": "text/x-python",
   "name": "python",
   "nbconvert_exporter": "python",
   "pygments_lexer": "ipython3",
   "version": "3.6.1"
  }
 },
 "nbformat": 4,
 "nbformat_minor": 2
}
