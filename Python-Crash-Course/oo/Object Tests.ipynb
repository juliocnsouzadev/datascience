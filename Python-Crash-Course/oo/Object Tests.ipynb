{
 "cells": [
  {
   "cell_type": "code",
   "execution_count": null,
   "metadata": {
    "collapsed": true
   },
   "outputs": [],
   "source": [
    "# coding: utf-8\n",
    "\n",
    "# In[8]:\n",
    "\n",
    "#for new models"
   ]
  },
  {
   "cell_type": "code",
   "execution_count": 2,
   "metadata": {},
   "outputs": [
    {
     "name": "stdout",
     "output_type": "stream",
     "text": [
      "\n",
      "----------- Profile Data -----------\n",
      "Type:  <class 'Profile.Profile'>\n",
      "Name: Júlio César Nunes de Souza, Phone: +55 11 77488-8758, Company: Google, Likes: 0\n",
      "Name: Júlio César Nunes de Souza, Phone: +55 11 77488-8758, Company: Google, Likes: 4\n",
      "\n",
      "----------- Profile Data -----------\n",
      "Type:  <class 'ProfileVip.ProfileVip'>\n",
      "('Name: Júlio César Nunes de Souza, Phone: +55 11 77488-8758, Company: Google, Likes: 0, Credits: ', '0')\n",
      "('Name: Júlio César Nunes de Souza, Phone: +55 11 77488-8758, Company: Google, Likes: 4, Credits: ', '40')\n"
     ]
    }
   ],
   "source": [
    "# testing profile\n",
    "\n",
    "def show(profile):\n",
    "    print('\\n----------- Profile Data -----------')\n",
    "    tp = type(profile)\n",
    "    print('Type: ', str(tp))\n",
    "    print(profile.to_string())\n",
    "    i = 0\n",
    "    while (i < 10):\n",
    "        profile.like()\n",
    "        i += i+1\n",
    "    print(profile.to_string())\n",
    "\n",
    "\n",
    "from Profile import Profile\n",
    "julio = Profile('Júlio César Nunes de Souza', '+55 11 77488-8758', 'Google')\n",
    "show(julio)\n",
    "\n",
    "from ProfileVip import ProfileVip\n",
    "julio = ProfileVip('Júlio César Nunes de Souza', '+55 11 77488-8758', 'Google')\n",
    "show(julio)\n"
   ]
  },
  {
   "cell_type": "code",
   "execution_count": null,
   "metadata": {
    "collapsed": true
   },
   "outputs": [],
   "source": []
  }
 ],
 "metadata": {
  "kernelspec": {
   "display_name": "Python 3",
   "language": "python",
   "name": "python3"
  },
  "language_info": {
   "codemirror_mode": {
    "name": "ipython",
    "version": 3
   },
   "file_extension": ".py",
   "mimetype": "text/x-python",
   "name": "python",
   "nbconvert_exporter": "python",
   "pygments_lexer": "ipython3",
   "version": "3.6.1"
  }
 },
 "nbformat": 4,
 "nbformat_minor": 2
}
