{
 "cells": [
  {
   "cell_type": "code",
   "execution_count": 1,
   "metadata": {
    "collapsed": true
   },
   "outputs": [],
   "source": [
    "# coding: utf-8\n",
    "\n",
    "# In[8]:\n",
    "\n",
    "#for new models"
   ]
  },
  {
   "cell_type": "code",
   "execution_count": 2,
   "metadata": {},
   "outputs": [
    {
     "name": "stdout",
     "output_type": "stream",
     "text": [
      "\n",
      "----------- Profile Data -----------\n",
      "Type:  <class 'Profile.Profile'>\n",
      "Name: Júlio César Nunes de Souza, Phone: +55 11 77488-8758, Company: Google, Likes: 0\n",
      "Name: Júlio César Nunes de Souza, Phone: +55 11 77488-8758, Company: Google, Likes: 4\n",
      "\n",
      "----------- Profile Data -----------\n",
      "Type:  <class 'ProfileVip.ProfileVip'>\n",
      "('Name: Júlio César Nunes de Souza, Phone: +55 11 77488-8758, Company: Google, Likes: 0, Credits: ', '0')\n",
      "('Name: Júlio César Nunes de Souza, Phone: +55 11 77488-8758, Company: Google, Likes: 4, Credits: ', '40')\n"
     ]
    }
   ],
   "source": [
    "# testing profile\n",
    "\n",
    "def show(profile):\n",
    "    print('\\n----------- Profile Data -----------')\n",
    "    tp = type(profile)\n",
    "    print('Type: ', str(tp))\n",
    "    print(profile.to_string())\n",
    "    i = 0\n",
    "    while (i < 10):\n",
    "        profile.like()\n",
    "        i += i+1\n",
    "    print(profile.to_string())\n",
    "\n",
    "\n",
    "from Profile import Profile\n",
    "julio = Profile('Júlio César Nunes de Souza', '+55 11 77488-8758', 'Google')\n",
    "show(julio)\n",
    "\n",
    "from ProfileVip import ProfileVip\n",
    "julio = ProfileVip('Júlio César Nunes de Souza', '+55 11 77488-8758', 'Google')\n",
    "show(julio)\n"
   ]
  },
  {
   "cell_type": "code",
   "execution_count": 3,
   "metadata": {},
   "outputs": [
    {
     "name": "stdout",
     "output_type": "stream",
     "text": [
      "\n",
      "-------- Profiles --------\n",
      "Name: Ana Goncalves, Phone:  45-21249834, Company:  Nice Price, Likes: 2\n",
      "Name: Ana Almeida, Phone:  21-34345432, Company:  Amigas Ltda, Likes: 1\n",
      "Name: Ana Pessoa, Phone:  21-21215643, Company:  Auron Ltda , Likes: 3\n",
      "Name: Ana Silva, Phone:  45-21249834, Company:  Nice Price, Likes: 0\n",
      "Name: Paula Goncalves, Phone:  45-21249834, Company:  Nice Price, Likes: 1\n",
      "Name: Paula Almeida, Phone:  11-23416531, Company:  Primo ServiÃ§os, Likes: 8\n",
      "Name: Paula Pessoa, Phone:  21-21215643, Company:  Auron Ltda , Likes: 7\n",
      "Name: Paula Silva, Phone:  45-21249834, Company:  Nice Price, Likes: 3\n",
      "Name: Camila Goncalves, Phone:  21-34345432, Company:  Amigas Ltda, Likes: 2\n",
      "Name: Camila Almeida, Phone:  45-21249834, Company:  Nice Price, Likes: 5\n",
      "Name: Camila Pessoa, Phone:  21-34345432, Company:  Amigas Ltda, Likes: 6\n",
      "Name: Camila Silva, Phone:  45-21249834, Company:  Nice Price, Likes: 8\n",
      "Name: Alexandrina Goncalves, Phone:  45-21249834, Company:  Nice Price, Likes: 0\n",
      "Name: Alexandrina Almeida, Phone:  45-21249834, Company:  Nice Price, Likes: 4\n",
      "Name: Alexandrina Pessoa, Phone:  21-21215643, Company:  Auron Ltda , Likes: 0\n",
      "Name: Alexandrina Silva, Phone:  45-21249834, Company:  Nice Price, Likes: 9\n",
      "Name: Joao Goncalves, Phone:  21-34345432, Company:  Amigas Ltda, Likes: 10\n",
      "Name: Joao Almeida, Phone:  21-34345432, Company:  Amigas Ltda, Likes: 5\n",
      "Name: Joao Pessoa, Phone:  11-23416531, Company:  Primo ServiÃ§os, Likes: 8\n",
      "Name: Joao Silva, Phone:  11-23416531, Company:  Primo ServiÃ§os, Likes: 3\n",
      "\n",
      "-------- Vips --------\n",
      "('Name: Ana Goncalves, Phone:  45-21249834, Company:  Nice Price, Likes: 5, Credits: ', '50')\n",
      "('Name: Ana Almeida, Phone:  21-34345432, Company:  Amigas Ltda, Likes: 6, Credits: ', '60')\n",
      "('Name: Ana Pessoa, Phone:  21-21215643, Company:  Auron Ltda , Likes: 2, Credits: ', '20')\n",
      "('Name: Ana Silva, Phone:  45-21249834, Company:  Nice Price, Likes: 1, Credits: ', '10')\n",
      "('Name: Paula Goncalves, Phone:  45-21249834, Company:  Nice Price, Likes: 9, Credits: ', '90')\n",
      "('Name: Paula Almeida, Phone:  11-23416531, Company:  Primo ServiÃ§os, Likes: 2, Credits: ', '20')\n",
      "('Name: Paula Pessoa, Phone:  21-21215643, Company:  Auron Ltda , Likes: 9, Credits: ', '90')\n",
      "('Name: Paula Silva, Phone:  45-21249834, Company:  Nice Price, Likes: 1, Credits: ', '10')\n",
      "('Name: Camila Goncalves, Phone:  21-34345432, Company:  Amigas Ltda, Likes: 4, Credits: ', '40')\n",
      "('Name: Camila Almeida, Phone:  45-21249834, Company:  Nice Price, Likes: 5, Credits: ', '50')\n",
      "('Name: Camila Pessoa, Phone:  21-34345432, Company:  Amigas Ltda, Likes: 8, Credits: ', '80')\n",
      "('Name: Camila Silva, Phone:  45-21249834, Company:  Nice Price, Likes: 5, Credits: ', '50')\n",
      "('Name: Alexandrina Goncalves, Phone:  45-21249834, Company:  Nice Price, Likes: 1, Credits: ', '10')\n",
      "('Name: Alexandrina Almeida, Phone:  45-21249834, Company:  Nice Price, Likes: 4, Credits: ', '40')\n",
      "('Name: Alexandrina Pessoa, Phone:  21-21215643, Company:  Auron Ltda , Likes: 4, Credits: ', '40')\n",
      "('Name: Alexandrina Silva, Phone:  45-21249834, Company:  Nice Price, Likes: 6, Credits: ', '60')\n",
      "('Name: Joao Goncalves, Phone:  21-34345432, Company:  Amigas Ltda, Likes: 5, Credits: ', '50')\n",
      "('Name: Joao Almeida, Phone:  21-34345432, Company:  Amigas Ltda, Likes: 4, Credits: ', '40')\n",
      "('Name: Joao Pessoa, Phone:  11-23416531, Company:  Primo ServiÃ§os, Likes: 7, Credits: ', '70')\n",
      "('Name: Joao Silva, Phone:  11-23416531, Company:  Primo ServiÃ§os, Likes: 2, Credits: ', '20')\n"
     ]
    }
   ],
   "source": [
    "from random import randint\n",
    "print('\\n-------- Profiles --------')\n",
    "profiles = Profile.generate('profiles.csv')\n",
    "for profile in profiles:\n",
    "    for i in range(randint(0,10)):\n",
    "        profile.like()\n",
    "    print(profile.to_string())\n",
    "    \n",
    "print('\\n-------- Vips --------')\n",
    "profiles = ProfileVip.generate('profiles.csv')\n",
    "for profile in profiles:\n",
    "    for i in range(randint(0,10)):\n",
    "        profile.like()\n",
    "    print(profile.to_string())"
   ]
  },
  {
   "cell_type": "code",
   "execution_count": null,
   "metadata": {
    "collapsed": true
   },
   "outputs": [],
   "source": []
  }
 ],
 "metadata": {
  "kernelspec": {
   "display_name": "Python 3",
   "language": "python",
   "name": "python3"
  },
  "language_info": {
   "codemirror_mode": {
    "name": "ipython",
    "version": 3
   },
   "file_extension": ".py",
   "mimetype": "text/x-python",
   "name": "python",
   "nbconvert_exporter": "python",
   "pygments_lexer": "ipython3",
   "version": "3.6.1"
  }
 },
 "nbformat": 4,
 "nbformat_minor": 2
}
