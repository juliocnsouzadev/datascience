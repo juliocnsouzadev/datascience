{
 "cells": [
  {
   "cell_type": "markdown",
   "metadata": {},
   "source": [
    "# CLASS NOTES"
   ]
  },
  {
   "cell_type": "code",
   "execution_count": 10,
   "metadata": {},
   "outputs": [],
   "source": [
    "%config IPCompleter.greedy=True"
   ]
  },
  {
   "cell_type": "markdown",
   "metadata": {},
   "source": [
    "[CLASS 01 INTRODUÇÃO A CIENCIA DE DADOS](class_resources\\class_01.pdf)"
   ]
  },
  {
   "cell_type": "markdown",
   "metadata": {},
   "source": [
    "[CLASS 02 CLASSFICAÇÃO](class_resources\\class_02.pdf)"
   ]
  },
  {
   "cell_type": "markdown",
   "metadata": {},
   "source": [
    "[CLASS 03 CARACTERISTICAS DE DADOS](class_resources\\class_03.pdf)\n",
    "<br>[CLASS 03 EXERCISES](class_resources\\class_03_exercises.pdf)"
   ]
  },
  {
   "cell_type": "markdown",
   "metadata": {},
   "source": [
    "[CLASS 04 CARACTERISTICAS ESTATISTICAS DE DADOS](class_resources\\class_04.pdf)\n",
    "<br>[CLASS 04 EXERCISES](class_resources\\class_04_exercises.pdf)"
   ]
  },
  {
   "cell_type": "markdown",
   "metadata": {},
   "source": [
    "[CLASS 05 COMPORTAMENTO DOS DADOS](class_resources\\class_05.pdf)\n",
    "<br>[CLASS 05 EXERCISES](class_resources\\class_05_exercises.pdf)"
   ]
  },
  {
   "cell_type": "markdown",
   "metadata": {},
   "source": [
    "[CLASS 06 VISUALIZAÇÃO DE DADOS](class_resources\\class_06.pdf)\n",
    "<br>[CLASS 06 EXERCISES](class_resources\\class_06_exercises.pdf)"
   ]
  },
  {
   "cell_type": "code",
   "execution_count": null,
   "metadata": {},
   "outputs": [],
   "source": []
  }
 ],
 "metadata": {
  "kernelspec": {
   "display_name": "Python 3",
   "language": "python",
   "name": "python3"
  },
  "language_info": {
   "codemirror_mode": {
    "name": "ipython",
    "version": 3
   },
   "file_extension": ".py",
   "mimetype": "text/x-python",
   "name": "python",
   "nbconvert_exporter": "python",
   "pygments_lexer": "ipython3",
   "version": "3.7.1"
  }
 },
 "nbformat": 4,
 "nbformat_minor": 2
}
