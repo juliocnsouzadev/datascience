{
 "cells": [
  {
   "cell_type": "code",
   "execution_count": 17,
   "metadata": {
    "collapsed": true
   },
   "outputs": [],
   "source": [
    "writer = open('test.txt', 'w+')\n",
    "numbers = range(5)\n",
    "for n in numbers:\n",
    "    writer.write('write in start: ' + str(n) + '\\n')\n",
    "\n",
    "writer.close()"
   ]
  },
  {
   "cell_type": "code",
   "execution_count": 20,
   "metadata": {},
   "outputs": [],
   "source": [
    "appender = open('test.txt', 'a')\n",
    "numbers = range(5,10)\n",
    "for n in numbers:\n",
    "    appender.write('append in the end: ' + str(n) + '\\n')\n",
    "\n",
    "appender.close()"
   ]
  },
  {
   "cell_type": "code",
   "execution_count": 21,
   "metadata": {},
   "outputs": [
    {
     "name": "stdout",
     "output_type": "stream",
     "text": [
      "write in start: 0\n",
      "\n",
      "write in start: 1\n",
      "\n",
      "write in start: 2\n",
      "\n",
      "write in start: 3\n",
      "\n",
      "write in start: 4\n",
      "\n",
      "append in the end: 5\n",
      "\n",
      "append in the end: 6\n",
      "\n",
      "append in the end: 7\n",
      "\n",
      "append in the end: 8\n",
      "\n",
      "append in the end: 9\n",
      "\n"
     ]
    }
   ],
   "source": [
    "reader = open('test.txt','r')\n",
    "for line in reader:\n",
    "    print(line)\n"
   ]
  },
  {
   "cell_type": "markdown",
   "metadata": {},
   "source": [
    "![title](logo.jpg)"
   ]
  },
  {
   "cell_type": "code",
   "execution_count": 23,
   "metadata": {
    "collapsed": true
   },
   "outputs": [],
   "source": [
    "bytes_reader = open('logo.jpg','rb')\n",
    "data = bytes_reader.read()\n",
    "bytes_reader.close()"
   ]
  },
  {
   "cell_type": "code",
   "execution_count": 24,
   "metadata": {
    "collapsed": true
   },
   "outputs": [],
   "source": [
    "bytes_writer = open('logo_copy.jpg','wb')\n",
    "bytes_writer.write(data)\n",
    "bytes_writer.close()"
   ]
  },
  {
   "cell_type": "markdown",
   "metadata": {},
   "source": [
    "![title](logo_copy.jpg)"
   ]
  },
  {
   "cell_type": "code",
   "execution_count": 39,
   "metadata": {},
   "outputs": [],
   "source": [
    "profiles_reader = open('base_profiles.csv','r')\n",
    "names = []\n",
    "last_names = []\n",
    "mod_items = []\n",
    "for profile in profiles_reader:\n",
    "    pfl_spt = profile.split(',')\n",
    "    mod_items.append(pfl_spt[1],','pfl_spt[2])\n",
    "    full_name = pfl_spt[0]\n",
    "    full_spt = full_name.split(' ')\n",
    "    for i,name in enumerate(full_spt):\n",
    "        if (i == len(full_spt)-1):\n",
    "            last_names.append(name)\n",
    "        else:\n",
    "            names.append(name)\n",
    "\n",
    "profiles_reader.close()\n",
    "\n",
    "profiles_writer  = open('profiles.csv','w')\n",
    "\n",
    "from random import randint\n",
    "\n",
    "for name in names:\n",
    "    for last_name in last_names:\n",
    "        i = randint(0,len(mod_items)-1)\n",
    "        mod_item = mod_items[i]\n",
    "        profiles_writer.write(name + ' ' + last_name + ',' + mod_item + '\\n')\n",
    "\n",
    "profiles_writer.close()\n"
   ]
  },
  {
   "cell_type": "code",
   "execution_count": 30,
   "metadata": {},
   "outputs": [
    {
     "name": "stdout",
     "output_type": "stream",
     "text": [
      "Ana Paula GonÃ§alves, 21-34345432, Amigas Ltda\n",
      "\n",
      "Camila Almeida, 21-21215643, Auron Ltda \n",
      "\n",
      "Alexandrina Pessoa, 11-23416531, Primo ServiÃ§os\n",
      "\n",
      "JoÃ£o da Silva, 45-21249834, PreÃ§o Ã“timo\n"
     ]
    }
   ],
   "source": []
  },
  {
   "cell_type": "code",
   "execution_count": null,
   "metadata": {
    "collapsed": true
   },
   "outputs": [],
   "source": []
  }
 ],
 "metadata": {
  "kernelspec": {
   "display_name": "Python 3",
   "language": "python",
   "name": "python3"
  },
  "language_info": {
   "codemirror_mode": {
    "name": "ipython",
    "version": 3
   },
   "file_extension": ".py",
   "mimetype": "text/x-python",
   "name": "python",
   "nbconvert_exporter": "python",
   "pygments_lexer": "ipython3",
   "version": "3.6.1"
  }
 },
 "nbformat": 4,
 "nbformat_minor": 2
}
