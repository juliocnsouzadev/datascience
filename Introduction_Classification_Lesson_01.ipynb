{
 "cells": [
  {
   "cell_type": "code",
   "execution_count": 2,
   "metadata": {
    "collapsed": false
   },
   "outputs": [
    {
     "name": "stdout",
     "output_type": "stream",
     "text": [
      "['dog']\n"
     ]
    }
   ],
   "source": [
    "#fat, short leg, barks\n",
    "pig1 = [1,1,0]\n",
    "pig2 = [1,1,0]\n",
    "pig3 = [1,1,0]\n",
    "dog1 = [1,1,1]\n",
    "dog2 = [0,1,1]\n",
    "dog3 = [0,1,1]\n",
    "\n",
    "data = [pig1, pig2, pig3, dog1,dog2,dog3]\n",
    "\n",
    "marks = [\"pig\",\"pig\",\"pig\",\"dog\",\"dog\",\"dog\"]\n",
    "\n",
    "incognito = [1,1,1]\n",
    "\n",
    "from sklearn.naive_bayes import MultinomialNB\n",
    "\n",
    "model = MultinomialNB()\n",
    "model.fit(data, marks)\n",
    "print(model.predict(incognito))"
   ]
  },
  {
   "cell_type": "code",
   "execution_count": 25,
   "metadata": {
    "collapsed": false
   },
   "outputs": [
    {
     "name": "stdout",
     "output_type": "stream",
     "text": [
      "['sueco' 'brasilieiro' 'brasilieiro']\n"
     ]
    }
   ],
   "source": [
    "sueco1 = [200,0,1]\n",
    "sueco2 = [198,0,1]\n",
    "sueco3 = [196,1,1]\n",
    "sueco4 = [194,0,1]\n",
    "sueco5 = [192,0,1]\n",
    "sueco6 = [190,0,1]\n",
    "sueco7 = [188,1,1]\n",
    "sueco8 = [186,0,1]\n",
    "sueco9 = [184,0,1]\n",
    "sueco10 = [182,0,1]\n",
    "sueco11 = [180,0,1]\n",
    "sueco12 = [178,0,1]\n",
    "brasilieiro13 = [176,1,0]\n",
    "brasilieiro14 = [174,1,0]\n",
    "brasilieiro15 = [172,1,1]\n",
    "brasilieiro16 = [170,0,1]\n",
    "brasilieiro17 = [168,1,0]\n",
    "brasilieiro18 = [166,1,0]\n",
    "brasilieiro19 = [164,1,0]\n",
    "brasilieiro20 = [162,1,1]\n",
    "brasilieiro21 = [160,1,0]\n",
    "\n",
    "pData = [sueco1,sueco2,sueco3,sueco4,sueco5,sueco6,sueco7,sueco8,sueco9,sueco10,sueco11,sueco12,brasilieiro13,brasilieiro14,brasilieiro15,brasilieiro16,brasilieiro17,brasilieiro18,brasilieiro19,brasilieiro20,brasilieiro21]\n",
    "pMarks = ['sueco','sueco','sueco','sueco','sueco','sueco','sueco','sueco','sueco','sueco','sueco','sueco','brasilieiro','brasilieiro','brasilieiro','brasilieiro','brasilieiro','brasilieiro','brasilieiro','brasilieiro','brasilieiro']\n",
    "\n",
    "\n",
    "c1 = [195,0,0]\n",
    "c2 = [189,1,1]\n",
    "c3 = [169,1,1]\n",
    "\n",
    "testData = [c1,c2,c3]\n",
    "testMarks = ['sueco', 'sueco', 'brasilerio']\n",
    "\n",
    "from sklearn.naive_bayes import MultinomialNB\n",
    "modelC = MultinomialNB()\n",
    "modelC.fit(pData, pMarks)\n",
    "\n",
    "result = modelC.predict(testData)\n",
    "\n",
    "print(result)"
   ]
  },
  {
   "cell_type": "code",
   "execution_count": null,
   "metadata": {
    "collapsed": true
   },
   "outputs": [],
   "source": []
  },
  {
   "cell_type": "code",
   "execution_count": null,
   "metadata": {
    "collapsed": true
   },
   "outputs": [],
   "source": []
  },
  {
   "cell_type": "code",
   "execution_count": null,
   "metadata": {
    "collapsed": true
   },
   "outputs": [],
   "source": []
  },
  {
   "cell_type": "code",
   "execution_count": null,
   "metadata": {
    "collapsed": true
   },
   "outputs": [],
   "source": []
  }
 ],
 "metadata": {
  "kernelspec": {
   "display_name": "Python 2",
   "language": "python",
   "name": "python2"
  },
  "language_info": {
   "codemirror_mode": {
    "name": "ipython",
    "version": 2
   },
   "file_extension": ".py",
   "mimetype": "text/x-python",
   "name": "python",
   "nbconvert_exporter": "python",
   "pygments_lexer": "ipython2",
   "version": "2.7.10"
  }
 },
 "nbformat": 4,
 "nbformat_minor": 0
}
