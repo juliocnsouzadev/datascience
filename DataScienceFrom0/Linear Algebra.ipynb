{
 "cells": [
  {
   "cell_type": "markdown",
   "metadata": {},
   "source": [
    "# Vectors"
   ]
  },
  {
   "cell_type": "markdown",
   "metadata": {},
   "source": [
    "### Adding"
   ]
  },
  {
   "cell_type": "code",
   "execution_count": 2,
   "metadata": {
    "collapsed": true
   },
   "outputs": [],
   "source": [
    "def vector_add(vec1, vec2):\n",
    "    return [v1i+ v2i\n",
    "           for v1i, v2i in zip(vec1, vec2)]"
   ]
  },
  {
   "cell_type": "code",
   "execution_count": 3,
   "metadata": {},
   "outputs": [
    {
     "data": {
      "text/plain": [
       "range(10, 20)"
      ]
     },
     "execution_count": 3,
     "metadata": {},
     "output_type": "execute_result"
    }
   ],
   "source": [
    "v1 = range(10,20)\n",
    "v1"
   ]
  },
  {
   "cell_type": "code",
   "execution_count": 5,
   "metadata": {},
   "outputs": [
    {
     "data": {
      "text/plain": [
       "range(60, 70)"
      ]
     },
     "execution_count": 5,
     "metadata": {},
     "output_type": "execute_result"
    }
   ],
   "source": [
    "v2 = range(60,70)\n",
    "v2"
   ]
  },
  {
   "cell_type": "code",
   "execution_count": 6,
   "metadata": {},
   "outputs": [
    {
     "data": {
      "text/plain": [
       "[70, 72, 74, 76, 78, 80, 82, 84, 86, 88]"
      ]
     },
     "execution_count": 6,
     "metadata": {},
     "output_type": "execute_result"
    }
   ],
   "source": [
    "v_add = vector_add(v1,v2)\n",
    "v_add"
   ]
  },
  {
   "cell_type": "markdown",
   "metadata": {},
   "source": [
    "### Subtracting"
   ]
  },
  {
   "cell_type": "code",
   "execution_count": 8,
   "metadata": {},
   "outputs": [],
   "source": [
    "def vector_subtract(vec1, vec2):\n",
    "    return [v1i -  v2i\n",
    "           for v1i, v2i in zip(vec1, vec2)]"
   ]
  },
  {
   "cell_type": "code",
   "execution_count": 11,
   "metadata": {},
   "outputs": [
    {
     "data": {
      "text/plain": [
       "[50, 50, 50, 50, 50, 50, 50, 50, 50, 50]"
      ]
     },
     "execution_count": 11,
     "metadata": {},
     "output_type": "execute_result"
    }
   ],
   "source": [
    "v_sub = vector_subtract(v2, v1)\n",
    "v_sub"
   ]
  },
  {
   "cell_type": "code",
   "execution_count": 13,
   "metadata": {},
   "outputs": [
    {
     "data": {
      "text/plain": [
       "[-50, -50, -50, -50, -50, -50, -50, -50, -50, -50]"
      ]
     },
     "execution_count": 13,
     "metadata": {},
     "output_type": "execute_result"
    }
   ],
   "source": [
    "v_sub = vector_subtract(v1, v2)\n",
    "v_sub"
   ]
  },
  {
   "cell_type": "markdown",
   "metadata": {},
   "source": [
    "### Sum list of vectors"
   ]
  },
  {
   "cell_type": "code",
   "execution_count": 20,
   "metadata": {
    "collapsed": true
   },
   "outputs": [],
   "source": [
    "from functools import reduce\n",
    "\n",
    "def vector_sum(vectors):\n",
    "    return reduce(vector_add, vectors)"
   ]
  },
  {
   "cell_type": "code",
   "execution_count": 21,
   "metadata": {},
   "outputs": [
    {
     "data": {
      "text/plain": [
       "[range(10, 20), range(60, 70), range(831, 841)]"
      ]
     },
     "execution_count": 21,
     "metadata": {},
     "output_type": "execute_result"
    }
   ],
   "source": [
    "from numpy import random as rd\n",
    "n = rd.randint(1000)\n",
    "v3 = range(n,(n+10))\n",
    "vectors = [v1, v2,v3]\n",
    "vectors"
   ]
  },
  {
   "cell_type": "code",
   "execution_count": 22,
   "metadata": {},
   "outputs": [
    {
     "data": {
      "text/plain": [
       "[901, 904, 907, 910, 913, 916, 919, 922, 925, 928]"
      ]
     },
     "execution_count": 22,
     "metadata": {},
     "output_type": "execute_result"
    }
   ],
   "source": [
    "v_sum = vector_sum(vectors)\n",
    "v_sum"
   ]
  },
  {
   "cell_type": "markdown",
   "metadata": {},
   "source": [
    "### Multiplication Scalar"
   ]
  },
  {
   "cell_type": "code",
   "execution_count": 23,
   "metadata": {
    "collapsed": true
   },
   "outputs": [],
   "source": [
    "def scalar_mult(scalar, vector):\n",
    "    return [ scalar * vi for vi in vector]"
   ]
  },
  {
   "cell_type": "code",
   "execution_count": 27,
   "metadata": {},
   "outputs": [
    {
     "name": "stdout",
     "output_type": "stream",
     "text": [
      "scalar:  0  mult:  [0, 0, 0, 0, 0, 0, 0, 0, 0, 0]\n",
      "scalar:  1  mult:  [60, 61, 62, 63, 64, 65, 66, 67, 68, 69]\n",
      "scalar:  2  mult:  [1662, 1664, 1666, 1668, 1670, 1672, 1674, 1676, 1678, 1680]\n"
     ]
    }
   ],
   "source": [
    "for i,vec in enumerate(vectors):\n",
    "    sm = scalar_mult(i, vec)\n",
    "    print('scalar: ', i, ' mult: ', sm)"
   ]
  },
  {
   "cell_type": "markdown",
   "metadata": {},
   "source": [
    "### Dot Product /Produto Scalar\n",
    "O produto escalar de dois vetores eh a soma de seus produtos item a item. O produto escalar mede a distancia a qual o vetor vec1 se estende na direcao de vec2, ou seja, eh o tamanho do vetor projetado no plano cartesiano"
   ]
  },
  {
   "cell_type": "code",
   "execution_count": 33,
   "metadata": {
    "collapsed": true
   },
   "outputs": [],
   "source": [
    "def dot_product(vec1, vec2):\n",
    "    return sum(v1i * v2i\n",
    "              for v1i , v2i in zip(vec1, vec2))"
   ]
  },
  {
   "cell_type": "code",
   "execution_count": 34,
   "metadata": {},
   "outputs": [
    {
     "data": {
      "text/plain": [
       "9435"
      ]
     },
     "execution_count": 34,
     "metadata": {},
     "output_type": "execute_result"
    }
   ],
   "source": [
    "dot_vec = dot_product(v1, v2)\n",
    "dot_vec"
   ]
  },
  {
   "cell_type": "markdown",
   "metadata": {},
   "source": [
    "### Sum of Squares"
   ]
  },
  {
   "cell_type": "code",
   "execution_count": 35,
   "metadata": {
    "collapsed": true
   },
   "outputs": [],
   "source": [
    "def sum_of_squares(vec):\n",
    "    return dot_product(vec, vec)"
   ]
  },
  {
   "cell_type": "code",
   "execution_count": 36,
   "metadata": {},
   "outputs": [
    {
     "name": "stdout",
     "output_type": "stream",
     "text": [
      "2185\n",
      "41685\n",
      "6980685\n"
     ]
    }
   ],
   "source": [
    "for v in vectors:\n",
    "    sos = sum_of_squares(v)\n",
    "    print(sos)"
   ]
  },
  {
   "cell_type": "markdown",
   "metadata": {},
   "source": [
    "### Magnitude (Size)"
   ]
  },
  {
   "cell_type": "code",
   "execution_count": 38,
   "metadata": {
    "collapsed": true
   },
   "outputs": [],
   "source": [
    "import math\n",
    "\n",
    "def magnitude(vec):\n",
    "    return math.sqrt(sum_of_squares(vec))"
   ]
  },
  {
   "cell_type": "code",
   "execution_count": 41,
   "metadata": {},
   "outputs": [
    {
     "name": "stdout",
     "output_type": "stream",
     "text": [
      "Magnitude of:  range(10, 20)  is:  46.74398357008097\n",
      "Magnitude of:  range(60, 70)  is:  204.16904760516468\n",
      "Magnitude of:  range(831, 841)  is:  2642.0985977059977\n"
     ]
    }
   ],
   "source": [
    "for v in vectors:\n",
    "    m = magnitude(v)\n",
    "    print('Magnitude of: ', v , ' is: ', m)"
   ]
  },
  {
   "cell_type": "markdown",
   "metadata": {},
   "source": [
    "### Distancia entre dois vetores"
   ]
  },
  {
   "cell_type": "code",
   "execution_count": 42,
   "metadata": {
    "collapsed": true
   },
   "outputs": [],
   "source": [
    "def distance(vec1, vec2):\n",
    "    return magnitude(vector_subtract(vec1, vec2))"
   ]
  },
  {
   "cell_type": "code",
   "execution_count": 43,
   "metadata": {},
   "outputs": [
    {
     "name": "stdout",
     "output_type": "stream",
     "text": [
      "Distance between:  range(10, 20)  and  range(10, 20)  is:  0.0\n",
      "Distance between:  range(10, 20)  and  range(60, 70)  is:  158.11388300841898\n",
      "Distance between:  range(10, 20)  and  range(831, 841)  is:  2596.2299589982395\n",
      "Distance between:  range(60, 70)  and  range(10, 20)  is:  158.11388300841898\n",
      "Distance between:  range(60, 70)  and  range(60, 70)  is:  0.0\n",
      "Distance between:  range(60, 70)  and  range(831, 841)  is:  2438.1160759898203\n",
      "Distance between:  range(831, 841)  and  range(10, 20)  is:  2596.2299589982395\n",
      "Distance between:  range(831, 841)  and  range(60, 70)  is:  2438.1160759898203\n",
      "Distance between:  range(831, 841)  and  range(831, 841)  is:  0.0\n"
     ]
    }
   ],
   "source": [
    "for v1 in vectors:\n",
    "    for v2 in vectors:\n",
    "        d = distance(v1, v2)\n",
    "        print('Distance between: ', v1, ' and ', v2, ' is: ', d)"
   ]
  },
  {
   "cell_type": "code",
   "execution_count": null,
   "metadata": {
    "collapsed": true
   },
   "outputs": [],
   "source": []
  }
 ],
 "metadata": {
  "kernelspec": {
   "display_name": "Python 3",
   "language": "python",
   "name": "python3"
  },
  "language_info": {
   "codemirror_mode": {
    "name": "ipython",
    "version": 3
   },
   "file_extension": ".py",
   "mimetype": "text/x-python",
   "name": "python",
   "nbconvert_exporter": "python",
   "pygments_lexer": "ipython3",
   "version": "3.6.1"
  }
 },
 "nbformat": 4,
 "nbformat_minor": 2
}
