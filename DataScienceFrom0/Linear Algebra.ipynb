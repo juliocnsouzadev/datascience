{
 "cells": [
  {
   "cell_type": "markdown",
   "metadata": {},
   "source": [
    "# Vectors"
   ]
  },
  {
   "cell_type": "markdown",
   "metadata": {},
   "source": [
    "### Adding"
   ]
  },
  {
   "cell_type": "code",
   "execution_count": 1,
   "metadata": {
    "collapsed": true
   },
   "outputs": [],
   "source": [
    "def vector_add(vec1, vec2):\n",
    "    return [v1i+ v2i\n",
    "           for v1i, v2i in zip(vec1, vec2)]"
   ]
  },
  {
   "cell_type": "code",
   "execution_count": 2,
   "metadata": {},
   "outputs": [
    {
     "data": {
      "text/plain": [
       "range(10, 20)"
      ]
     },
     "execution_count": 2,
     "metadata": {},
     "output_type": "execute_result"
    }
   ],
   "source": [
    "v1 = range(10,20)\n",
    "v1"
   ]
  },
  {
   "cell_type": "code",
   "execution_count": 3,
   "metadata": {},
   "outputs": [
    {
     "data": {
      "text/plain": [
       "range(60, 70)"
      ]
     },
     "execution_count": 3,
     "metadata": {},
     "output_type": "execute_result"
    }
   ],
   "source": [
    "v2 = range(60,70)\n",
    "v2"
   ]
  },
  {
   "cell_type": "code",
   "execution_count": 4,
   "metadata": {},
   "outputs": [
    {
     "data": {
      "text/plain": [
       "[70, 72, 74, 76, 78, 80, 82, 84, 86, 88]"
      ]
     },
     "execution_count": 4,
     "metadata": {},
     "output_type": "execute_result"
    }
   ],
   "source": [
    "v_add = vector_add(v1,v2)\n",
    "v_add"
   ]
  },
  {
   "cell_type": "markdown",
   "metadata": {},
   "source": [
    "### Subtracting"
   ]
  },
  {
   "cell_type": "code",
   "execution_count": 5,
   "metadata": {
    "collapsed": true
   },
   "outputs": [],
   "source": [
    "def vector_subtract(vec1, vec2):\n",
    "    return [v1i -  v2i\n",
    "           for v1i, v2i in zip(vec1, vec2)]"
   ]
  },
  {
   "cell_type": "code",
   "execution_count": 6,
   "metadata": {},
   "outputs": [
    {
     "data": {
      "text/plain": [
       "[50, 50, 50, 50, 50, 50, 50, 50, 50, 50]"
      ]
     },
     "execution_count": 6,
     "metadata": {},
     "output_type": "execute_result"
    }
   ],
   "source": [
    "v_sub = vector_subtract(v2, v1)\n",
    "v_sub"
   ]
  },
  {
   "cell_type": "code",
   "execution_count": 7,
   "metadata": {},
   "outputs": [
    {
     "data": {
      "text/plain": [
       "[-50, -50, -50, -50, -50, -50, -50, -50, -50, -50]"
      ]
     },
     "execution_count": 7,
     "metadata": {},
     "output_type": "execute_result"
    }
   ],
   "source": [
    "v_sub = vector_subtract(v1, v2)\n",
    "v_sub"
   ]
  },
  {
   "cell_type": "markdown",
   "metadata": {},
   "source": [
    "### Sum list of vectors"
   ]
  },
  {
   "cell_type": "code",
   "execution_count": 8,
   "metadata": {
    "collapsed": true
   },
   "outputs": [],
   "source": [
    "from functools import reduce\n",
    "\n",
    "def vector_sum(vectors):\n",
    "    return reduce(vector_add, vectors)"
   ]
  },
  {
   "cell_type": "code",
   "execution_count": 9,
   "metadata": {},
   "outputs": [
    {
     "data": {
      "text/plain": [
       "[range(10, 20), range(60, 70), range(738, 748)]"
      ]
     },
     "execution_count": 9,
     "metadata": {},
     "output_type": "execute_result"
    }
   ],
   "source": [
    "from numpy import random as rd\n",
    "n = rd.randint(1000)\n",
    "v3 = range(n,(n+10))\n",
    "vectors = [v1, v2,v3]\n",
    "vectors"
   ]
  },
  {
   "cell_type": "code",
   "execution_count": 10,
   "metadata": {},
   "outputs": [
    {
     "data": {
      "text/plain": [
       "[808, 811, 814, 817, 820, 823, 826, 829, 832, 835]"
      ]
     },
     "execution_count": 10,
     "metadata": {},
     "output_type": "execute_result"
    }
   ],
   "source": [
    "v_sum = vector_sum(vectors)\n",
    "v_sum"
   ]
  },
  {
   "cell_type": "markdown",
   "metadata": {},
   "source": [
    "### Multiplication Scalar"
   ]
  },
  {
   "cell_type": "code",
   "execution_count": 11,
   "metadata": {
    "collapsed": true
   },
   "outputs": [],
   "source": [
    "def scalar_mult(scalar, vector):\n",
    "    return [ scalar * vi for vi in vector]"
   ]
  },
  {
   "cell_type": "code",
   "execution_count": 12,
   "metadata": {},
   "outputs": [
    {
     "name": "stdout",
     "output_type": "stream",
     "text": [
      "scalar:  0  mult:  [0, 0, 0, 0, 0, 0, 0, 0, 0, 0]\n",
      "scalar:  1  mult:  [60, 61, 62, 63, 64, 65, 66, 67, 68, 69]\n",
      "scalar:  2  mult:  [1476, 1478, 1480, 1482, 1484, 1486, 1488, 1490, 1492, 1494]\n"
     ]
    }
   ],
   "source": [
    "for i,vec in enumerate(vectors):\n",
    "    sm = scalar_mult(i, vec)\n",
    "    print('scalar: ', i, ' mult: ', sm)"
   ]
  },
  {
   "cell_type": "markdown",
   "metadata": {},
   "source": [
    "### Dot Product /Produto Scalar\n",
    "O produto escalar de dois vetores eh a soma de seus produtos item a item. O produto escalar mede a distancia a qual o vetor vec1 se estende na direcao de vec2, ou seja, eh o tamanho do vetor projetado no plano cartesiano"
   ]
  },
  {
   "cell_type": "code",
   "execution_count": 13,
   "metadata": {
    "collapsed": true
   },
   "outputs": [],
   "source": [
    "def dot_product(vec1, vec2):\n",
    "    return sum(v1i * v2i\n",
    "              for v1i , v2i in zip(vec1, vec2))"
   ]
  },
  {
   "cell_type": "code",
   "execution_count": 14,
   "metadata": {},
   "outputs": [
    {
     "data": {
      "text/plain": [
       "9435"
      ]
     },
     "execution_count": 14,
     "metadata": {},
     "output_type": "execute_result"
    }
   ],
   "source": [
    "dot_vec = dot_product(v1, v2)\n",
    "dot_vec"
   ]
  },
  {
   "cell_type": "markdown",
   "metadata": {},
   "source": [
    "### Sum of Squares"
   ]
  },
  {
   "cell_type": "code",
   "execution_count": 15,
   "metadata": {
    "collapsed": true
   },
   "outputs": [],
   "source": [
    "def sum_of_squares(vec):\n",
    "    return dot_product(vec, vec)"
   ]
  },
  {
   "cell_type": "code",
   "execution_count": 16,
   "metadata": {},
   "outputs": [
    {
     "name": "stdout",
     "output_type": "stream",
     "text": [
      "2185\n",
      "41685\n",
      "5513145\n"
     ]
    }
   ],
   "source": [
    "for v in vectors:\n",
    "    sos = sum_of_squares(v)\n",
    "    print(sos)"
   ]
  },
  {
   "cell_type": "markdown",
   "metadata": {},
   "source": [
    "### Magnitude (Size)"
   ]
  },
  {
   "cell_type": "code",
   "execution_count": 17,
   "metadata": {
    "collapsed": true
   },
   "outputs": [],
   "source": [
    "import math\n",
    "\n",
    "def magnitude(vec):\n",
    "    return math.sqrt(sum_of_squares(vec))"
   ]
  },
  {
   "cell_type": "code",
   "execution_count": 18,
   "metadata": {},
   "outputs": [
    {
     "name": "stdout",
     "output_type": "stream",
     "text": [
      "Magnitude of:  range(10, 20)  is:  46.74398357008097\n",
      "Magnitude of:  range(60, 70)  is:  204.16904760516468\n",
      "Magnitude of:  range(738, 748)  is:  2348.0087308185207\n"
     ]
    }
   ],
   "source": [
    "for v in vectors:\n",
    "    m = magnitude(v)\n",
    "    print('Magnitude of: ', v , ' is: ', m)"
   ]
  },
  {
   "cell_type": "markdown",
   "metadata": {},
   "source": [
    "### Distancia entre dois vetores"
   ]
  },
  {
   "cell_type": "code",
   "execution_count": 19,
   "metadata": {
    "collapsed": true
   },
   "outputs": [],
   "source": [
    "def distance(vec1, vec2):\n",
    "    return magnitude(vector_subtract(vec1, vec2))"
   ]
  },
  {
   "cell_type": "code",
   "execution_count": 20,
   "metadata": {},
   "outputs": [
    {
     "name": "stdout",
     "output_type": "stream",
     "text": [
      "Distance between:  range(10, 20)  and  range(10, 20)  is:  0.0\n",
      "Distance between:  range(10, 20)  and  range(60, 70)  is:  158.11388300841898\n",
      "Distance between:  range(10, 20)  and  range(738, 748)  is:  2302.1381366025803\n",
      "Distance between:  range(60, 70)  and  range(10, 20)  is:  158.11388300841898\n",
      "Distance between:  range(60, 70)  and  range(60, 70)  is:  0.0\n",
      "Distance between:  range(60, 70)  and  range(738, 748)  is:  2144.024253594161\n",
      "Distance between:  range(738, 748)  and  range(10, 20)  is:  2302.1381366025803\n",
      "Distance between:  range(738, 748)  and  range(60, 70)  is:  2144.024253594161\n",
      "Distance between:  range(738, 748)  and  range(738, 748)  is:  0.0\n"
     ]
    }
   ],
   "source": [
    "for v1 in vectors:\n",
    "    for v2 in vectors:\n",
    "        d = distance(v1, v2)\n",
    "        print('Distance between: ', v1, ' and ', v2, ' is: ', d)"
   ]
  },
  {
   "cell_type": "markdown",
   "metadata": {
    "collapsed": true
   },
   "source": [
    "## Parallel Orthogonol"
   ]
  },
  {
   "cell_type": "code",
   "execution_count": 21,
   "metadata": {
    "collapsed": true
   },
   "outputs": [],
   "source": [
    "def is_orthogonol(vec1, vec2, tolerance=1e-10):\n",
    "    return abs(dot_product(vec1, vec2)) < tolerance;"
   ]
  },
  {
   "cell_type": "code",
   "execution_count": 22,
   "metadata": {
    "collapsed": true
   },
   "outputs": [],
   "source": [
    "zeros = [0,0,0,0,0]\n",
    "ones = [1,1,1,1,1]\n",
    "seq = [1,2,3,4,5]"
   ]
  },
  {
   "cell_type": "code",
   "execution_count": 23,
   "metadata": {},
   "outputs": [
    {
     "data": {
      "text/plain": [
       "True"
      ]
     },
     "execution_count": 23,
     "metadata": {},
     "output_type": "execute_result"
    }
   ],
   "source": [
    "is_orthogonol(zeros,ones)"
   ]
  },
  {
   "cell_type": "code",
   "execution_count": 24,
   "metadata": {},
   "outputs": [
    {
     "data": {
      "text/plain": [
       "False"
      ]
     },
     "execution_count": 24,
     "metadata": {},
     "output_type": "execute_result"
    }
   ],
   "source": [
    "is_orthogonol(ones, seq)"
   ]
  },
  {
   "cell_type": "code",
   "execution_count": 25,
   "metadata": {
    "collapsed": true
   },
   "outputs": [],
   "source": [
    "def is_zero(vec, tolerance=1e-10):\n",
    "    return magnitude(vec) < tolerance"
   ]
  },
  {
   "cell_type": "code",
   "execution_count": 26,
   "metadata": {
    "collapsed": true
   },
   "outputs": [],
   "source": [
    "from math import pi\n",
    "\n",
    "def angle(vec1, vec2, in_degrees = False):\n",
    "    return 0;"
   ]
  },
  {
   "cell_type": "code",
   "execution_count": 27,
   "metadata": {
    "collapsed": true
   },
   "outputs": [],
   "source": [
    "def is_parallel(vec1, vec2):\n",
    "    return (is_zero(vec1) or\n",
    "           is_zero(vec2) or\n",
    "           angle(vec1,vec2) == 0 or\n",
    "           angle(vec1,vec2) == pi)"
   ]
  },
  {
   "cell_type": "code",
   "execution_count": 29,
   "metadata": {},
   "outputs": [
    {
     "data": {
      "text/plain": [
       "True"
      ]
     },
     "execution_count": 29,
     "metadata": {},
     "output_type": "execute_result"
    }
   ],
   "source": [
    "is_parallel(seq,ones)"
   ]
  },
  {
   "cell_type": "code",
   "execution_count": null,
   "metadata": {
    "collapsed": true
   },
   "outputs": [],
   "source": []
  }
 ],
 "metadata": {
  "kernelspec": {
   "display_name": "Python 3",
   "language": "python",
   "name": "python3"
  },
  "language_info": {
   "codemirror_mode": {
    "name": "ipython",
    "version": 3
   },
   "file_extension": ".py",
   "mimetype": "text/x-python",
   "name": "python",
   "nbconvert_exporter": "python",
   "pygments_lexer": "ipython3",
   "version": "3.6.1"
  }
 },
 "nbformat": 4,
 "nbformat_minor": 2
}
