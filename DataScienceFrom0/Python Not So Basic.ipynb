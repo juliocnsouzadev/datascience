{
 "cells": [
  {
   "cell_type": "markdown",
   "metadata": {},
   "source": [
    "# Sorting"
   ]
  },
  {
   "cell_type": "code",
   "execution_count": 2,
   "metadata": {
    "collapsed": false
   },
   "outputs": [
    {
     "name": "stdout",
     "output_type": "stream",
     "text": [
      "x:  [4, 1, 2, 3]\n",
      "y:  [1, 2, 3, 4]\n",
      "x:  [1, 2, 3, 4]\n",
      "rv:  [4, 3, 2, 1]\n"
     ]
    }
   ],
   "source": [
    "x = [4,1,2,3]\n",
    "y = sorted(x) #y has x elements sorted\n",
    "print('x: ',x)\n",
    "print('y: ',y)\n",
    "\n",
    "x.sort() #now x is sorted\n",
    "print('x: ',x)\n",
    "\n",
    "rv = sorted(x, key=abs, reverse=True)\n",
    "print('rv: ', rv)"
   ]
  },
  {
   "cell_type": "markdown",
   "metadata": {
    "collapsed": true
   },
   "source": [
    "# List Compression"
   ]
  },
  {
   "cell_type": "markdown",
   "metadata": {},
   "source": [
    "### Turn a list into another, picking just a few elements and changing them"
   ]
  },
  {
   "cell_type": "code",
   "execution_count": 3,
   "metadata": {
    "collapsed": false
   },
   "outputs": [
    {
     "name": "stdout",
     "output_type": "stream",
     "text": [
      "even numbers:  [1, 3, 5, 7, 9]\n"
     ]
    }
   ],
   "source": [
    "even_numbers = [x for x in range(10) if x % 2 -- 0]\n",
    "print('even numbers: ', even_numbers)"
   ]
  },
  {
   "cell_type": "code",
   "execution_count": 4,
   "metadata": {
    "collapsed": false
   },
   "outputs": [
    {
     "name": "stdout",
     "output_type": "stream",
     "text": [
      "squares:  [0, 1, 4, 9, 16, 25, 36, 49, 64, 81]\n"
     ]
    }
   ],
   "source": [
    "squares = [x*x for x in range(10)]\n",
    "print('squares: ', squares)"
   ]
  },
  {
   "cell_type": "code",
   "execution_count": 5,
   "metadata": {
    "collapsed": false
   },
   "outputs": [
    {
     "name": "stdout",
     "output_type": "stream",
     "text": [
      "square dict:  {0: 0, 1: 1, 2: 4, 3: 9, 4: 16, 5: 25, 6: 36, 7: 49, 8: 64, 9: 81}\n"
     ]
    }
   ],
   "source": [
    "square_dict = {x : x * x for x in range(10)}\n",
    "print('square dict: ', square_dict)"
   ]
  },
  {
   "cell_type": "code",
   "execution_count": 6,
   "metadata": {
    "collapsed": false
   },
   "outputs": [
    {
     "name": "stdout",
     "output_type": "stream",
     "text": [
      "square set:  {1}\n"
     ]
    }
   ],
   "source": [
    "square_set = {x * x for x in [1,-1]}\n",
    "print('square set: ', square_set)"
   ]
  },
  {
   "cell_type": "code",
   "execution_count": 7,
   "metadata": {
    "collapsed": false
   },
   "outputs": [
    {
     "name": "stdout",
     "output_type": "stream",
     "text": [
      "pairs:  [(0, 0), (0, 1), (0, 2), (0, 3), (0, 4), (0, 5), (0, 6), (0, 7), (0, 8), (0, 9), (1, 0), (1, 1), (1, 2), (1, 3), (1, 4), (1, 5), (1, 6), (1, 7), (1, 8), (1, 9), (2, 0), (2, 1), (2, 2), (2, 3), (2, 4), (2, 5), (2, 6), (2, 7), (2, 8), (2, 9), (3, 0), (3, 1), (3, 2), (3, 3), (3, 4), (3, 5), (3, 6), (3, 7), (3, 8), (3, 9), (4, 0), (4, 1), (4, 2), (4, 3), (4, 4), (4, 5), (4, 6), (4, 7), (4, 8), (4, 9), (5, 0), (5, 1), (5, 2), (5, 3), (5, 4), (5, 5), (5, 6), (5, 7), (5, 8), (5, 9), (6, 0), (6, 1), (6, 2), (6, 3), (6, 4), (6, 5), (6, 6), (6, 7), (6, 8), (6, 9), (7, 0), (7, 1), (7, 2), (7, 3), (7, 4), (7, 5), (7, 6), (7, 7), (7, 8), (7, 9), (8, 0), (8, 1), (8, 2), (8, 3), (8, 4), (8, 5), (8, 6), (8, 7), (8, 8), (8, 9), (9, 0), (9, 1), (9, 2), (9, 3), (9, 4), (9, 5), (9, 6), (9, 7), (9, 8), (9, 9)]\n"
     ]
    }
   ],
   "source": [
    "pairs = [(x,y)\n",
    "        for x in range(10)\n",
    "        for y in range(10)]\n",
    "print('pairs: ', pairs)"
   ]
  },
  {
   "cell_type": "code",
   "execution_count": 8,
   "metadata": {
    "collapsed": false
   },
   "outputs": [
    {
     "name": "stdout",
     "output_type": "stream",
     "text": [
      "increasing pairs:  [(0, 1), (0, 2), (0, 3), (0, 4), (0, 5), (0, 6), (0, 7), (0, 8), (0, 9), (1, 2), (1, 3), (1, 4), (1, 5), (1, 6), (1, 7), (1, 8), (1, 9), (2, 3), (2, 4), (2, 5), (2, 6), (2, 7), (2, 8), (2, 9), (3, 4), (3, 5), (3, 6), (3, 7), (3, 8), (3, 9), (4, 5), (4, 6), (4, 7), (4, 8), (4, 9)]\n"
     ]
    }
   ],
   "source": [
    "increasing_pairs = [(x,y)\n",
    "                   for x in range(5)\n",
    "                   for y in range(x + 1, 10)]\n",
    "print('increasing pairs: ', increasing_pairs)"
   ]
  },
  {
   "cell_type": "markdown",
   "metadata": {},
   "source": [
    "# Random"
   ]
  },
  {
   "cell_type": "code",
   "execution_count": 20,
   "metadata": {
    "collapsed": false
   },
   "outputs": [
    {
     "name": "stdout",
     "output_type": "stream",
     "text": [
      "some random numbers:  [73, 51, 8, 49, 8, 19, 15, 23]\n"
     ]
    }
   ],
   "source": [
    "import random as rdm\n",
    "\n",
    "some_random_numbers = [int(rdm.random()*100) for _ in range(int(rdm.random() * 10))]\n",
    "print(\"some random numbers: \", some_random_numbers)"
   ]
  },
  {
   "cell_type": "code",
   "execution_count": 23,
   "metadata": {
    "collapsed": false
   },
   "outputs": [
    {
     "name": "stdout",
     "output_type": "stream",
     "text": [
      "rdmRange1:  7\n"
     ]
    }
   ],
   "source": [
    "rdmRange1 = rdm.randrange(10)\n",
    "print('rdmRange1: ', rdmRange1)"
   ]
  },
  {
   "cell_type": "code",
   "execution_count": 24,
   "metadata": {
    "collapsed": false
   },
   "outputs": [
    {
     "name": "stdout",
     "output_type": "stream",
     "text": [
      "rdmRange2:  5\n"
     ]
    }
   ],
   "source": [
    "rdmRange2 = rdm.randrange(4,9)\n",
    "print('rdmRange2: ', rdmRange2)"
   ]
  },
  {
   "cell_type": "code",
   "execution_count": 36,
   "metadata": {
    "collapsed": false
   },
   "outputs": [
    {
     "name": "stdout",
     "output_type": "stream",
     "text": [
      "shuffle:  [0, 6, 2, 7, 4, 8, 5, 1, 9, 3]\n"
     ]
    }
   ],
   "source": [
    "shuffle = [0,1,2,3,4,5,6,7,8,9]\n",
    "rdm.shuffle(shuffle)\n",
    "print('shuffle: ', shuffle)"
   ]
  },
  {
   "cell_type": "code",
   "execution_count": 40,
   "metadata": {
    "collapsed": false
   },
   "outputs": [
    {
     "name": "stdout",
     "output_type": "stream",
     "text": [
      "what's for dinner:  burger\n"
     ]
    }
   ],
   "source": [
    "dinner_opts = [\"rice and beans\",\"pasta\",\"burger\"]\n",
    "whats_for_dinner= rdm.choice(dinner_opts)\n",
    "print(\"what's for dinner: \", whats_for_dinner)"
   ]
  },
  {
   "cell_type": "code",
   "execution_count": 38,
   "metadata": {
    "collapsed": false
   },
   "outputs": [
    {
     "name": "stdout",
     "output_type": "stream",
     "text": [
      "winning numbers:  [34, 38, 16, 10, 14, 1]\n"
     ]
    }
   ],
   "source": [
    "mega_sena = range(60)\n",
    "winning_numbers = (rdm.sample(mega_sena,6))\n",
    "print(\"winning numbers: \", winning_numbers)"
   ]
  },
  {
   "cell_type": "code",
   "execution_count": 47,
   "metadata": {
    "collapsed": false
   },
   "outputs": [
    {
     "name": "stdout",
     "output_type": "stream",
     "text": [
      "[('mon', 'rice and beans'), ('tue', 'rice and beans'), ('wed', 'pasta'), ('thu', 'pasta'), ('fri', 'pasta'), ('sat', 'pasta'), ('sun', 'rice and beans')]\n"
     ]
    }
   ],
   "source": [
    "week_days = ['mon','tue','wed','thu','fri','sat','sun']\n",
    "week_dinner = [(day, dinner)\n",
    "              for day in week_days\n",
    "              for dinner in rdm.sample(dinner_opts,1)]\n",
    "print(week_dinner)"
   ]
  },
  {
   "cell_type": "markdown",
   "metadata": {},
   "source": [
    "# Functional Tools"
   ]
  },
  {
   "cell_type": "code",
   "execution_count": 48,
   "metadata": {
    "collapsed": false
   },
   "outputs": [
    {
     "name": "stdout",
     "output_type": "stream",
     "text": [
      "8\n"
     ]
    }
   ],
   "source": [
    "from functools import partial\n",
    "\n",
    "def exp(base, power):\n",
    "    return base ** power\n",
    "\n",
    "to_the_square = partial(exp, 2)\n",
    "print(to_the_square(3))"
   ]
  },
  {
   "cell_type": "code",
   "execution_count": 60,
   "metadata": {
    "collapsed": false
   },
   "outputs": [
    {
     "name": "stdout",
     "output_type": "stream",
     "text": [
      "twice shuffle:  [0, 12, 4, 14, 8, 16, 10, 2, 18, 6]\n",
      "twice shuffle:  [0, 12, 4, 14, 8, 16, 10, 2, 18, 6]\n",
      "twice shuffle:  [0, 12, 4, 14, 8, 16, 10, 2, 18, 6]\n"
     ]
    }
   ],
   "source": [
    "def double(x):\n",
    "    return 2 * x\n",
    "\n",
    "twice_shuffle = [double(x) for x in shuffle]\n",
    "print(\"twice shuffle: \", twice_shuffle)\n",
    "\n",
    "twice_shuffle = list(map(double, shuffle))\n",
    "print(\"twice shuffle: \", twice_shuffle)\n",
    "\n",
    "twice_shuffle = list(map(lambda x : x * 2, shuffle))\n",
    "print(\"twice shuffle: \", twice_shuffle)"
   ]
  },
  {
   "cell_type": "code",
   "execution_count": 65,
   "metadata": {
    "collapsed": false
   },
   "outputs": [
    {
     "name": "stdout",
     "output_type": "stream",
     "text": [
      "evens shuffle:  [0, 6, 2, 4, 8]\n",
      "evens shuffle:  [0, 6, 2, 4, 8]\n",
      "evens shuffle:  [0, 6, 2, 4, 8]\n"
     ]
    }
   ],
   "source": [
    "def is_even(x):\n",
    "    return x % 2 == 0\n",
    "\n",
    "evens_shuffle = [x for x in shuffle if is_even(x)]\n",
    "print(\"evens shuffle: \", evens_shuffle)\n",
    "\n",
    "evens_shuffle = list(filter(is_even, shuffle))\n",
    "print(\"evens shuffle: \", evens_shuffle)\n",
    "\n",
    "evens_shuffle = list(filter(lambda x : x % 2 == 0, shuffle))\n",
    "print(\"evens shuffle: \", evens_shuffle)"
   ]
  },
  {
   "cell_type": "markdown",
   "metadata": {},
   "source": [
    "# Enumerate"
   ]
  },
  {
   "cell_type": "code",
   "execution_count": 66,
   "metadata": {
    "collapsed": false
   },
   "outputs": [
    {
     "name": "stdout",
     "output_type": "stream",
     "text": [
      "0   rice and beans\n",
      "1   pasta\n",
      "2   burger\n"
     ]
    }
   ],
   "source": [
    "for i, opt in enumerate(dinner_opts): print(i, \" \", opt)"
   ]
  },
  {
   "cell_type": "code",
   "execution_count": 68,
   "metadata": {
    "collapsed": false
   },
   "outputs": [
    {
     "name": "stdout",
     "output_type": "stream",
     "text": [
      "zipedOpts:  [(1, 'rice and beans'), (2, 'pasta'), (3, 'burger')]\n"
     ]
    }
   ],
   "source": [
    "opts = [1,2,3]\n",
    "zipedOpts = list(zip(opts, dinner_opts))\n",
    "\n",
    "print(\"zipedOpts: \" , zipedOpts)"
   ]
  },
  {
   "cell_type": "code",
   "execution_count": 70,
   "metadata": {
    "collapsed": false
   },
   "outputs": [
    {
     "name": "stdout",
     "output_type": "stream",
     "text": [
      "nOpts:  (1, 2, 3)\n",
      "tOpts:  ('rice and beans', 'pasta', 'burger')\n"
     ]
    }
   ],
   "source": [
    "nOpts, tOpts = zip(*zipedOpts)\n",
    "print(\"nOpts: \", nOpts)\n",
    "print(\"tOpts: \", tOpts)"
   ]
  },
  {
   "cell_type": "code",
   "execution_count": null,
   "metadata": {
    "collapsed": true
   },
   "outputs": [],
   "source": []
  }
 ],
 "metadata": {
  "kernelspec": {
   "display_name": "Python 3",
   "language": "python",
   "name": "python3"
  },
  "language_info": {
   "codemirror_mode": {
    "name": "ipython",
    "version": 3
   },
   "file_extension": ".py",
   "mimetype": "text/x-python",
   "name": "python",
   "nbconvert_exporter": "python",
   "pygments_lexer": "ipython3",
   "version": "3.6.0"
  }
 },
 "nbformat": 4,
 "nbformat_minor": 0
}
