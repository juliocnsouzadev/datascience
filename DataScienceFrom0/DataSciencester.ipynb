{
 "cells": [
  {
   "cell_type": "markdown",
   "metadata": {},
   "source": [
    "# Main data of DataSciencester"
   ]
  },
  {
   "cell_type": "markdown",
   "metadata": {
    "collapsed": true
   },
   "source": [
    "## DataSciencester Users"
   ]
  },
  {
   "cell_type": "code",
   "execution_count": 26,
   "metadata": {
    "collapsed": true
   },
   "outputs": [],
   "source": [
    "users = [{'id':0, 'name':'Julio'},\n",
    "        {'id':1, 'name':'Julia'},\n",
    "        {'id':2, 'name':'Marilia'},\n",
    "        {'id':3, 'name':'Adelia'},\n",
    "        {'id':4, 'name':'Alberto'},\n",
    "        {'id':5, 'name':'Maria Luiza'},\n",
    "        {'id':6, 'name':'Jeronimo'},\n",
    "        {'id':7, 'name':'Elaine'},\n",
    "        {'id':8, 'name':'Elisangela'},\n",
    "        {'id':9, 'name':'Eliana'}]"
   ]
  },
  {
   "cell_type": "markdown",
   "metadata": {},
   "source": [
    "## Users Friendship Relationships"
   ]
  },
  {
   "cell_type": "code",
   "execution_count": 3,
   "metadata": {
    "collapsed": true
   },
   "outputs": [],
   "source": [
    "friendships =[(0,1),(0,2),(1,2),(1,3),(2,3),(3,4),(4,5),(5,6),(5,7),(6,8),(7,8),(8,9)]"
   ]
  },
  {
   "cell_type": "markdown",
   "metadata": {},
   "source": [
    "## Setting friends as an attribute of users"
   ]
  },
  {
   "cell_type": "code",
   "execution_count": 28,
   "metadata": {
    "collapsed": true
   },
   "outputs": [],
   "source": [
    "for user in users:\n",
    "    user['friends'] = []\n",
    "\n",
    "for i, j in friendships:\n",
    "    users[i]['friends'].append(users[j])\n",
    "    users[j]['friends'].append(users[i])"
   ]
  },
  {
   "cell_type": "markdown",
   "metadata": {
    "collapsed": true
   },
   "source": [
    "# Looking into the the total of connections"
   ]
  },
  {
   "cell_type": "code",
   "execution_count": 29,
   "metadata": {
    "collapsed": false
   },
   "outputs": [
    {
     "name": "stdout",
     "output_type": "stream",
     "text": [
      "24\n"
     ]
    }
   ],
   "source": [
    "def number_of_friends(user):\n",
    "    return len(user['friends'])\n",
    "\n",
    "total_connections = sum(number_of_friends(user) for user in users)\n",
    "print(total_connections)"
   ]
  },
  {
   "cell_type": "markdown",
   "metadata": {
    "collapsed": false
   },
   "source": [
    "# Avarage of connections by user"
   ]
  },
  {
   "cell_type": "code",
   "execution_count": 8,
   "metadata": {
    "collapsed": false
   },
   "outputs": [
    {
     "name": "stdout",
     "output_type": "stream",
     "text": [
      "10\n",
      "2.4\n"
     ]
    }
   ],
   "source": [
    "num_users = len(users)\n",
    "print(num_users)\n",
    "avg_connections = total_connections / num_users\n",
    "print(avg_connections)"
   ]
  },
  {
   "cell_type": "markdown",
   "metadata": {},
   "source": [
    "# Other DataScientists You May Know"
   ]
  },
  {
   "cell_type": "markdown",
   "metadata": {},
   "source": [
    "## Mutual Friends"
   ]
  },
  {
   "cell_type": "code",
   "execution_count": 33,
   "metadata": {
    "collapsed": false
   },
   "outputs": [
    {
     "name": "stdout",
     "output_type": "stream",
     "text": [
      "Julio  is friend of:\n",
      "['Julia', 'Marilia']\n",
      "Julia  is friend of:\n",
      "['Julio', 'Marilia', 'Adelia']\n",
      "Marilia  is friend of:\n",
      "['Julio', 'Julia', 'Adelia']\n",
      "Adelia  is friend of:\n",
      "['Julia', 'Marilia', 'Alberto']\n",
      "Alberto  is friend of:\n",
      "['Adelia', 'Maria Luiza']\n",
      "Maria Luiza  is friend of:\n",
      "['Alberto', 'Jeronimo', 'Elaine']\n",
      "Jeronimo  is friend of:\n",
      "['Maria Luiza', 'Elisangela']\n",
      "Elaine  is friend of:\n",
      "['Maria Luiza', 'Elisangela']\n",
      "Elisangela  is friend of:\n",
      "['Jeronimo', 'Elaine', 'Eliana']\n",
      "Eliana  is friend of:\n",
      "['Elisangela']\n"
     ]
    }
   ],
   "source": [
    "num_friends_by_id = [(user['id'], number_of_friends(user)) for user in users]\n",
    "\n",
    "sorted(num_friends_by_id, \n",
    "       key=lambda pair: pair[1], \n",
    "       reverse=True)\n",
    "\n",
    "def friends_of_friends_ids_bad(user):\n",
    "    return [foaf['id']\n",
    "           for friend in user['friends']\n",
    "           for foaf in friend['friends']]\n",
    "\n",
    "for user in users:\n",
    "    print(user['name'], ' is friend of:')\n",
    "    print([friend['name'] for friend in user['friends']])"
   ]
  },
  {
   "cell_type": "code",
   "execution_count": 35,
   "metadata": {
    "collapsed": false
   },
   "outputs": [
    {
     "name": "stdout",
     "output_type": "stream",
     "text": [
      "Julio   [0, 2, 3, 0, 1, 3]\n",
      "Julia   [0, 2, 3, 0, 1, 3]\n",
      "Marilia   [0, 2, 3, 0, 1, 3]\n",
      "Adelia   [0, 2, 3, 0, 1, 3]\n",
      "Alberto   [0, 2, 3, 0, 1, 3]\n",
      "Maria Luiza   [0, 2, 3, 0, 1, 3]\n",
      "Jeronimo   [0, 2, 3, 0, 1, 3]\n",
      "Elaine   [0, 2, 3, 0, 1, 3]\n",
      "Elisangela   [0, 2, 3, 0, 1, 3]\n",
      "Eliana   [0, 2, 3, 0, 1, 3]\n"
     ]
    }
   ],
   "source": [
    "for user in users:\n",
    "    fofids = friends_of_friends_ids_bad(users[0])\n",
    "    print(user['name'], ' ', fofids)"
   ]
  },
  {
   "cell_type": "markdown",
   "metadata": {
    "collapsed": true
   },
   "source": [
    "\n",
    "#### A better way"
   ]
  },
  {
   "cell_type": "code",
   "execution_count": 36,
   "metadata": {
    "collapsed": false
   },
   "outputs": [],
   "source": [
    "def not_the_same(user1, user2):\n",
    "    return user1['id'] != user2['id']\n",
    "\n",
    "def not_friends(user1, user2):\n",
    "    return all(not_the_same(friend, user2) for friend in user['friends'])"
   ]
  },
  {
   "cell_type": "code",
   "execution_count": 38,
   "metadata": {
    "collapsed": false
   },
   "outputs": [
    {
     "name": "stdout",
     "output_type": "stream",
     "text": [
      "Julio   Counter({3: 2})\n",
      "Julia   Counter({4: 1})\n",
      "Marilia   Counter({4: 1})\n",
      "Adelia   Counter({0: 2, 5: 1})\n",
      "Alberto   Counter({1: 1, 2: 1, 6: 1, 7: 1})\n",
      "Maria Luiza   Counter({8: 2, 3: 1})\n",
      "Jeronimo   Counter({7: 2, 4: 1, 9: 1})\n",
      "Elaine   Counter({6: 2, 4: 1, 9: 1})\n",
      "Elisangela   Counter({5: 2})\n",
      "Eliana   Counter({6: 1, 7: 1})\n"
     ]
    }
   ],
   "source": [
    "from collections import Counter\n",
    "\n",
    "def friends_of_friends_ids(user):\n",
    "    return Counter(foaf['id']\n",
    "                  for friend in user['friends']\n",
    "                  for foaf in friend['friends']\n",
    "                  if not_the_same(user, foaf) \n",
    "                  and not_friends(user, foaf))\n",
    "\n",
    "for user in users:\n",
    "    print(user['name'],\" \",friends_of_friends_ids(user))"
   ]
  },
  {
   "cell_type": "code",
   "execution_count": 53,
   "metadata": {
    "collapsed": false
   },
   "outputs": [
    {
     "name": "stdout",
     "output_type": "stream",
     "text": [
      "Julio  may also know: \n",
      "->  Adelia . Because  2  mutual friends.\n",
      "-----------------------\n",
      "Julia  may also know: \n",
      "->  Alberto . Because  1  mutual friends.\n",
      "-----------------------\n",
      "Marilia  may also know: \n",
      "->  Alberto . Because  1  mutual friends.\n",
      "-----------------------\n",
      "Adelia  may also know: \n",
      "->  Julio . Because  2  mutual friends.\n",
      "->  Maria Luiza . Because  1  mutual friends.\n",
      "-----------------------\n",
      "Alberto  may also know: \n",
      "->  Julia . Because  1  mutual friends.\n",
      "->  Marilia . Because  1  mutual friends.\n",
      "->  Jeronimo . Because  1  mutual friends.\n",
      "->  Elaine . Because  1  mutual friends.\n",
      "-----------------------\n",
      "Maria Luiza  may also know: \n",
      "->  Adelia . Because  1  mutual friends.\n",
      "->  Elisangela . Because  2  mutual friends.\n",
      "-----------------------\n",
      "Jeronimo  may also know: \n",
      "->  Alberto . Because  1  mutual friends.\n",
      "->  Elaine . Because  2  mutual friends.\n",
      "->  Eliana . Because  1  mutual friends.\n",
      "-----------------------\n",
      "Elaine  may also know: \n",
      "->  Alberto . Because  1  mutual friends.\n",
      "->  Jeronimo . Because  2  mutual friends.\n",
      "->  Eliana . Because  1  mutual friends.\n",
      "-----------------------\n",
      "Elisangela  may also know: \n",
      "->  Maria Luiza . Because  2  mutual friends.\n",
      "-----------------------\n",
      "Eliana  may also know: \n",
      "->  Jeronimo . Because  1  mutual friends.\n",
      "->  Elaine . Because  1  mutual friends.\n",
      "-----------------------\n"
     ]
    }
   ],
   "source": [
    "for user in users:\n",
    "    counter = friends_of_friends_ids(user)\n",
    "    print(user['name'],\" may also know: \")\n",
    "    for possibleFriend in users:\n",
    "        hits = counter[possibleFriend['id']]\n",
    "        if (hits == 0): \n",
    "            continue\n",
    "        print(\"-> \", possibleFriend['name'],\". Because \", hits, \" mutual friends.\")\n",
    "    print('-----------------------')\n",
    "    "
   ]
  },
  {
   "cell_type": "markdown",
   "metadata": {},
   "source": [
    "## Mutual Interests"
   ]
  },
  {
   "cell_type": "code",
   "execution_count": 45,
   "metadata": {
    "collapsed": true
   },
   "outputs": [],
   "source": [
    "interests = [\n",
    "    (0, \"Hadoop\"), (0, \"Big Data\"), (0, \"HBase\"), (0, \"Java\"),\n",
    "    (0, \"Spark\"), (0, \"Storm\"), (0, \"Cassandra\"),\n",
    "    (1, \"NoSQL\"), (1, \"MongoDB\"), (1, \"Cassandra\"), (1, \"HBase\"),\n",
    "    (1, \"Postgres\"), (2, \"Python\"), (2, \"scikit-learn\"), (2, \"scipy\"),\n",
    "    (2, \"numpy\"), (2, \"statsmodels\"), (2, \"pandas\"), (3, \"R\"), (3, \"Python\"),\n",
    "    (3, \"statistics\"), (3, \"regression\"), (3, \"probability\"),\n",
    "    (4, \"machine learning\"), (4, \"regression\"), (4, \"decision trees\"),\n",
    "    (4, \"libsvm\"), (5, \"Python\"), (5, \"R\"), (5, \"Java\"), (5, \"C++\"),\n",
    "    (5, \"Haskell\"), (5, \"programming languages\"), (6, \"statistics\"),\n",
    "    (6, \"probability\"), (6, \"mathematics\"), (6, \"theory\"),\n",
    "    (7, \"machine learning\"), (7, \"scikit-learn\"), (7, \"Mahout\"),\n",
    "    (7, \"neural networks\"), (8, \"neural networks\"), (8, \"deep learning\"),\n",
    "    (8, \"Big Data\"), (8, \"artificial intelligence\"), (9, \"Hadoop\"),\n",
    "    (9, \"Java\"), (9, \"MapReduce\"), (9, \"Big Data\")\n",
    "]"
   ]
  },
  {
   "cell_type": "markdown",
   "metadata": {},
   "source": [
    "#### function fo find users with mutual interests"
   ]
  },
  {
   "cell_type": "code",
   "execution_count": 47,
   "metadata": {
    "collapsed": true
   },
   "outputs": [],
   "source": [
    "def data_scientistis_who_like(target_interest):\n",
    "    return[user_id\n",
    "          for user_id, user_interest in interests\n",
    "          if user_interest == target_interest]"
   ]
  },
  {
   "cell_type": "markdown",
   "metadata": {},
   "source": [
    "#### index of interests by user"
   ]
  },
  {
   "cell_type": "code",
   "execution_count": 48,
   "metadata": {
    "collapsed": true
   },
   "outputs": [],
   "source": [
    "from collections import defaultdict\n",
    "\n",
    "user_ids_by_interest = defaultdict(list)\n",
    "\n",
    "for user_id, interest in interests:\n",
    "    user_ids_by_interest[interest].append(user_id)"
   ]
  },
  {
   "cell_type": "markdown",
   "metadata": {},
   "source": [
    "#### index of users by interests"
   ]
  },
  {
   "cell_type": "code",
   "execution_count": 49,
   "metadata": {
    "collapsed": true
   },
   "outputs": [],
   "source": [
    "interests_by_user_id = defaultdict(list)\n",
    "\n",
    "for user_id, interest in interests:\n",
    "    interests_by_user_id[user_id].append(interest)"
   ]
  },
  {
   "cell_type": "markdown",
   "metadata": {},
   "source": [
    "#### most mutual interests"
   ]
  },
  {
   "cell_type": "code",
   "execution_count": 63,
   "metadata": {
    "collapsed": false
   },
   "outputs": [],
   "source": [
    "def most_common_interests_with(user):\n",
    "    return Counter(interest_user_id\n",
    "                  for interest in interests_by_user_id[user['id']]\n",
    "                  for interest_user_id in user_ids_by_interest[interest]\n",
    "                  if interest_user_id != user['id'])\n",
    "\n",
    "def get_mutal_interests(user1, user2):\n",
    "    mutal_interests = [];\n",
    "    for interest1 in interests_by_user_id[user1['id']]:\n",
    "        for interest2 in interests_by_user_id[user2['id']]:\n",
    "                  if interest1 == interest2: \n",
    "                    mutal_interests.append(interest1)\n",
    "    return mutal_interests"
   ]
  },
  {
   "cell_type": "code",
   "execution_count": 64,
   "metadata": {
    "collapsed": false
   },
   "outputs": [
    {
     "name": "stdout",
     "output_type": "stream",
     "text": [
      "Julio  may want to know: \n",
      "->  Julia . Because  2  mutual interest(s):  ['HBase', 'Cassandra']\n",
      "->  Maria Luiza . Because  1  mutual interest(s):  ['Java']\n",
      "->  Elisangela . Because  1  mutual interest(s):  ['Big Data']\n",
      "->  Eliana . Because  3  mutual interest(s):  ['Hadoop', 'Big Data', 'Java']\n",
      "-----------------------\n",
      "Julia  may want to know: \n",
      "->  Julio . Because  2  mutual interest(s):  ['Cassandra', 'HBase']\n",
      "-----------------------\n",
      "Marilia  may want to know: \n",
      "->  Adelia . Because  1  mutual interest(s):  ['Python']\n",
      "->  Maria Luiza . Because  1  mutual interest(s):  ['Python']\n",
      "->  Elaine . Because  1  mutual interest(s):  ['scikit-learn']\n",
      "-----------------------\n",
      "Adelia  may want to know: \n",
      "->  Marilia . Because  1  mutual interest(s):  ['Python']\n",
      "->  Alberto . Because  1  mutual interest(s):  ['regression']\n",
      "->  Maria Luiza . Because  2  mutual interest(s):  ['R', 'Python']\n",
      "->  Jeronimo . Because  2  mutual interest(s):  ['statistics', 'probability']\n",
      "-----------------------\n",
      "Alberto  may want to know: \n",
      "->  Adelia . Because  1  mutual interest(s):  ['regression']\n",
      "->  Elaine . Because  1  mutual interest(s):  ['machine learning']\n",
      "-----------------------\n",
      "Maria Luiza  may want to know: \n",
      "->  Julio . Because  1  mutual interest(s):  ['Java']\n",
      "->  Marilia . Because  1  mutual interest(s):  ['Python']\n",
      "->  Adelia . Because  2  mutual interest(s):  ['Python', 'R']\n",
      "->  Eliana . Because  1  mutual interest(s):  ['Java']\n",
      "-----------------------\n",
      "Jeronimo  may want to know: \n",
      "->  Adelia . Because  2  mutual interest(s):  ['statistics', 'probability']\n",
      "-----------------------\n",
      "Elaine  may want to know: \n",
      "->  Marilia . Because  1  mutual interest(s):  ['scikit-learn']\n",
      "->  Alberto . Because  1  mutual interest(s):  ['machine learning']\n",
      "->  Elisangela . Because  1  mutual interest(s):  ['neural networks']\n",
      "-----------------------\n",
      "Elisangela  may want to know: \n",
      "->  Julio . Because  1  mutual interest(s):  ['Big Data']\n",
      "->  Elaine . Because  1  mutual interest(s):  ['neural networks']\n",
      "->  Eliana . Because  1  mutual interest(s):  ['Big Data']\n",
      "-----------------------\n",
      "Eliana  may want to know: \n",
      "->  Julio . Because  3  mutual interest(s):  ['Hadoop', 'Java', 'Big Data']\n",
      "->  Maria Luiza . Because  1  mutual interest(s):  ['Java']\n",
      "->  Elisangela . Because  1  mutual interest(s):  ['Big Data']\n",
      "-----------------------\n"
     ]
    }
   ],
   "source": [
    "for user in users:\n",
    "    counter = most_common_interests_with(user)\n",
    "    print(user['name'],\" may want to know: \")\n",
    "    for possibleFriend in users:\n",
    "        hits = counter[possibleFriend['id']]\n",
    "        if (hits == 0): \n",
    "            continue\n",
    "        print(\"-> \", possibleFriend['name'],\". Because \", hits, \" mutual interest(s): \", get_mutal_interests(user, possibleFriend))\n",
    "    print('-----------------------')"
   ]
  },
  {
   "cell_type": "markdown",
   "metadata": {},
   "source": [
    "# Salary X Experience"
   ]
  },
  {
   "cell_type": "code",
   "execution_count": 65,
   "metadata": {
    "collapsed": true
   },
   "outputs": [],
   "source": [
    "salaries_and_tenures = [(83000, 8.7), (88000, 8.1),\n",
    "                        (48000, 0.7), (76000, 6),\n",
    "                        (69000, 6.5), (76000, 7.5),\n",
    "                        (60000, 2.5), (83000, 10),\n",
    "                        (48000, 1.9), (63000, 4.2)]"
   ]
  },
  {
   "cell_type": "markdown",
   "metadata": {},
   "source": [
    "## Chart"
   ]
  },
  {
   "cell_type": "code",
   "execution_count": 68,
   "metadata": {
    "collapsed": true
   },
   "outputs": [],
   "source": [
    "from matplotlib import pyplot as plt\n",
    "\n",
    "def make_chart_salaries_by_tenure():\n",
    "    tenures = [tenure for salary, tenure in salaries_and_tenures]\n",
    "    salaries = [salary for salary, tenure in salaries_and_tenures]\n",
    "    plt.scatter(tenures, salaries)\n",
    "    plt.xlabel(\"Years Experience\")\n",
    "    plt.ylabel(\"Salary\")\n",
    "    plt.show()"
   ]
  },
  {
   "cell_type": "code",
   "execution_count": 70,
   "metadata": {
    "collapsed": false
   },
   "outputs": [],
   "source": [
    "def make_chart_salaries_by_tenure():\n",
    "    tenures = [tenure for salary, tenure in salaries_and_tenures]\n",
    "    salaries = [salary for salary, tenure in salaries_and_tenures]\n",
    "    plt.scatter(tenures, salaries)\n",
    "    plt.xlabel(\"Years Experience\")\n",
    "    plt.ylabel(\"Salary\")\n",
    "    plt.show()\n",
    "\n",
    "# keys are years\n",
    "# values are the salaries for each tenure\n",
    "salary_by_tenure = defaultdict(list)\n",
    "\n",
    "for salary, tenure in salaries_and_tenures:\n",
    "    salary_by_tenure[tenure].append(salary)\n",
    "\n",
    "average_salary_by_tenure = {\n",
    "    tenure : sum(salaries) / len(salaries)\n",
    "    for tenure, salaries in salary_by_tenure.items()\n",
    "}\n",
    "\n",
    "def tenure_bucket(tenure):\n",
    "    if tenure < 2: return \"less than two\"\n",
    "    elif tenure < 5: return \"between two and five\"\n",
    "    else: return \"more than five\"\n",
    "\n",
    "salary_by_tenure_bucket = defaultdict(list)\n",
    "\n",
    "for salary, tenure in salaries_and_tenures:\n",
    "    bucket = tenure_bucket(tenure)\n",
    "    salary_by_tenure_bucket[bucket].append(salary)\n",
    "\n",
    "average_salary_by_bucket = {\n",
    "  tenure_bucket : sum(salaries) / len(salaries)\n",
    "  for tenure_bucket, salaries in salary_by_tenure_bucket.items()\n",
    "}"
   ]
  },
  {
   "cell_type": "markdown",
   "metadata": {},
   "source": [
    "## Paid Accounts"
   ]
  },
  {
   "cell_type": "code",
   "execution_count": 76,
   "metadata": {
    "collapsed": true
   },
   "outputs": [],
   "source": [
    "def predict_paid_or_unpaid(years_experience):\n",
    "  if years_experience < 3.0: return \"paid\"\n",
    "  elif years_experience < 8.5: return \"unpaid\"\n",
    "  else: return \"paid\""
   ]
  },
  {
   "cell_type": "code",
   "execution_count": null,
   "metadata": {
    "collapsed": true
   },
   "outputs": [],
   "source": []
  }
 ],
 "metadata": {
  "kernelspec": {
   "display_name": "Python 3",
   "language": "python",
   "name": "python3"
  },
  "language_info": {
   "codemirror_mode": {
    "name": "ipython",
    "version": 3
   },
   "file_extension": ".py",
   "mimetype": "text/x-python",
   "name": "python",
   "nbconvert_exporter": "python",
   "pygments_lexer": "ipython3",
   "version": "3.6.0"
  }
 },
 "nbformat": 4,
 "nbformat_minor": 2
}
