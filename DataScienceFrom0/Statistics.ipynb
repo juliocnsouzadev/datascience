{
 "cells": [
  {
   "cell_type": "markdown",
   "metadata": {},
   "source": [
    "# Statistics"
   ]
  },
  {
   "cell_type": "code",
   "execution_count": 1,
   "metadata": {},
   "outputs": [
    {
     "name": "stdout",
     "output_type": "stream",
     "text": [
      "scalar:  0  mult:  [0, 0, 0, 0, 0, 0, 0, 0, 0, 0]\n",
      "scalar:  1  mult:  [60, 61, 62, 63, 64, 65, 66, 67, 68, 69]\n",
      "scalar:  2  mult:  [1570, 1572, 1574, 1576, 1578, 1580, 1582, 1584, 1586, 1588]\n",
      "2185\n",
      "41685\n",
      "6233185\n",
      "Magnitude of:  range(10, 20)  is:  46.74398357008097\n",
      "Magnitude of:  range(60, 70)  is:  204.16904760516468\n",
      "Magnitude of:  range(785, 795)  is:  2496.634734998294\n",
      "Distance between:  range(10, 20)  and  range(10, 20)  is:  0.0\n",
      "Distance between:  range(10, 20)  and  range(60, 70)  is:  158.11388300841898\n",
      "Distance between:  range(10, 20)  and  range(785, 795)  is:  2450.765186630494\n",
      "Distance between:  range(60, 70)  and  range(10, 20)  is:  158.11388300841898\n",
      "Distance between:  range(60, 70)  and  range(60, 70)  is:  0.0\n",
      "Distance between:  range(60, 70)  and  range(785, 795)  is:  2292.651303622075\n",
      "Distance between:  range(785, 795)  and  range(10, 20)  is:  2450.765186630494\n",
      "Distance between:  range(785, 795)  and  range(60, 70)  is:  2292.651303622075\n",
      "Distance between:  range(785, 795)  and  range(785, 795)  is:  0.0\n"
     ]
    }
   ],
   "source": [
    "from collections import Counter\n",
    "import linear_algebra as la\n",
    "import math\n",
    "\n",
    "num_friends = [100,49,41,40,25,21,21,19,19,18,18,16,15,15,15,15,14,14,13,13,13,13,12,12,11,10,10,10,10,10,10,10,10,10,10,10,10,10,10,10,9,9,9,9,9,9,9,9,9,9,9,9,9,9,9,9,9,9,8,8,8,8,8,8,8,8,8,8,8,8,8,7,7,7,7,7,7,7,7,7,7,7,7,7,7,7,6,6,6,6,6,6,6,6,6,6,6,6,6,6,6,6,6,6,6,6,6,6,5,5,5,5,5,5,5,5,5,5,5,5,5,5,5,5,5,4,4,4,4,4,4,4,4,4,4,4,4,4,4,4,4,4,4,4,4,3,3,3,3,3,3,3,3,3,3,3,3,3,3,3,3,3,3,3,3,2,2,2,2,2,2,2,2,2,2,2,2,2,2,2,2,2,1,1,1,1,1,1,1,1,1,1,1,1,1,1,1,1,1,1,1,1,1,1]"
   ]
  },
  {
   "cell_type": "code",
   "execution_count": 2,
   "metadata": {
    "collapsed": true
   },
   "outputs": [],
   "source": [
    "def make_friend_counts_histogram(plt):\n",
    "    friend_counts = Counter(num_friends)\n",
    "    xs = range(101)\n",
    "    ys = [friend_counts[x] for x in xs]\n",
    "    plt.bar(xs, ys)\n",
    "    plt.axis([0,101,0,25])\n",
    "    plt.title(\"Histogram of Friend Counts\")\n",
    "    plt.xlabel(\"# of friends\")\n",
    "    plt.ylabel(\"# of people\")\n",
    "    plt.show()"
   ]
  },
  {
   "cell_type": "code",
   "execution_count": 3,
   "metadata": {},
   "outputs": [
    {
     "data": {
      "image/png": "[encoded data removed]",
      "text/plain": [
       "<matplotlib.figure.Figure at 0x20b4a342c88>"
      ]
     },
     "metadata": {},
     "output_type": "display_data"
    }
   ],
   "source": [
    "from matplotlib import pyplot as plt\n",
    "make_friend_counts_histogram(plt)"
   ]
  },
  {
   "cell_type": "code",
   "execution_count": 4,
   "metadata": {},
   "outputs": [
    {
     "data": {
      "text/plain": [
       "204"
      ]
     },
     "execution_count": 4,
     "metadata": {},
     "output_type": "execute_result"
    }
   ],
   "source": [
    "num_points = len(num_friends)\n",
    "num_points"
   ]
  },
  {
   "cell_type": "code",
   "execution_count": 5,
   "metadata": {},
   "outputs": [
    {
     "data": {
      "text/plain": [
       "100"
      ]
     },
     "execution_count": 5,
     "metadata": {},
     "output_type": "execute_result"
    }
   ],
   "source": [
    "largest_value = max(num_friends)\n",
    "largest_value"
   ]
  },
  {
   "cell_type": "code",
   "execution_count": 6,
   "metadata": {},
   "outputs": [
    {
     "data": {
      "text/plain": [
       "1"
      ]
     },
     "execution_count": 6,
     "metadata": {},
     "output_type": "execute_result"
    }
   ],
   "source": [
    "smallest_valeu = min(num_friends)\n",
    "smallest_valeu"
   ]
  },
  {
   "cell_type": "markdown",
   "metadata": {},
   "source": [
    "## Tendencias Centrais"
   ]
  },
  {
   "cell_type": "markdown",
   "metadata": {},
   "source": [
    "### Media"
   ]
  },
  {
   "cell_type": "code",
   "execution_count": 7,
   "metadata": {
    "collapsed": true
   },
   "outputs": [],
   "source": [
    "def mean(vec):\n",
    "    return sum(vec) / len(vec)"
   ]
  },
  {
   "cell_type": "code",
   "execution_count": 8,
   "metadata": {},
   "outputs": [
    {
     "data": {
      "text/plain": [
       "7.333333333333333"
      ]
     },
     "execution_count": 8,
     "metadata": {},
     "output_type": "execute_result"
    }
   ],
   "source": [
    "mean(num_friends)"
   ]
  },
  {
   "cell_type": "markdown",
   "metadata": {},
   "source": [
    "### Mediana"
   ]
  },
  {
   "cell_type": "code",
   "execution_count": 9,
   "metadata": {
    "collapsed": true
   },
   "outputs": [],
   "source": [
    "def median(vec):\n",
    "    sorted(vec)\n",
    "    size = len(vec)\n",
    "    if (size % 2 != 0):\n",
    "        i = int(((size-1)/2)-1)\n",
    "        return vec[i]\n",
    "    else:\n",
    "        m = int(size / 2)\n",
    "        return (vec[m] + vec[m-1]) / 2"
   ]
  },
  {
   "cell_type": "code",
   "execution_count": 10,
   "metadata": {},
   "outputs": [
    {
     "data": {
      "text/plain": [
       "6.0"
      ]
     },
     "execution_count": 10,
     "metadata": {},
     "output_type": "execute_result"
    }
   ],
   "source": [
    "median(num_friends)"
   ]
  },
  {
   "cell_type": "markdown",
   "metadata": {},
   "source": [
    "### Moda"
   ]
  },
  {
   "cell_type": "code",
   "execution_count": 11,
   "metadata": {
    "collapsed": true
   },
   "outputs": [],
   "source": [
    "def mode(vec):\n",
    "    counts = Counter(vec)\n",
    "    max_count = max(counts.values())\n",
    "    return [x for x , count in counts.items()\n",
    "           if count == max_count]"
   ]
  },
  {
   "cell_type": "code",
   "execution_count": 12,
   "metadata": {},
   "outputs": [
    {
     "data": {
      "text/plain": [
       "[6, 1]"
      ]
     },
     "execution_count": 12,
     "metadata": {},
     "output_type": "execute_result"
    }
   ],
   "source": [
    "mode(num_friends)"
   ]
  },
  {
   "cell_type": "markdown",
   "metadata": {},
   "source": [
    "### Dispersao"
   ]
  },
  {
   "cell_type": "code",
   "execution_count": 13,
   "metadata": {
    "collapsed": true
   },
   "outputs": [],
   "source": [
    "def data_range(vec):\n",
    "    return max(vec) + min(vec)"
   ]
  },
  {
   "cell_type": "code",
   "execution_count": 14,
   "metadata": {},
   "outputs": [
    {
     "data": {
      "text/plain": [
       "101"
      ]
     },
     "execution_count": 14,
     "metadata": {},
     "output_type": "execute_result"
    }
   ],
   "source": [
    "data_range(num_friends)"
   ]
  },
  {
   "cell_type": "code",
   "execution_count": 17,
   "metadata": {
    "collapsed": true
   },
   "outputs": [],
   "source": [
    "def deviation(vec):\n",
    "    pop_mean = mean(vec)\n",
    "    return [x_i - pop_mean for x_i in vec]"
   ]
  },
  {
   "cell_type": "code",
   "execution_count": 18,
   "metadata": {},
   "outputs": [
    {
     "data": {
      "text/plain": [
       "[92.66666666666667,\n",
       " 41.666666666666664,\n",
       " 33.666666666666664,\n",
       " 32.666666666666664,\n",
       " 17.666666666666668,\n",
       " 13.666666666666668,\n",
       " 13.666666666666668,\n",
       " 11.666666666666668,\n",
       " 11.666666666666668,\n",
       " 10.666666666666668,\n",
       " 10.666666666666668,\n",
       " 8.666666666666668,\n",
       " 7.666666666666667,\n",
       " 7.666666666666667,\n",
       " 7.666666666666667,\n",
       " 7.666666666666667,\n",
       " 6.666666666666667,\n",
       " 6.666666666666667,\n",
       " 5.666666666666667,\n",
       " 5.666666666666667,\n",
       " 5.666666666666667,\n",
       " 5.666666666666667,\n",
       " 4.666666666666667,\n",
       " 4.666666666666667,\n",
       " 3.666666666666667,\n",
       " 2.666666666666667,\n",
       " 2.666666666666667,\n",
       " 2.666666666666667,\n",
       " 2.666666666666667,\n",
       " 2.666666666666667,\n",
       " 2.666666666666667,\n",
       " 2.666666666666667,\n",
       " 2.666666666666667,\n",
       " 2.666666666666667,\n",
       " 2.666666666666667,\n",
       " 2.666666666666667,\n",
       " 2.666666666666667,\n",
       " 2.666666666666667,\n",
       " 2.666666666666667,\n",
       " 2.666666666666667,\n",
       " 1.666666666666667,\n",
       " 1.666666666666667,\n",
       " 1.666666666666667,\n",
       " 1.666666666666667,\n",
       " 1.666666666666667,\n",
       " 1.666666666666667,\n",
       " 1.666666666666667,\n",
       " 1.666666666666667,\n",
       " 1.666666666666667,\n",
       " 1.666666666666667,\n",
       " 1.666666666666667,\n",
       " 1.666666666666667,\n",
       " 1.666666666666667,\n",
       " 1.666666666666667,\n",
       " 1.666666666666667,\n",
       " 1.666666666666667,\n",
       " 1.666666666666667,\n",
       " 1.666666666666667,\n",
       " 0.666666666666667,\n",
       " 0.666666666666667,\n",
       " 0.666666666666667,\n",
       " 0.666666666666667,\n",
       " 0.666666666666667,\n",
       " 0.666666666666667,\n",
       " 0.666666666666667,\n",
       " 0.666666666666667,\n",
       " 0.666666666666667,\n",
       " 0.666666666666667,\n",
       " 0.666666666666667,\n",
       " 0.666666666666667,\n",
       " 0.666666666666667,\n",
       " -0.33333333333333304,\n",
       " -0.33333333333333304,\n",
       " -0.33333333333333304,\n",
       " -0.33333333333333304,\n",
       " -0.33333333333333304,\n",
       " -0.33333333333333304,\n",
       " -0.33333333333333304,\n",
       " -0.33333333333333304,\n",
       " -0.33333333333333304,\n",
       " -0.33333333333333304,\n",
       " -0.33333333333333304,\n",
       " -0.33333333333333304,\n",
       " -0.33333333333333304,\n",
       " -0.33333333333333304,\n",
       " -0.33333333333333304,\n",
       " -1.333333333333333,\n",
       " -1.333333333333333,\n",
       " -1.333333333333333,\n",
       " -1.333333333333333,\n",
       " -1.333333333333333,\n",
       " -1.333333333333333,\n",
       " -1.333333333333333,\n",
       " -1.333333333333333,\n",
       " -1.333333333333333,\n",
       " -1.333333333333333,\n",
       " -1.333333333333333,\n",
       " -1.333333333333333,\n",
       " -1.333333333333333,\n",
       " -1.333333333333333,\n",
       " -1.333333333333333,\n",
       " -1.333333333333333,\n",
       " -1.333333333333333,\n",
       " -1.333333333333333,\n",
       " -1.333333333333333,\n",
       " -1.333333333333333,\n",
       " -1.333333333333333,\n",
       " -1.333333333333333,\n",
       " -2.333333333333333,\n",
       " -2.333333333333333,\n",
       " -2.333333333333333,\n",
       " -2.333333333333333,\n",
       " -2.333333333333333,\n",
       " -2.333333333333333,\n",
       " -2.333333333333333,\n",
       " -2.333333333333333,\n",
       " -2.333333333333333,\n",
       " -2.333333333333333,\n",
       " -2.333333333333333,\n",
       " -2.333333333333333,\n",
       " -2.333333333333333,\n",
       " -2.333333333333333,\n",
       " -2.333333333333333,\n",
       " -2.333333333333333,\n",
       " -2.333333333333333,\n",
       " -3.333333333333333,\n",
       " -3.333333333333333,\n",
       " -3.333333333333333,\n",
       " -3.333333333333333,\n",
       " -3.333333333333333,\n",
       " -3.333333333333333,\n",
       " -3.333333333333333,\n",
       " -3.333333333333333,\n",
       " -3.333333333333333,\n",
       " -3.333333333333333,\n",
       " -3.333333333333333,\n",
       " -3.333333333333333,\n",
       " -3.333333333333333,\n",
       " -3.333333333333333,\n",
       " -3.333333333333333,\n",
       " -3.333333333333333,\n",
       " -3.333333333333333,\n",
       " -3.333333333333333,\n",
       " -3.333333333333333,\n",
       " -3.333333333333333,\n",
       " -4.333333333333333,\n",
       " -4.333333333333333,\n",
       " -4.333333333333333,\n",
       " -4.333333333333333,\n",
       " -4.333333333333333,\n",
       " -4.333333333333333,\n",
       " -4.333333333333333,\n",
       " -4.333333333333333,\n",
       " -4.333333333333333,\n",
       " -4.333333333333333,\n",
       " -4.333333333333333,\n",
       " -4.333333333333333,\n",
       " -4.333333333333333,\n",
       " -4.333333333333333,\n",
       " -4.333333333333333,\n",
       " -4.333333333333333,\n",
       " -4.333333333333333,\n",
       " -4.333333333333333,\n",
       " -4.333333333333333,\n",
       " -4.333333333333333,\n",
       " -5.333333333333333,\n",
       " -5.333333333333333,\n",
       " -5.333333333333333,\n",
       " -5.333333333333333,\n",
       " -5.333333333333333,\n",
       " -5.333333333333333,\n",
       " -5.333333333333333,\n",
       " -5.333333333333333,\n",
       " -5.333333333333333,\n",
       " -5.333333333333333,\n",
       " -5.333333333333333,\n",
       " -5.333333333333333,\n",
       " -5.333333333333333,\n",
       " -5.333333333333333,\n",
       " -5.333333333333333,\n",
       " -5.333333333333333,\n",
       " -5.333333333333333,\n",
       " -6.333333333333333,\n",
       " -6.333333333333333,\n",
       " -6.333333333333333,\n",
       " -6.333333333333333,\n",
       " -6.333333333333333,\n",
       " -6.333333333333333,\n",
       " -6.333333333333333,\n",
       " -6.333333333333333,\n",
       " -6.333333333333333,\n",
       " -6.333333333333333,\n",
       " -6.333333333333333,\n",
       " -6.333333333333333,\n",
       " -6.333333333333333,\n",
       " -6.333333333333333,\n",
       " -6.333333333333333,\n",
       " -6.333333333333333,\n",
       " -6.333333333333333,\n",
       " -6.333333333333333,\n",
       " -6.333333333333333,\n",
       " -6.333333333333333,\n",
       " -6.333333333333333,\n",
       " -6.333333333333333]"
      ]
     },
     "execution_count": 18,
     "metadata": {},
     "output_type": "execute_result"
    }
   ],
   "source": [
    "deviation(num_friends)"
   ]
  },
  {
   "cell_type": "code",
   "execution_count": 21,
   "metadata": {
    "collapsed": true
   },
   "outputs": [],
   "source": [
    "def squared_deviation(vec):\n",
    "    pop_mean = mean(vec)\n",
    "    return [(x_i - pop_mean)**2 for x_i in vec]"
   ]
  },
  {
   "cell_type": "code",
   "execution_count": 22,
   "metadata": {},
   "outputs": [
    {
     "data": {
      "text/plain": [
       "[8587.111111111111,\n",
       " 1736.1111111111109,\n",
       " 1133.4444444444443,\n",
       " 1067.1111111111109,\n",
       " 312.11111111111114,\n",
       " 186.7777777777778,\n",
       " 186.7777777777778,\n",
       " 136.11111111111114,\n",
       " 136.11111111111114,\n",
       " 113.7777777777778,\n",
       " 113.7777777777778,\n",
       " 75.11111111111113,\n",
       " 58.777777777777786,\n",
       " 58.777777777777786,\n",
       " 58.777777777777786,\n",
       " 58.777777777777786,\n",
       " 44.44444444444445,\n",
       " 44.44444444444445,\n",
       " 32.111111111111114,\n",
       " 32.111111111111114,\n",
       " 32.111111111111114,\n",
       " 32.111111111111114,\n",
       " 21.777777777777782,\n",
       " 21.777777777777782,\n",
       " 13.444444444444446,\n",
       " 7.1111111111111125,\n",
       " 7.1111111111111125,\n",
       " 7.1111111111111125,\n",
       " 7.1111111111111125,\n",
       " 7.1111111111111125,\n",
       " 7.1111111111111125,\n",
       " 7.1111111111111125,\n",
       " 7.1111111111111125,\n",
       " 7.1111111111111125,\n",
       " 7.1111111111111125,\n",
       " 7.1111111111111125,\n",
       " 7.1111111111111125,\n",
       " 7.1111111111111125,\n",
       " 7.1111111111111125,\n",
       " 7.1111111111111125,\n",
       " 2.7777777777777786,\n",
       " 2.7777777777777786,\n",
       " 2.7777777777777786,\n",
       " 2.7777777777777786,\n",
       " 2.7777777777777786,\n",
       " 2.7777777777777786,\n",
       " 2.7777777777777786,\n",
       " 2.7777777777777786,\n",
       " 2.7777777777777786,\n",
       " 2.7777777777777786,\n",
       " 2.7777777777777786,\n",
       " 2.7777777777777786,\n",
       " 2.7777777777777786,\n",
       " 2.7777777777777786,\n",
       " 2.7777777777777786,\n",
       " 2.7777777777777786,\n",
       " 2.7777777777777786,\n",
       " 2.7777777777777786,\n",
       " 0.44444444444444486,\n",
       " 0.44444444444444486,\n",
       " 0.44444444444444486,\n",
       " 0.44444444444444486,\n",
       " 0.44444444444444486,\n",
       " 0.44444444444444486,\n",
       " 0.44444444444444486,\n",
       " 0.44444444444444486,\n",
       " 0.44444444444444486,\n",
       " 0.44444444444444486,\n",
       " 0.44444444444444486,\n",
       " 0.44444444444444486,\n",
       " 0.44444444444444486,\n",
       " 0.11111111111111091,\n",
       " 0.11111111111111091,\n",
       " 0.11111111111111091,\n",
       " 0.11111111111111091,\n",
       " 0.11111111111111091,\n",
       " 0.11111111111111091,\n",
       " 0.11111111111111091,\n",
       " 0.11111111111111091,\n",
       " 0.11111111111111091,\n",
       " 0.11111111111111091,\n",
       " 0.11111111111111091,\n",
       " 0.11111111111111091,\n",
       " 0.11111111111111091,\n",
       " 0.11111111111111091,\n",
       " 0.11111111111111091,\n",
       " 1.777777777777777,\n",
       " 1.777777777777777,\n",
       " 1.777777777777777,\n",
       " 1.777777777777777,\n",
       " 1.777777777777777,\n",
       " 1.777777777777777,\n",
       " 1.777777777777777,\n",
       " 1.777777777777777,\n",
       " 1.777777777777777,\n",
       " 1.777777777777777,\n",
       " 1.777777777777777,\n",
       " 1.777777777777777,\n",
       " 1.777777777777777,\n",
       " 1.777777777777777,\n",
       " 1.777777777777777,\n",
       " 1.777777777777777,\n",
       " 1.777777777777777,\n",
       " 1.777777777777777,\n",
       " 1.777777777777777,\n",
       " 1.777777777777777,\n",
       " 1.777777777777777,\n",
       " 1.777777777777777,\n",
       " 5.444444444444443,\n",
       " 5.444444444444443,\n",
       " 5.444444444444443,\n",
       " 5.444444444444443,\n",
       " 5.444444444444443,\n",
       " 5.444444444444443,\n",
       " 5.444444444444443,\n",
       " 5.444444444444443,\n",
       " 5.444444444444443,\n",
       " 5.444444444444443,\n",
       " 5.444444444444443,\n",
       " 5.444444444444443,\n",
       " 5.444444444444443,\n",
       " 5.444444444444443,\n",
       " 5.444444444444443,\n",
       " 5.444444444444443,\n",
       " 5.444444444444443,\n",
       " 11.111111111111109,\n",
       " 11.111111111111109,\n",
       " 11.111111111111109,\n",
       " 11.111111111111109,\n",
       " 11.111111111111109,\n",
       " 11.111111111111109,\n",
       " 11.111111111111109,\n",
       " 11.111111111111109,\n",
       " 11.111111111111109,\n",
       " 11.111111111111109,\n",
       " 11.111111111111109,\n",
       " 11.111111111111109,\n",
       " 11.111111111111109,\n",
       " 11.111111111111109,\n",
       " 11.111111111111109,\n",
       " 11.111111111111109,\n",
       " 11.111111111111109,\n",
       " 11.111111111111109,\n",
       " 11.111111111111109,\n",
       " 11.111111111111109,\n",
       " 18.777777777777775,\n",
       " 18.777777777777775,\n",
       " 18.777777777777775,\n",
       " 18.777777777777775,\n",
       " 18.777777777777775,\n",
       " 18.777777777777775,\n",
       " 18.777777777777775,\n",
       " 18.777777777777775,\n",
       " 18.777777777777775,\n",
       " 18.777777777777775,\n",
       " 18.777777777777775,\n",
       " 18.777777777777775,\n",
       " 18.777777777777775,\n",
       " 18.777777777777775,\n",
       " 18.777777777777775,\n",
       " 18.777777777777775,\n",
       " 18.777777777777775,\n",
       " 18.777777777777775,\n",
       " 18.777777777777775,\n",
       " 18.777777777777775,\n",
       " 28.444444444444443,\n",
       " 28.444444444444443,\n",
       " 28.444444444444443,\n",
       " 28.444444444444443,\n",
       " 28.444444444444443,\n",
       " 28.444444444444443,\n",
       " 28.444444444444443,\n",
       " 28.444444444444443,\n",
       " 28.444444444444443,\n",
       " 28.444444444444443,\n",
       " 28.444444444444443,\n",
       " 28.444444444444443,\n",
       " 28.444444444444443,\n",
       " 28.444444444444443,\n",
       " 28.444444444444443,\n",
       " 28.444444444444443,\n",
       " 28.444444444444443,\n",
       " 40.11111111111111,\n",
       " 40.11111111111111,\n",
       " 40.11111111111111,\n",
       " 40.11111111111111,\n",
       " 40.11111111111111,\n",
       " 40.11111111111111,\n",
       " 40.11111111111111,\n",
       " 40.11111111111111,\n",
       " 40.11111111111111,\n",
       " 40.11111111111111,\n",
       " 40.11111111111111,\n",
       " 40.11111111111111,\n",
       " 40.11111111111111,\n",
       " 40.11111111111111,\n",
       " 40.11111111111111,\n",
       " 40.11111111111111,\n",
       " 40.11111111111111,\n",
       " 40.11111111111111,\n",
       " 40.11111111111111,\n",
       " 40.11111111111111,\n",
       " 40.11111111111111,\n",
       " 40.11111111111111]"
      ]
     },
     "execution_count": 22,
     "metadata": {},
     "output_type": "execute_result"
    }
   ],
   "source": [
    "squared_deviation(num_friends)"
   ]
  },
  {
   "cell_type": "code",
   "execution_count": 23,
   "metadata": {
    "collapsed": true
   },
   "outputs": [],
   "source": [
    "def variance(vec):\n",
    "    return mean(squared_deviation(vec))"
   ]
  },
  {
   "cell_type": "code",
   "execution_count": 24,
   "metadata": {},
   "outputs": [
    {
     "data": {
      "text/plain": [
       "81.14379084967331"
      ]
     },
     "execution_count": 24,
     "metadata": {},
     "output_type": "execute_result"
    }
   ],
   "source": [
    "variance(num_friends)"
   ]
  },
  {
   "cell_type": "code",
   "execution_count": 25,
   "metadata": {
    "collapsed": true
   },
   "outputs": [],
   "source": [
    "from math import sqrt"
   ]
  },
  {
   "cell_type": "code",
   "execution_count": 28,
   "metadata": {
    "collapsed": true
   },
   "outputs": [],
   "source": [
    "def standard_deviation(vec):\n",
    "    return sqrt(variance(vec))"
   ]
  },
  {
   "cell_type": "code",
   "execution_count": 29,
   "metadata": {},
   "outputs": [
    {
     "data": {
      "text/plain": [
       "9.007984838446017"
      ]
     },
     "execution_count": 29,
     "metadata": {},
     "output_type": "execute_result"
    }
   ],
   "source": [
    "standard_deviation(num_friends)"
   ]
  },
  {
   "cell_type": "code",
   "execution_count": 36,
   "metadata": {
    "collapsed": true
   },
   "outputs": [],
   "source": [
    "def sample_standard_deviation(vec):\n",
    "    return sqrt(sum(squared_deviation(vec)) / (len(vec) - 1))"
   ]
  },
  {
   "cell_type": "code",
   "execution_count": 37,
   "metadata": {},
   "outputs": [
    {
     "data": {
      "text/plain": [
       "9.03014473623248"
      ]
     },
     "execution_count": 37,
     "metadata": {},
     "output_type": "execute_result"
    }
   ],
   "source": [
    "sample_standard_deviation(num_friends)"
   ]
  },
  {
   "cell_type": "markdown",
   "metadata": {},
   "source": [
    "## Correlacao"
   ]
  },
  {
   "cell_type": "code",
   "execution_count": 39,
   "metadata": {
    "collapsed": true
   },
   "outputs": [],
   "source": [
    "daily_minutes = [1,68.77,51.25,52.08,38.36,44.54,57.13,51.4,41.42,31.22,34.76,54.01,38.79,47.59,49.1,27.66,41.03,36.73,48.65,28.12,46.62,35.57,32.98,35,26.07,23.77,39.73,40.57,31.65,31.21,36.32,20.45,21.93,26.02,27.34,23.49,46.94,30.5,33.8,24.23,21.4,27.94,32.24,40.57,25.07,19.42,22.39,18.42,46.96,23.72,26.41,26.97,36.76,40.32,35.02,29.47,30.2,31,38.11,38.18,36.31,21.03,30.86,36.07,28.66,29.08,37.28,15.28,24.17,22.31,30.17,25.53,19.85,35.37,44.6,17.23,13.47,26.33,35.02,32.09,24.81,19.33,28.77,24.26,31.98,25.73,24.86,16.28,34.51,15.23,39.72,40.8,26.06,35.76,34.76,16.13,44.04,18.03,19.65,32.62,35.59,39.43,14.18,35.24,40.13,41.82,35.45,36.07,43.67,24.61,20.9,21.9,18.79,27.61,27.21,26.61,29.77,20.59,27.53,13.82,33.2,25,33.1,36.65,18.63,14.87,22.2,36.81,25.53,24.62,26.25,18.21,28.08,19.42,29.79,32.8,35.99,28.32,27.79,35.88,29.06,36.28,14.1,36.63,37.49,26.9,18.58,38.48,24.48,18.95,33.55,14.24,29.04,32.51,25.63,22.22,19,32.73,15.16,13.9,27.2,32.01,29.27,33,13.74,20.42,27.32,18.23,35.35,28.48,9.08,24.62,20.12,35.26,19.92,31.02,16.49,12.16,30.7,31.22,34.65,13.13,27.51,33.2,31.57,14.1,33.42,17.44,10.12,24.42,9.82,23.39,30.93,15.03,21.67,31.09,33.29,22.61,26.89,23.48,8.38,27.81,32.35,23.84]"
   ]
  },
  {
   "cell_type": "code",
   "execution_count": 43,
   "metadata": {
    "collapsed": true
   },
   "outputs": [],
   "source": [
    "def covariance(vec1, vec2):\n",
    "    n = len(vec1)\n",
    "    return la.dot_product(deviation(vec1), deviation(vec2)) / (n-1)"
   ]
  },
  {
   "cell_type": "markdown",
   "metadata": {},
   "source": [
    "#### lembre-se que o 'dot product' resume os produtos do pares correspondentes aos elementos.Quando os elementos correspondentes de vec1 e vec2 estao acima ou abaixo das suas medias, um numero positivo entra na soma. Quando esta acima da media e o outro esta abaixo, um numero negativo entra na soma. Na mesma proporcao, uma covariancia positva 'grande' significa que vec1 tende a ser grande quando vec2 eh grande e pequeno quando  vec2 eh pequeno. Uma covariancia negativa 'grande' significa o oposto - que vec1 tende a ser pequeno quando vec2 eh grande e vice versa. Uma covariancia perto de zero significa que tal realacao nao existe."
   ]
  },
  {
   "cell_type": "code",
   "execution_count": 45,
   "metadata": {},
   "outputs": [
    {
     "data": {
      "text/plain": [
       "22.425435139573064"
      ]
     },
     "execution_count": 45,
     "metadata": {},
     "output_type": "execute_result"
    }
   ],
   "source": [
    "covariance(num_friends, daily_minutes)"
   ]
  },
  {
   "cell_type": "code",
   "execution_count": 46,
   "metadata": {
    "collapsed": true
   },
   "outputs": [],
   "source": [
    "def correlation(vec1, vec2):\n",
    "    stdev_1 = standard_deviation(vec1)\n",
    "    stdev_2 = standard_deviation(vec2)\n",
    "    if (stdev_1 > 0 and stdev_2 > 0):\n",
    "        return covariance(vec1, vec2) / stdev_1 / stdev_2\n",
    "    else:\n",
    "        return 0 #se nao houver amplitude a correlacao eh zero"
   ]
  },
  {
   "cell_type": "markdown",
   "metadata": {},
   "source": [
    "#### a correlacao na possui unidade e sempre permanece entre -1 (anticorrelacao perfeita) e 1 (correlacao perfeita). Um nro com correlacao 0.25 representa uma correlacao positivamente fraca"
   ]
  },
  {
   "cell_type": "code",
   "execution_count": 48,
   "metadata": {},
   "outputs": [
    {
     "data": {
      "text/plain": [
       "0.24858814299318005"
      ]
     },
     "execution_count": 48,
     "metadata": {},
     "output_type": "execute_result"
    }
   ],
   "source": [
    "correlation(num_friends, daily_minutes)"
   ]
  },
  {
   "cell_type": "code",
   "execution_count": 61,
   "metadata": {
    "collapsed": true
   },
   "outputs": [],
   "source": [
    "outlier = num_friends.index(100) # index of outlier\n",
    "\n",
    "num_friends_good = [x\n",
    "                    for i, x in enumerate(num_friends)\n",
    "                    if i != outlier]\n",
    "\n",
    "daily_minutes_good = [x\n",
    "                      for i, x in enumerate(daily_minutes)\n",
    "                      if i != outlier]"
   ]
  },
  {
   "cell_type": "code",
   "execution_count": 62,
   "metadata": {},
   "outputs": [
    {
     "data": {
      "text/plain": [
       "0.5765192076634214"
      ]
     },
     "execution_count": 62,
     "metadata": {},
     "output_type": "execute_result"
    }
   ],
   "source": [
    "correlation(num_friends_good, daily_minutes_good)"
   ]
  },
  {
   "cell_type": "code",
   "execution_count": null,
   "metadata": {
    "collapsed": true
   },
   "outputs": [],
   "source": []
  }
 ],
 "metadata": {
  "kernelspec": {
   "display_name": "Python 3",
   "language": "python",
   "name": "python3"
  },
  "language_info": {
   "codemirror_mode": {
    "name": "ipython",
    "version": 3
   },
   "file_extension": ".py",
   "mimetype": "text/x-python",
   "name": "python",
   "nbconvert_exporter": "python",
   "pygments_lexer": "ipython3",
   "version": "3.6.1"
  }
 },
 "nbformat": 4,
 "nbformat_minor": 2
}
