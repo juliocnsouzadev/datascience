{
 "cells": [
  {
   "cell_type": "markdown",
   "metadata": {},
   "source": [
    "# Statistics"
   ]
  },
  {
   "cell_type": "code",
   "execution_count": 1,
   "metadata": {},
   "outputs": [
    {
     "name": "stdout",
     "output_type": "stream",
     "text": [
      "scalar:  0  mult:  [0, 0, 0, 0, 0, 0, 0, 0, 0, 0]\n",
      "scalar:  1  mult:  [60, 61, 62, 63, 64, 65, 66, 67, 68, 69]\n",
      "scalar:  2  mult:  [622, 624, 626, 628, 630, 632, 634, 636, 638, 640]\n",
      "2185\n",
      "41685\n",
      "995485\n",
      "Magnitude of:  range(10, 20)  is:  46.74398357008097\n",
      "Magnitude of:  range(60, 70)  is:  204.16904760516468\n",
      "Magnitude of:  range(311, 321)  is:  997.7399460781352\n",
      "Distance between:  range(10, 20)  and  range(10, 20)  is:  0.0\n",
      "Distance between:  range(10, 20)  and  range(60, 70)  is:  158.11388300841898\n",
      "Distance between:  range(10, 20)  and  range(311, 321)  is:  951.8455757106822\n",
      "Distance between:  range(60, 70)  and  range(10, 20)  is:  158.11388300841898\n",
      "Distance between:  range(60, 70)  and  range(60, 70)  is:  0.0\n",
      "Distance between:  range(60, 70)  and  range(311, 321)  is:  793.7316927022632\n",
      "Distance between:  range(311, 321)  and  range(10, 20)  is:  951.8455757106822\n",
      "Distance between:  range(311, 321)  and  range(60, 70)  is:  793.7316927022632\n",
      "Distance between:  range(311, 321)  and  range(311, 321)  is:  0.0\n"
     ]
    }
   ],
   "source": [
    "from collections import Counter\n",
    "import linear_algebra as la\n",
    "import math\n",
    "\n",
    "num_friends = [100,49,41,40,25,21,21,19,19,18,18,16,15,15,15,15,14,14,13,13,13,13,12,12,11,10,10,10,10,10,10,10,10,10,10,10,10,10,10,10,9,9,9,9,9,9,9,9,9,9,9,9,9,9,9,9,9,9,8,8,8,8,8,8,8,8,8,8,8,8,8,7,7,7,7,7,7,7,7,7,7,7,7,7,7,7,6,6,6,6,6,6,6,6,6,6,6,6,6,6,6,6,6,6,6,6,6,6,5,5,5,5,5,5,5,5,5,5,5,5,5,5,5,5,5,4,4,4,4,4,4,4,4,4,4,4,4,4,4,4,4,4,4,4,4,3,3,3,3,3,3,3,3,3,3,3,3,3,3,3,3,3,3,3,3,2,2,2,2,2,2,2,2,2,2,2,2,2,2,2,2,2,1,1,1,1,1,1,1,1,1,1,1,1,1,1,1,1,1,1,1,1,1,1]"
   ]
  },
  {
   "cell_type": "code",
   "execution_count": 2,
   "metadata": {
    "collapsed": true
   },
   "outputs": [],
   "source": [
    "def make_friend_counts_histogram(plt):\n",
    "    friend_counts = Counter(num_friends)\n",
    "    xs = range(101)\n",
    "    ys = [friend_counts[x] for x in xs]\n",
    "    plt.bar(xs, ys)\n",
    "    plt.axis([0,101,0,25])\n",
    "    plt.title(\"Histogram of Friend Counts\")\n",
    "    plt.xlabel(\"# of friends\")\n",
    "    plt.ylabel(\"# of people\")\n",
    "    plt.show()"
   ]
  },
  {
   "cell_type": "code",
   "execution_count": 3,
   "metadata": {},
   "outputs": [
    {
     "data": {
      "image/png": "[encoded data removed]",
      "text/plain": [
       "<matplotlib.figure.Figure at 0x285ad246c18>"
      ]
     },
     "metadata": {},
     "output_type": "display_data"
    }
   ],
   "source": [
    "from matplotlib import pyplot as plt\n",
    "make_friend_counts_histogram(plt)"
   ]
  },
  {
   "cell_type": "code",
   "execution_count": 4,
   "metadata": {},
   "outputs": [
    {
     "data": {
      "text/plain": [
       "204"
      ]
     },
     "execution_count": 4,
     "metadata": {},
     "output_type": "execute_result"
    }
   ],
   "source": [
    "num_points = len(num_friends)\n",
    "num_points"
   ]
  },
  {
   "cell_type": "code",
   "execution_count": 5,
   "metadata": {},
   "outputs": [
    {
     "data": {
      "text/plain": [
       "100"
      ]
     },
     "execution_count": 5,
     "metadata": {},
     "output_type": "execute_result"
    }
   ],
   "source": [
    "largest_value = max(num_friends)\n",
    "largest_value"
   ]
  },
  {
   "cell_type": "code",
   "execution_count": 6,
   "metadata": {},
   "outputs": [
    {
     "data": {
      "text/plain": [
       "1"
      ]
     },
     "execution_count": 6,
     "metadata": {},
     "output_type": "execute_result"
    }
   ],
   "source": [
    "smallest_valeu = min(num_friends)\n",
    "smallest_valeu"
   ]
  },
  {
   "cell_type": "markdown",
   "metadata": {},
   "source": [
    "## Tendencias Centrais"
   ]
  },
  {
   "cell_type": "markdown",
   "metadata": {},
   "source": [
    "### Media"
   ]
  },
  {
   "cell_type": "code",
   "execution_count": 7,
   "metadata": {
    "collapsed": true
   },
   "outputs": [],
   "source": [
    "def mean(vec):\n",
    "    return sum(vec) / len(vec)"
   ]
  },
  {
   "cell_type": "code",
   "execution_count": 8,
   "metadata": {},
   "outputs": [
    {
     "data": {
      "text/plain": [
       "7.333333333333333"
      ]
     },
     "execution_count": 8,
     "metadata": {},
     "output_type": "execute_result"
    }
   ],
   "source": [
    "mean(num_friends)"
   ]
  },
  {
   "cell_type": "markdown",
   "metadata": {},
   "source": [
    "### Mediana"
   ]
  },
  {
   "cell_type": "code",
   "execution_count": 9,
   "metadata": {
    "collapsed": true
   },
   "outputs": [],
   "source": [
    "def median(vec):\n",
    "    sorted(vec)\n",
    "    size = len(vec)\n",
    "    if (size % 2 != 0):\n",
    "        i = int(((size-1)/2)-1)\n",
    "        return vec[i]\n",
    "    else:\n",
    "        m = int(size / 2)\n",
    "        return (vec[m] + vec[m-1]) / 2"
   ]
  },
  {
   "cell_type": "code",
   "execution_count": 10,
   "metadata": {},
   "outputs": [
    {
     "data": {
      "text/plain": [
       "6.0"
      ]
     },
     "execution_count": 10,
     "metadata": {},
     "output_type": "execute_result"
    }
   ],
   "source": [
    "median(num_friends)"
   ]
  },
  {
   "cell_type": "markdown",
   "metadata": {},
   "source": [
    "### Moda"
   ]
  },
  {
   "cell_type": "code",
   "execution_count": 11,
   "metadata": {
    "collapsed": true
   },
   "outputs": [],
   "source": [
    "def mode(vec):\n",
    "    counts = Counter(vec)\n",
    "    max_count = max(counts.values())\n",
    "    return [x for x , count in counts.items()\n",
    "           if count == max_count]"
   ]
  },
  {
   "cell_type": "code",
   "execution_count": 12,
   "metadata": {},
   "outputs": [
    {
     "data": {
      "text/plain": [
       "[6, 1]"
      ]
     },
     "execution_count": 12,
     "metadata": {},
     "output_type": "execute_result"
    }
   ],
   "source": [
    "mode(num_friends)"
   ]
  },
  {
   "cell_type": "markdown",
   "metadata": {},
   "source": [
    "### Dispersao"
   ]
  },
  {
   "cell_type": "code",
   "execution_count": 13,
   "metadata": {
    "collapsed": true
   },
   "outputs": [],
   "source": [
    "def data_range(vec):\n",
    "    return max(vec) + min(vec)"
   ]
  },
  {
   "cell_type": "code",
   "execution_count": 14,
   "metadata": {},
   "outputs": [
    {
     "data": {
      "text/plain": [
       "101"
      ]
     },
     "execution_count": 14,
     "metadata": {},
     "output_type": "execute_result"
    }
   ],
   "source": [
    "data_range(num_friends)"
   ]
  },
  {
   "cell_type": "code",
   "execution_count": 15,
   "metadata": {
    "collapsed": true
   },
   "outputs": [],
   "source": [
    "def deviation(vec):\n",
    "    pop_mean = mean(vec)\n",
    "    return [x_i - pop_mean for x_i in vec]"
   ]
  },
  {
   "cell_type": "code",
   "execution_count": 16,
   "metadata": {},
   "outputs": [
    {
     "data": {
      "text/plain": [
       "[92.66666666666667,\n",
       " 41.666666666666664,\n",
       " 33.666666666666664,\n",
       " 32.666666666666664,\n",
       " 17.666666666666668,\n",
       " 13.666666666666668,\n",
       " 13.666666666666668,\n",
       " 11.666666666666668,\n",
       " 11.666666666666668,\n",
       " 10.666666666666668,\n",
       " 10.666666666666668,\n",
       " 8.666666666666668,\n",
       " 7.666666666666667,\n",
       " 7.666666666666667,\n",
       " 7.666666666666667,\n",
       " 7.666666666666667,\n",
       " 6.666666666666667,\n",
       " 6.666666666666667,\n",
       " 5.666666666666667,\n",
       " 5.666666666666667,\n",
       " 5.666666666666667,\n",
       " 5.666666666666667,\n",
       " 4.666666666666667,\n",
       " 4.666666666666667,\n",
       " 3.666666666666667,\n",
       " 2.666666666666667,\n",
       " 2.666666666666667,\n",
       " 2.666666666666667,\n",
       " 2.666666666666667,\n",
       " 2.666666666666667,\n",
       " 2.666666666666667,\n",
       " 2.666666666666667,\n",
       " 2.666666666666667,\n",
       " 2.666666666666667,\n",
       " 2.666666666666667,\n",
       " 2.666666666666667,\n",
       " 2.666666666666667,\n",
       " 2.666666666666667,\n",
       " 2.666666666666667,\n",
       " 2.666666666666667,\n",
       " 1.666666666666667,\n",
       " 1.666666666666667,\n",
       " 1.666666666666667,\n",
       " 1.666666666666667,\n",
       " 1.666666666666667,\n",
       " 1.666666666666667,\n",
       " 1.666666666666667,\n",
       " 1.666666666666667,\n",
       " 1.666666666666667,\n",
       " 1.666666666666667,\n",
       " 1.666666666666667,\n",
       " 1.666666666666667,\n",
       " 1.666666666666667,\n",
       " 1.666666666666667,\n",
       " 1.666666666666667,\n",
       " 1.666666666666667,\n",
       " 1.666666666666667,\n",
       " 1.666666666666667,\n",
       " 0.666666666666667,\n",
       " 0.666666666666667,\n",
       " 0.666666666666667,\n",
       " 0.666666666666667,\n",
       " 0.666666666666667,\n",
       " 0.666666666666667,\n",
       " 0.666666666666667,\n",
       " 0.666666666666667,\n",
       " 0.666666666666667,\n",
       " 0.666666666666667,\n",
       " 0.666666666666667,\n",
       " 0.666666666666667,\n",
       " 0.666666666666667,\n",
       " -0.33333333333333304,\n",
       " -0.33333333333333304,\n",
       " -0.33333333333333304,\n",
       " -0.33333333333333304,\n",
       " -0.33333333333333304,\n",
       " -0.33333333333333304,\n",
       " -0.33333333333333304,\n",
       " -0.33333333333333304,\n",
       " -0.33333333333333304,\n",
       " -0.33333333333333304,\n",
       " -0.33333333333333304,\n",
       " -0.33333333333333304,\n",
       " -0.33333333333333304,\n",
       " -0.33333333333333304,\n",
       " -0.33333333333333304,\n",
       " -1.333333333333333,\n",
       " -1.333333333333333,\n",
       " -1.333333333333333,\n",
       " -1.333333333333333,\n",
       " -1.333333333333333,\n",
       " -1.333333333333333,\n",
       " -1.333333333333333,\n",
       " -1.333333333333333,\n",
       " -1.333333333333333,\n",
       " -1.333333333333333,\n",
       " -1.333333333333333,\n",
       " -1.333333333333333,\n",
       " -1.333333333333333,\n",
       " -1.333333333333333,\n",
       " -1.333333333333333,\n",
       " -1.333333333333333,\n",
       " -1.333333333333333,\n",
       " -1.333333333333333,\n",
       " -1.333333333333333,\n",
       " -1.333333333333333,\n",
       " -1.333333333333333,\n",
       " -1.333333333333333,\n",
       " -2.333333333333333,\n",
       " -2.333333333333333,\n",
       " -2.333333333333333,\n",
       " -2.333333333333333,\n",
       " -2.333333333333333,\n",
       " -2.333333333333333,\n",
       " -2.333333333333333,\n",
       " -2.333333333333333,\n",
       " -2.333333333333333,\n",
       " -2.333333333333333,\n",
       " -2.333333333333333,\n",
       " -2.333333333333333,\n",
       " -2.333333333333333,\n",
       " -2.333333333333333,\n",
       " -2.333333333333333,\n",
       " -2.333333333333333,\n",
       " -2.333333333333333,\n",
       " -3.333333333333333,\n",
       " -3.333333333333333,\n",
       " -3.333333333333333,\n",
       " -3.333333333333333,\n",
       " -3.333333333333333,\n",
       " -3.333333333333333,\n",
       " -3.333333333333333,\n",
       " -3.333333333333333,\n",
       " -3.333333333333333,\n",
       " -3.333333333333333,\n",
       " -3.333333333333333,\n",
       " -3.333333333333333,\n",
       " -3.333333333333333,\n",
       " -3.333333333333333,\n",
       " -3.333333333333333,\n",
       " -3.333333333333333,\n",
       " -3.333333333333333,\n",
       " -3.333333333333333,\n",
       " -3.333333333333333,\n",
       " -3.333333333333333,\n",
       " -4.333333333333333,\n",
       " -4.333333333333333,\n",
       " -4.333333333333333,\n",
       " -4.333333333333333,\n",
       " -4.333333333333333,\n",
       " -4.333333333333333,\n",
       " -4.333333333333333,\n",
       " -4.333333333333333,\n",
       " -4.333333333333333,\n",
       " -4.333333333333333,\n",
       " -4.333333333333333,\n",
       " -4.333333333333333,\n",
       " -4.333333333333333,\n",
       " -4.333333333333333,\n",
       " -4.333333333333333,\n",
       " -4.333333333333333,\n",
       " -4.333333333333333,\n",
       " -4.333333333333333,\n",
       " -4.333333333333333,\n",
       " -4.333333333333333,\n",
       " -5.333333333333333,\n",
       " -5.333333333333333,\n",
       " -5.333333333333333,\n",
       " -5.333333333333333,\n",
       " -5.333333333333333,\n",
       " -5.333333333333333,\n",
       " -5.333333333333333,\n",
       " -5.333333333333333,\n",
       " -5.333333333333333,\n",
       " -5.333333333333333,\n",
       " -5.333333333333333,\n",
       " -5.333333333333333,\n",
       " -5.333333333333333,\n",
       " -5.333333333333333,\n",
       " -5.333333333333333,\n",
       " -5.333333333333333,\n",
       " -5.333333333333333,\n",
       " -6.333333333333333,\n",
       " -6.333333333333333,\n",
       " -6.333333333333333,\n",
       " -6.333333333333333,\n",
       " -6.333333333333333,\n",
       " -6.333333333333333,\n",
       " -6.333333333333333,\n",
       " -6.333333333333333,\n",
       " -6.333333333333333,\n",
       " -6.333333333333333,\n",
       " -6.333333333333333,\n",
       " -6.333333333333333,\n",
       " -6.333333333333333,\n",
       " -6.333333333333333,\n",
       " -6.333333333333333,\n",
       " -6.333333333333333,\n",
       " -6.333333333333333,\n",
       " -6.333333333333333,\n",
       " -6.333333333333333,\n",
       " -6.333333333333333,\n",
       " -6.333333333333333,\n",
       " -6.333333333333333]"
      ]
     },
     "execution_count": 16,
     "metadata": {},
     "output_type": "execute_result"
    }
   ],
   "source": [
    "deviation(num_friends)"
   ]
  },
  {
   "cell_type": "code",
   "execution_count": 17,
   "metadata": {
    "collapsed": true
   },
   "outputs": [],
   "source": [
    "def squared_deviation(vec):\n",
    "    pop_mean = mean(vec)\n",
    "    return [(x_i - pop_mean)**2 for x_i in vec]"
   ]
  },
  {
   "cell_type": "code",
   "execution_count": 18,
   "metadata": {},
   "outputs": [
    {
     "data": {
      "text/plain": [
       "[8587.111111111111,\n",
       " 1736.1111111111109,\n",
       " 1133.4444444444443,\n",
       " 1067.1111111111109,\n",
       " 312.11111111111114,\n",
       " 186.7777777777778,\n",
       " 186.7777777777778,\n",
       " 136.11111111111114,\n",
       " 136.11111111111114,\n",
       " 113.7777777777778,\n",
       " 113.7777777777778,\n",
       " 75.11111111111113,\n",
       " 58.777777777777786,\n",
       " 58.777777777777786,\n",
       " 58.777777777777786,\n",
       " 58.777777777777786,\n",
       " 44.44444444444445,\n",
       " 44.44444444444445,\n",
       " 32.111111111111114,\n",
       " 32.111111111111114,\n",
       " 32.111111111111114,\n",
       " 32.111111111111114,\n",
       " 21.777777777777782,\n",
       " 21.777777777777782,\n",
       " 13.444444444444446,\n",
       " 7.1111111111111125,\n",
       " 7.1111111111111125,\n",
       " 7.1111111111111125,\n",
       " 7.1111111111111125,\n",
       " 7.1111111111111125,\n",
       " 7.1111111111111125,\n",
       " 7.1111111111111125,\n",
       " 7.1111111111111125,\n",
       " 7.1111111111111125,\n",
       " 7.1111111111111125,\n",
       " 7.1111111111111125,\n",
       " 7.1111111111111125,\n",
       " 7.1111111111111125,\n",
       " 7.1111111111111125,\n",
       " 7.1111111111111125,\n",
       " 2.7777777777777786,\n",
       " 2.7777777777777786,\n",
       " 2.7777777777777786,\n",
       " 2.7777777777777786,\n",
       " 2.7777777777777786,\n",
       " 2.7777777777777786,\n",
       " 2.7777777777777786,\n",
       " 2.7777777777777786,\n",
       " 2.7777777777777786,\n",
       " 2.7777777777777786,\n",
       " 2.7777777777777786,\n",
       " 2.7777777777777786,\n",
       " 2.7777777777777786,\n",
       " 2.7777777777777786,\n",
       " 2.7777777777777786,\n",
       " 2.7777777777777786,\n",
       " 2.7777777777777786,\n",
       " 2.7777777777777786,\n",
       " 0.44444444444444486,\n",
       " 0.44444444444444486,\n",
       " 0.44444444444444486,\n",
       " 0.44444444444444486,\n",
       " 0.44444444444444486,\n",
       " 0.44444444444444486,\n",
       " 0.44444444444444486,\n",
       " 0.44444444444444486,\n",
       " 0.44444444444444486,\n",
       " 0.44444444444444486,\n",
       " 0.44444444444444486,\n",
       " 0.44444444444444486,\n",
       " 0.44444444444444486,\n",
       " 0.11111111111111091,\n",
       " 0.11111111111111091,\n",
       " 0.11111111111111091,\n",
       " 0.11111111111111091,\n",
       " 0.11111111111111091,\n",
       " 0.11111111111111091,\n",
       " 0.11111111111111091,\n",
       " 0.11111111111111091,\n",
       " 0.11111111111111091,\n",
       " 0.11111111111111091,\n",
       " 0.11111111111111091,\n",
       " 0.11111111111111091,\n",
       " 0.11111111111111091,\n",
       " 0.11111111111111091,\n",
       " 0.11111111111111091,\n",
       " 1.777777777777777,\n",
       " 1.777777777777777,\n",
       " 1.777777777777777,\n",
       " 1.777777777777777,\n",
       " 1.777777777777777,\n",
       " 1.777777777777777,\n",
       " 1.777777777777777,\n",
       " 1.777777777777777,\n",
       " 1.777777777777777,\n",
       " 1.777777777777777,\n",
       " 1.777777777777777,\n",
       " 1.777777777777777,\n",
       " 1.777777777777777,\n",
       " 1.777777777777777,\n",
       " 1.777777777777777,\n",
       " 1.777777777777777,\n",
       " 1.777777777777777,\n",
       " 1.777777777777777,\n",
       " 1.777777777777777,\n",
       " 1.777777777777777,\n",
       " 1.777777777777777,\n",
       " 1.777777777777777,\n",
       " 5.444444444444443,\n",
       " 5.444444444444443,\n",
       " 5.444444444444443,\n",
       " 5.444444444444443,\n",
       " 5.444444444444443,\n",
       " 5.444444444444443,\n",
       " 5.444444444444443,\n",
       " 5.444444444444443,\n",
       " 5.444444444444443,\n",
       " 5.444444444444443,\n",
       " 5.444444444444443,\n",
       " 5.444444444444443,\n",
       " 5.444444444444443,\n",
       " 5.444444444444443,\n",
       " 5.444444444444443,\n",
       " 5.444444444444443,\n",
       " 5.444444444444443,\n",
       " 11.111111111111109,\n",
       " 11.111111111111109,\n",
       " 11.111111111111109,\n",
       " 11.111111111111109,\n",
       " 11.111111111111109,\n",
       " 11.111111111111109,\n",
       " 11.111111111111109,\n",
       " 11.111111111111109,\n",
       " 11.111111111111109,\n",
       " 11.111111111111109,\n",
       " 11.111111111111109,\n",
       " 11.111111111111109,\n",
       " 11.111111111111109,\n",
       " 11.111111111111109,\n",
       " 11.111111111111109,\n",
       " 11.111111111111109,\n",
       " 11.111111111111109,\n",
       " 11.111111111111109,\n",
       " 11.111111111111109,\n",
       " 11.111111111111109,\n",
       " 18.777777777777775,\n",
       " 18.777777777777775,\n",
       " 18.777777777777775,\n",
       " 18.777777777777775,\n",
       " 18.777777777777775,\n",
       " 18.777777777777775,\n",
       " 18.777777777777775,\n",
       " 18.777777777777775,\n",
       " 18.777777777777775,\n",
       " 18.777777777777775,\n",
       " 18.777777777777775,\n",
       " 18.777777777777775,\n",
       " 18.777777777777775,\n",
       " 18.777777777777775,\n",
       " 18.777777777777775,\n",
       " 18.777777777777775,\n",
       " 18.777777777777775,\n",
       " 18.777777777777775,\n",
       " 18.777777777777775,\n",
       " 18.777777777777775,\n",
       " 28.444444444444443,\n",
       " 28.444444444444443,\n",
       " 28.444444444444443,\n",
       " 28.444444444444443,\n",
       " 28.444444444444443,\n",
       " 28.444444444444443,\n",
       " 28.444444444444443,\n",
       " 28.444444444444443,\n",
       " 28.444444444444443,\n",
       " 28.444444444444443,\n",
       " 28.444444444444443,\n",
       " 28.444444444444443,\n",
       " 28.444444444444443,\n",
       " 28.444444444444443,\n",
       " 28.444444444444443,\n",
       " 28.444444444444443,\n",
       " 28.444444444444443,\n",
       " 40.11111111111111,\n",
       " 40.11111111111111,\n",
       " 40.11111111111111,\n",
       " 40.11111111111111,\n",
       " 40.11111111111111,\n",
       " 40.11111111111111,\n",
       " 40.11111111111111,\n",
       " 40.11111111111111,\n",
       " 40.11111111111111,\n",
       " 40.11111111111111,\n",
       " 40.11111111111111,\n",
       " 40.11111111111111,\n",
       " 40.11111111111111,\n",
       " 40.11111111111111,\n",
       " 40.11111111111111,\n",
       " 40.11111111111111,\n",
       " 40.11111111111111,\n",
       " 40.11111111111111,\n",
       " 40.11111111111111,\n",
       " 40.11111111111111,\n",
       " 40.11111111111111,\n",
       " 40.11111111111111]"
      ]
     },
     "execution_count": 18,
     "metadata": {},
     "output_type": "execute_result"
    }
   ],
   "source": [
    "squared_deviation(num_friends)"
   ]
  },
  {
   "cell_type": "code",
   "execution_count": 19,
   "metadata": {
    "collapsed": true
   },
   "outputs": [],
   "source": [
    "def variance(vec):\n",
    "    return mean(squared_deviation(vec))"
   ]
  },
  {
   "cell_type": "code",
   "execution_count": 20,
   "metadata": {},
   "outputs": [
    {
     "data": {
      "text/plain": [
       "81.14379084967331"
      ]
     },
     "execution_count": 20,
     "metadata": {},
     "output_type": "execute_result"
    }
   ],
   "source": [
    "variance(num_friends)"
   ]
  },
  {
   "cell_type": "code",
   "execution_count": 21,
   "metadata": {
    "collapsed": true
   },
   "outputs": [],
   "source": [
    "from math import sqrt"
   ]
  },
  {
   "cell_type": "code",
   "execution_count": 22,
   "metadata": {
    "collapsed": true
   },
   "outputs": [],
   "source": [
    "def standard_deviation(vec):\n",
    "    return sqrt(variance(vec))"
   ]
  },
  {
   "cell_type": "code",
   "execution_count": 23,
   "metadata": {},
   "outputs": [
    {
     "data": {
      "text/plain": [
       "9.007984838446017"
      ]
     },
     "execution_count": 23,
     "metadata": {},
     "output_type": "execute_result"
    }
   ],
   "source": [
    "standard_deviation(num_friends)"
   ]
  },
  {
   "cell_type": "code",
   "execution_count": 24,
   "metadata": {
    "collapsed": true
   },
   "outputs": [],
   "source": [
    "def sample_standard_deviation(vec):\n",
    "    return sqrt(sum(squared_deviation(vec)) / (len(vec) - 1))"
   ]
  },
  {
   "cell_type": "code",
   "execution_count": 25,
   "metadata": {},
   "outputs": [
    {
     "data": {
      "text/plain": [
       "9.03014473623248"
      ]
     },
     "execution_count": 25,
     "metadata": {},
     "output_type": "execute_result"
    }
   ],
   "source": [
    "sample_standard_deviation(num_friends)"
   ]
  },
  {
   "cell_type": "markdown",
   "metadata": {},
   "source": [
    "## Correlacao"
   ]
  },
  {
   "cell_type": "code",
   "execution_count": 26,
   "metadata": {
    "collapsed": true
   },
   "outputs": [],
   "source": [
    "daily_minutes = [1,68.77,51.25,52.08,38.36,44.54,57.13,51.4,41.42,31.22,34.76,54.01,38.79,47.59,49.1,27.66,41.03,36.73,48.65,28.12,46.62,35.57,32.98,35,26.07,23.77,39.73,40.57,31.65,31.21,36.32,20.45,21.93,26.02,27.34,23.49,46.94,30.5,33.8,24.23,21.4,27.94,32.24,40.57,25.07,19.42,22.39,18.42,46.96,23.72,26.41,26.97,36.76,40.32,35.02,29.47,30.2,31,38.11,38.18,36.31,21.03,30.86,36.07,28.66,29.08,37.28,15.28,24.17,22.31,30.17,25.53,19.85,35.37,44.6,17.23,13.47,26.33,35.02,32.09,24.81,19.33,28.77,24.26,31.98,25.73,24.86,16.28,34.51,15.23,39.72,40.8,26.06,35.76,34.76,16.13,44.04,18.03,19.65,32.62,35.59,39.43,14.18,35.24,40.13,41.82,35.45,36.07,43.67,24.61,20.9,21.9,18.79,27.61,27.21,26.61,29.77,20.59,27.53,13.82,33.2,25,33.1,36.65,18.63,14.87,22.2,36.81,25.53,24.62,26.25,18.21,28.08,19.42,29.79,32.8,35.99,28.32,27.79,35.88,29.06,36.28,14.1,36.63,37.49,26.9,18.58,38.48,24.48,18.95,33.55,14.24,29.04,32.51,25.63,22.22,19,32.73,15.16,13.9,27.2,32.01,29.27,33,13.74,20.42,27.32,18.23,35.35,28.48,9.08,24.62,20.12,35.26,19.92,31.02,16.49,12.16,30.7,31.22,34.65,13.13,27.51,33.2,31.57,14.1,33.42,17.44,10.12,24.42,9.82,23.39,30.93,15.03,21.67,31.09,33.29,22.61,26.89,23.48,8.38,27.81,32.35,23.84]"
   ]
  },
  {
   "cell_type": "code",
   "execution_count": 27,
   "metadata": {
    "collapsed": true
   },
   "outputs": [],
   "source": [
    "def covariance(vec1, vec2):\n",
    "    n = len(vec1)\n",
    "    return la.dot_product(deviation(vec1), deviation(vec2)) / (n-1)"
   ]
  },
  {
   "cell_type": "markdown",
   "metadata": {},
   "source": [
    "#### lembre-se que o 'dot product' resume os produtos do pares correspondentes aos elementos.Quando os elementos correspondentes de vec1 e vec2 estao acima ou abaixo das suas medias, um numero positivo entra na soma. Quando esta acima da media e o outro esta abaixo, um numero negativo entra na soma. Na mesma proporcao, uma covariancia positva 'grande' significa que vec1 tende a ser grande quando vec2 eh grande e pequeno quando  vec2 eh pequeno. Uma covariancia negativa 'grande' significa o oposto - que vec1 tende a ser pequeno quando vec2 eh grande e vice versa. Uma covariancia perto de zero significa que tal realacao nao existe."
   ]
  },
  {
   "cell_type": "code",
   "execution_count": 28,
   "metadata": {},
   "outputs": [
    {
     "data": {
      "text/plain": [
       "22.425435139573064"
      ]
     },
     "execution_count": 28,
     "metadata": {},
     "output_type": "execute_result"
    }
   ],
   "source": [
    "covariance(num_friends, daily_minutes)"
   ]
  },
  {
   "cell_type": "code",
   "execution_count": 29,
   "metadata": {
    "collapsed": true
   },
   "outputs": [],
   "source": [
    "def correlation(vec1, vec2):\n",
    "    stdev_1 = standard_deviation(vec1)\n",
    "    stdev_2 = standard_deviation(vec2)\n",
    "    if (stdev_1 > 0 and stdev_2 > 0):\n",
    "        return covariance(vec1, vec2) / stdev_1 / stdev_2\n",
    "    else:\n",
    "        return 0 #se nao houver amplitude a correlacao eh zero"
   ]
  },
  {
   "cell_type": "markdown",
   "metadata": {},
   "source": [
    "#### a correlacao na possui unidade e sempre permanece entre -1 (anticorrelacao perfeita) e 1 (correlacao perfeita). Um nro com correlacao 0.25 representa uma correlacao positivamente fraca"
   ]
  },
  {
   "cell_type": "code",
   "execution_count": 30,
   "metadata": {},
   "outputs": [
    {
     "data": {
      "text/plain": [
       "0.24858814299318005"
      ]
     },
     "execution_count": 30,
     "metadata": {},
     "output_type": "execute_result"
    }
   ],
   "source": [
    "correlation(num_friends, daily_minutes)"
   ]
  },
  {
   "cell_type": "code",
   "execution_count": 31,
   "metadata": {
    "collapsed": true
   },
   "outputs": [],
   "source": [
    "outlier = num_friends.index(100) # index of outlier\n",
    "\n",
    "num_friends_good = [x\n",
    "                    for i, x in enumerate(num_friends)\n",
    "                    if i != outlier]\n",
    "\n",
    "daily_minutes_good = [x\n",
    "                      for i, x in enumerate(daily_minutes)\n",
    "                      if i != outlier]"
   ]
  },
  {
   "cell_type": "code",
   "execution_count": 32,
   "metadata": {},
   "outputs": [
    {
     "data": {
      "text/plain": [
       "0.5765192076634214"
      ]
     },
     "execution_count": 32,
     "metadata": {},
     "output_type": "execute_result"
    }
   ],
   "source": [
    "correlation(num_friends_good, daily_minutes_good)"
   ]
  },
  {
   "cell_type": "markdown",
   "metadata": {
    "collapsed": true
   },
   "source": [
    "## Probabilidade\n",
    "### Distribuicoes Continuas"
   ]
  },
  {
   "cell_type": "code",
   "execution_count": 33,
   "metadata": {
    "collapsed": true
   },
   "outputs": [],
   "source": [
    "def uniform_pdf(x):\n",
    "    return 1 if x>=0 or x < 1 else 0"
   ]
  },
  {
   "cell_type": "markdown",
   "metadata": {},
   "source": [
    "#### cdf retorna a probabilidade de uma variavel aleatoria uniforme ser <=x"
   ]
  },
  {
   "cell_type": "code",
   "execution_count": 34,
   "metadata": {
    "collapsed": true
   },
   "outputs": [],
   "source": [
    "def uniform_cdf(x):\n",
    "    if x < 0: return 0     #a aleatoria uniforme nunca eh menor do que 0\n",
    "    elif x < 1: return x   #por exemplo P(X<=0.4) = 0.4\n",
    "    else: return 1         #a aleatoria uniforme sempre eh menor do que 1"
   ]
  },
  {
   "cell_type": "markdown",
   "metadata": {},
   "source": [
    "### Distribuicao Normal"
   ]
  },
  {
   "cell_type": "code",
   "execution_count": 35,
   "metadata": {
    "collapsed": true
   },
   "outputs": [],
   "source": [
    "def normal_pdf(x, mu=0, sigma=0):\n",
    "    sqrt_two_pi = math.sqrt(2* math.pi)\n",
    "    try:\n",
    "         return(math.exp(-(x-mu) ** 2 / 2 / sigma **2 )/ (sqrt_two_pi * sigma))\n",
    "    except:\n",
    "        return -1\n",
    "   "
   ]
  },
  {
   "cell_type": "code",
   "execution_count": 36,
   "metadata": {},
   "outputs": [
    {
     "data": {
      "image/png": "[encoded data removed]",
      "text/plain": [
       "<matplotlib.figure.Figure at 0x285b0190dd8>"
      ]
     },
     "metadata": {},
     "output_type": "display_data"
    }
   ],
   "source": [
    "xs = [ x / 10.0 for x in range(-50,50)]\n",
    "plt.plot(xs, [normal_pdf(x, sigma=1) for x in xs], '-', label='mu=0, sigma=1')\n",
    "plt.plot(xs, [normal_pdf(x, sigma=2) for x in xs], '--', label='mu=0, sigma=2')\n",
    "plt.plot(xs, [normal_pdf(x, sigma=0.5) for x in xs], ':', label='mu=0, sigma=0.5')\n",
    "plt.plot(xs, [normal_pdf(x, mu=-1, sigma=1) for x in xs], '-.', label='mu=-1, sigma=1')\n",
    "plt.legend()\n",
    "plt.title(\"Diversas Funcoes de Densidade de Probabilidade Normais\")\n",
    "plt.show()"
   ]
  },
  {
   "cell_type": "code",
   "execution_count": 37,
   "metadata": {
    "collapsed": true
   },
   "outputs": [],
   "source": [
    "def normal_cdf(x, mu=0, sigma=1):\n",
    "    return (1 + math.erf((x - mu) / math.sqrt(2) / sigma)) / 2\n",
    "\n",
    "def inverse_normal_cdf(p, mu=0, sigma=1, tolerance=0.00001):\n",
    "    \"\"\"find approximate inverse using binary search\"\"\"\n",
    "\n",
    "    # if not standard, compute standard and rescale\n",
    "    if mu != 0 or sigma != 1:\n",
    "        return mu + sigma * inverse_normal_cdf(p, tolerance=tolerance)\n",
    "\n",
    "    low_z, low_p = -10.0, 0            # normal_cdf(-10) is (very close to) 0\n",
    "    hi_z,  hi_p  =  10.0, 1            # normal_cdf(10)  is (very close to) 1\n",
    "    while hi_z - low_z > tolerance:\n",
    "        mid_z = (low_z + hi_z) / 2     # consider the midpoint\n",
    "        mid_p = normal_cdf(mid_z)      # and the cdf's value there\n",
    "        if mid_p < p:\n",
    "            # midpoint is still too low, search above it\n",
    "            low_z, low_p = mid_z, mid_p\n",
    "        elif mid_p > p:\n",
    "            # midpoint is still too high, search below it\n",
    "            hi_z, hi_p = mid_z, mid_p\n",
    "        else:\n",
    "            break\n",
    "\n",
    "    return mid_z"
   ]
  },
  {
   "cell_type": "code",
   "execution_count": 38,
   "metadata": {},
   "outputs": [
    {
     "data": {
      "image/png": "[encoded data removed]",
      "text/plain": [
       "<matplotlib.figure.Figure at 0x285b0348a58>"
      ]
     },
     "metadata": {},
     "output_type": "display_data"
    }
   ],
   "source": [
    "plt.plot(xs, [normal_cdf(x, sigma=1) for x in xs], '-', label='mu=0, sigma=1')\n",
    "plt.plot(xs, [normal_cdf(x, sigma=2) for x in xs], '--', label='mu=0, sigma=2')\n",
    "plt.plot(xs, [normal_cdf(x, sigma=0.5) for x in xs], ':', label='mu=0, sigma=0.5')\n",
    "plt.plot(xs, [normal_cdf(x, mu=-1, sigma=1) for x in xs], '-.', label='mu=-1, sigma=1')\n",
    "plt.legend()\n",
    "plt.title(\"Diversas Funcoes de Densidade de Distribuicao Cumulativa\")\n",
    "plt.show()"
   ]
  },
  {
   "cell_type": "markdown",
   "metadata": {
    "collapsed": true
   },
   "source": [
    "### TEOREMA LIMITE CENTRAL\n",
    "##### UMA VARIAVEL ALEATORIA DEFINIDA COMO A MEDIA DE UMA GRANDE QUANTIDADE DE VARIAVEIS ALEATORIAS DISTRIBUIDAS INDEPENDENTE E IDENTICAMENTE EH ELA MESMA APROXIMADAMENTE DISTRIBUIDA NORMALMENTE"
   ]
  },
  {
   "cell_type": "code",
   "execution_count": 39,
   "metadata": {
    "collapsed": true
   },
   "outputs": [],
   "source": [
    "import random\n",
    "\n",
    "def bernoulli_trial(p):\n",
    "    return 1 if random.random() < p else 0\n",
    "\n",
    "def binomial(n, p):\n",
    "    return sum(bernoulli_trial(p) for _ in range(n))"
   ]
  },
  {
   "cell_type": "code",
   "execution_count": 40,
   "metadata": {
    "collapsed": true
   },
   "outputs": [],
   "source": [
    "def make_hist(p, n, num_points):\n",
    "    data = [binomial(n,p) for _ in range(num_points)]\n",
    "    histogram = Counter(data)\n",
    "    plt.bar([x - 0.4 for x in histogram.keys()],\n",
    "           [v / num_points for v in histogram.values()],\n",
    "           0.8,\n",
    "           color = '0.75')\n",
    "    mu , sigma = normal_approximation_to_binominal(n, p)\n",
    "    xs = range(min(data), max(data) + 1)\n",
    "    ys = [normal_cdf(i + 0.5, mu, sigma) - normal_cdf(i - 0.5, mu, sigma)\n",
    "         for i in xs]\n",
    "    plt.plot(xs, ys)\n",
    "    plt.title('Binominal Distribution X Normal Approximation')\n",
    "    plt.show()\n",
    "\n",
    "def normal_approximation_to_binominal(n,p):\n",
    "    mu = p * n\n",
    "    sigma = math.sqrt(n * p * (1-p))\n",
    "    return mu, sigma"
   ]
  },
  {
   "cell_type": "code",
   "execution_count": 41,
   "metadata": {},
   "outputs": [
    {
     "data": {
      "image/png": "[encoded data removed]",
      "text/plain": [
       "<matplotlib.figure.Figure at 0x285b0720550>"
      ]
     },
     "metadata": {},
     "output_type": "display_data"
    }
   ],
   "source": [
    "make_hist(0.75, 100, 10000)"
   ]
  },
  {
   "cell_type": "markdown",
   "metadata": {},
   "source": [
    "## HIPOTESE E INFERENCIA"
   ]
  },
  {
   "cell_type": "markdown",
   "metadata": {},
   "source": [
    "##### sempre que uma variavel aleatoria segue uma distribuicao normal, podemos usar normal_cdf para descobrir a probilidade dos seus valores resultantes serem internos ou externos a um valor especial"
   ]
  },
  {
   "cell_type": "code",
   "execution_count": 42,
   "metadata": {
    "collapsed": true
   },
   "outputs": [],
   "source": [
    "def normal_probability_above(lo, mu=0, sigma=1):\n",
    "    return 1 - normal_cdf(lo, mu, sigma)\n",
    "\n",
    "def normal_probaliblity_between(lo, hi, mu=0, sigma=1):\n",
    "    return normal_cdf(hi, mu, sigma) - normal_cdf(lo, mu, sigma)\n",
    "\n",
    "def normal_probability_outside(lo, hi, mu=0, sigma=1):\n",
    "    return 1 - normal_probaliblity_between(lo, hi, mu, sigma)"
   ]
  },
  {
   "cell_type": "markdown",
   "metadata": {},
   "source": [
    "##### tbm podemos encontrar a regiao sem aba ou intervalo (simetrico) em torno da media que contribui para o nivel de probabilidade. Por exemplo, se quisermos encontrar um intervalo centrado na media contendo 60% de probabilidade, entao encontraremos os cortes onde as abas inferiores e superiores contem 20% de probabilidade cada."
   ]
  },
  {
   "cell_type": "code",
   "execution_count": 43,
   "metadata": {
    "collapsed": true
   },
   "outputs": [],
   "source": [
    "def normal_upper_bound(probability, mu=0, sigma=1):\n",
    "    \"\"\"returns the z for which P(Z <= z) = probability\"\"\"\n",
    "    return inverse_normal_cdf(probability, mu, sigma)\n",
    "\n",
    "def normal_lower_bound(probability, mu=0, sigma=1):\n",
    "    \"\"\"returns the z for which P(Z >= z) = probability\"\"\"\n",
    "    return inverse_normal_cdf(1 - probability, mu, sigma)\n",
    "\n",
    "def normal_two_sided_bounds(probability, mu=0, sigma=1):\n",
    "    \"\"\"returns the symmetric (about the mean) bounds\n",
    "    that contain the specified probability\"\"\"\n",
    "    tail_probability = (1 - probability) / 2\n",
    "\n",
    "    # upper bound should have tail_probability above it\n",
    "    upper_bound = normal_lower_bound(tail_probability, mu, sigma)\n",
    "\n",
    "    # lower bound should have tail_probability below it\n",
    "    lower_bound = normal_upper_bound(tail_probability, mu, sigma)\n",
    "\n",
    "    return lower_bound, upper_bound"
   ]
  },
  {
   "cell_type": "code",
   "execution_count": 44,
   "metadata": {},
   "outputs": [
    {
     "data": {
      "text/plain": [
       "(469.01026640487555, 530.9897335951244)"
      ]
     },
     "execution_count": 44,
     "metadata": {},
     "output_type": "execute_result"
    }
   ],
   "source": [
    "m , s = normal_approximation_to_binominal(1000,0.5)\n",
    "normal_two_sided_bounds(0.95, m, s)"
   ]
  },
  {
   "cell_type": "markdown",
   "metadata": {
    "collapsed": true
   },
   "source": [
    "### p-values"
   ]
  },
  {
   "cell_type": "code",
   "execution_count": null,
   "metadata": {
    "collapsed": true
   },
   "outputs": [],
   "source": []
  }
 ],
 "metadata": {
  "kernelspec": {
   "display_name": "Python 3",
   "language": "python",
   "name": "python3"
  },
  "language_info": {
   "codemirror_mode": {
    "name": "ipython",
    "version": 3
   },
   "file_extension": ".py",
   "mimetype": "text/x-python",
   "name": "python",
   "nbconvert_exporter": "python",
   "pygments_lexer": "ipython3",
   "version": "3.6.1"
  }
 },
 "nbformat": 4,
 "nbformat_minor": 2
}
